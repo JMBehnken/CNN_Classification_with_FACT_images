{
 "cells": [
  {
   "cell_type": "markdown",
   "metadata": {
    "deletable": true,
    "editable": true
   },
   "source": [
    "# Joining & Plotting\n",
    "\n",
    "This notbook contains the code to join the predicted Crab1314 events with the preprocessed Crab1314 theta-values on their night-run-event-id."
   ]
  },
  {
   "cell_type": "code",
   "execution_count": 1,
   "metadata": {
    "collapsed": true,
    "deletable": true,
    "editable": true
   },
   "outputs": [],
   "source": [
    "import pandas as pd\n",
    "import numpy as np\n",
    "import h5py\n",
    "import os"
   ]
  },
  {
   "cell_type": "code",
   "execution_count": 2,
   "metadata": {
    "collapsed": false,
    "deletable": true,
    "editable": true
   },
   "outputs": [],
   "source": [
    "model_folder_name = '3_cccff'\n",
    "main_path = '/fhgfs/users/jbehnken/01_Data/04_Models'\n",
    "prediction_path = os.path.join(main_path, model_folder_name, model_folder_name.split('_')[-1]+'_prediction.csv')\n",
    "plotting_path = os.path.join(main_path, model_folder_name, model_folder_name.split('_')[-1]+'_plotting.h5')"
   ]
  },
  {
   "cell_type": "code",
   "execution_count": 3,
   "metadata": {
    "collapsed": false,
    "deletable": true,
    "editable": true
   },
   "outputs": [
    {
     "data": {
      "text/plain": [
       "(7880579, 22)"
      ]
     },
     "execution_count": 3,
     "metadata": {},
     "output_type": "execute_result"
    }
   ],
   "source": [
    "keys_1 = ['event_num', 'night', 'run_id', 'theta', 'theta_deg', 'theta_deg_off_1', 'theta_deg_off_2', 'theta_deg_off_3', 'theta_deg_off_4', 'theta_deg_off_5', 'theta_off_1', 'theta_off_1_rec_pos', 'theta_off_2', 'theta_off_2_rec_pos', 'theta_off_3', 'theta_off_3_rec_pos', 'theta_off_4', 'theta_off_4_rec_pos', 'theta_off_5', 'theta_off_5_rec_pos', 'theta_rec_pos', 'unix_time_utc']\n",
    "keys_2 = ['run_start', 'run_stop']\n",
    "\n",
    "with h5py.File('/net/big-tank/POOL/projects/fact/datasets/Crab1314_darknight_std_analysis_0.17.2.hdf5', 'r') as f:\n",
    "    data_1  = []\n",
    "    data_2  = []\n",
    "    for key in keys_1:\n",
    "        data_1.append(np.array(f['events'][key]))\n",
    "    for key in keys_2:\n",
    "        data_2.append(np.array(f['runs'][key]))\n",
    "        \n",
    "data_1 = list(map(list, zip(*data_1)))\n",
    "df_crab = pd.DataFrame(data_1)\n",
    "df_crab.columns = keys_1\n",
    "del data_1\n",
    "\n",
    "data_2 = list(map(list, zip(*data_2)))\n",
    "df_crab_runs = pd.DataFrame(data_2)\n",
    "df_crab_runs.columns = keys_2\n",
    "del data_2\n",
    "\n",
    "df_crab.shape"
   ]
  },
  {
   "cell_type": "code",
   "execution_count": 4,
   "metadata": {
    "collapsed": false
   },
   "outputs": [
    {
     "data": {
      "text/html": [
       "<div>\n",
       "<table border=\"1\" class=\"dataframe\">\n",
       "  <thead>\n",
       "    <tr style=\"text-align: right;\">\n",
       "      <th></th>\n",
       "      <th>run_start</th>\n",
       "      <th>run_stop</th>\n",
       "    </tr>\n",
       "  </thead>\n",
       "  <tbody>\n",
       "    <tr>\n",
       "      <th>0</th>\n",
       "      <td>b'2013-10-04T03:41:35.000000000'</td>\n",
       "      <td>b'2013-10-04T03:46:35.000000000'</td>\n",
       "    </tr>\n",
       "    <tr>\n",
       "      <th>1</th>\n",
       "      <td>b'2013-10-04T03:46:40.000000000'</td>\n",
       "      <td>b'2013-10-04T03:51:40.000000000'</td>\n",
       "    </tr>\n",
       "    <tr>\n",
       "      <th>2</th>\n",
       "      <td>b'2013-10-04T03:51:44.000000000'</td>\n",
       "      <td>b'2013-10-04T03:56:44.000000000'</td>\n",
       "    </tr>\n",
       "    <tr>\n",
       "      <th>3</th>\n",
       "      <td>b'2013-10-04T03:56:49.000000000'</td>\n",
       "      <td>b'2013-10-04T04:01:49.000000000'</td>\n",
       "    </tr>\n",
       "    <tr>\n",
       "      <th>4</th>\n",
       "      <td>b'2013-10-04T04:08:55.000000000'</td>\n",
       "      <td>b'2013-10-04T04:13:55.000000000'</td>\n",
       "    </tr>\n",
       "  </tbody>\n",
       "</table>\n",
       "</div>"
      ],
      "text/plain": [
       "                          run_start                          run_stop\n",
       "0  b'2013-10-04T03:41:35.000000000'  b'2013-10-04T03:46:35.000000000'\n",
       "1  b'2013-10-04T03:46:40.000000000'  b'2013-10-04T03:51:40.000000000'\n",
       "2  b'2013-10-04T03:51:44.000000000'  b'2013-10-04T03:56:44.000000000'\n",
       "3  b'2013-10-04T03:56:49.000000000'  b'2013-10-04T04:01:49.000000000'\n",
       "4  b'2013-10-04T04:08:55.000000000'  b'2013-10-04T04:13:55.000000000'"
      ]
     },
     "execution_count": 4,
     "metadata": {},
     "output_type": "execute_result"
    }
   ],
   "source": [
    "df_crab_runs.head()"
   ]
  },
  {
   "cell_type": "code",
   "execution_count": 5,
   "metadata": {
    "collapsed": false,
    "deletable": true,
    "editable": true
   },
   "outputs": [
    {
     "data": {
      "text/html": [
       "<div>\n",
       "<table border=\"1\" class=\"dataframe\">\n",
       "  <thead>\n",
       "    <tr style=\"text-align: right;\">\n",
       "      <th></th>\n",
       "      <th>night</th>\n",
       "      <th>run_id</th>\n",
       "      <th>event_num</th>\n",
       "      <th>proton_prediction</th>\n",
       "      <th>gamma_prediction</th>\n",
       "    </tr>\n",
       "  </thead>\n",
       "  <tbody>\n",
       "    <tr>\n",
       "      <th>0</th>\n",
       "      <td>20131003</td>\n",
       "      <td>187</td>\n",
       "      <td>1</td>\n",
       "      <td>1.0</td>\n",
       "      <td>0.000000e+00</td>\n",
       "    </tr>\n",
       "    <tr>\n",
       "      <th>1</th>\n",
       "      <td>20131003</td>\n",
       "      <td>187</td>\n",
       "      <td>2</td>\n",
       "      <td>1.0</td>\n",
       "      <td>2.487662e-36</td>\n",
       "    </tr>\n",
       "  </tbody>\n",
       "</table>\n",
       "</div>"
      ],
      "text/plain": [
       "      night  run_id  event_num  proton_prediction  gamma_prediction\n",
       "0  20131003     187          1                1.0      0.000000e+00\n",
       "1  20131003     187          2                1.0      2.487662e-36"
      ]
     },
     "execution_count": 5,
     "metadata": {},
     "output_type": "execute_result"
    }
   ],
   "source": [
    "df_pred = pd.read_csv(prediction_path)\n",
    "df_pred.columns = ['night', 'run_id', 'event_num', 'proton_prediction', 'gamma_prediction']\n",
    "df_pred.head(2)"
   ]
  },
  {
   "cell_type": "code",
   "execution_count": 6,
   "metadata": {
    "collapsed": false
   },
   "outputs": [
    {
     "data": {
      "text/plain": [
       "(613180, 24)"
      ]
     },
     "execution_count": 6,
     "metadata": {},
     "output_type": "execute_result"
    }
   ],
   "source": [
    "df_merged = pd.merge(df_pred, df_crab, how='inner', on=['event_num', 'night', 'run_id'])\n",
    "df_merged.shape"
   ]
  },
  {
   "cell_type": "code",
   "execution_count": 8,
   "metadata": {
    "collapsed": false
   },
   "outputs": [],
   "source": [
    "with h5py.File(plotting_path, 'w') as hdf:\n",
    "    events = hdf.create_group('events')\n",
    "    dset_gamma_prediction = events.create_dataset('gamma_prediction', data=df_merged['gamma_prediction'].values)\n",
    "    dset_theta = events.create_dataset('theta', data=df_merged['theta'].values)\n",
    "    dset_theta_deg_off_1 = events.create_dataset('theta_deg_off_1', data=df_merged['theta_deg_off_1'].values)\n",
    "    dset_theta_deg_off_2 = events.create_dataset('theta_deg_off_2', data=df_merged['theta_deg_off_2'].values)\n",
    "    dset_theta_deg_off_3 = events.create_dataset('theta_deg_off_3', data=df_merged['theta_deg_off_3'].values)\n",
    "    dset_theta_deg_off_4 = events.create_dataset('theta_deg_off_4', data=df_merged['theta_deg_off_4'].values)\n",
    "    dset_theta_deg_off_5 = events.create_dataset('theta_deg_off_5', data=df_merged['theta_deg_off_5'].values)\n",
    "    dset_theta_deg = events.create_dataset('theta_deg', data=df_merged['theta_deg'].values)\n",
    "    dset_unix_time_utc = events.create_dataset('unix_time_utc', data=df_merged['unix_time_utc'].values.tolist())\n",
    "    \n",
    "    runs = hdf.create_group('runs')\n",
    "    dset_run_start = runs.create_dataset('run_start', data=df_crab_runs['run_start'].values.tolist())\n",
    "    dset_run_stop = runs.create_dataset('run_stop', data=df_crab_runs['run_stop'].values.tolist())"
   ]
  },
  {
   "cell_type": "code",
   "execution_count": null,
   "metadata": {
    "collapsed": true
   },
   "outputs": [],
   "source": []
  },
  {
   "cell_type": "code",
   "execution_count": 15,
   "metadata": {
    "collapsed": false,
    "scrolled": true
   },
   "outputs": [],
   "source": [
    "theta2_cut = 0.8\n",
    "data_path = plotting_path\n",
    "key = 'events'\n",
    "start = None\n",
    "end = None\n",
    "threshold = 0.5\n",
    "bins = 40\n",
    "alpha = 0.2\n",
    "output = False"
   ]
  },
  {
   "cell_type": "code",
   "execution_count": 22,
   "metadata": {
    "collapsed": false
   },
   "outputs": [
    {
     "name": "stdout",
     "output_type": "stream",
     "text": [
      "N_on 2468\n",
      "N_off 11929\n",
      "Li&Ma: 1.5261104473186866\n"
     ]
    },
    {
     "data": {
      "image/png": "[encoded data removed]",
      "text/plain": [
       "<matplotlib.figure.Figure at 0x7f4353da5eb8>"
      ]
     },
     "metadata": {},
     "output_type": "display_data"
    }
   ],
   "source": [
    "import pandas as pd\n",
    "import matplotlib.pyplot as plt\n",
    "import numpy as np\n",
    "import h5py\n",
    "from dateutil.parser import parse as parse_date\n",
    "\n",
    "from fact.io import read_h5py\n",
    "from fact.analysis import (li_ma_significance, split_on_off_source_dependent,)\n",
    "import click\n",
    "\n",
    "columns = [\n",
    "    'gamma_prediction',\n",
    "    'theta_deg',\n",
    "    'theta_deg_off_1',\n",
    "    'theta_deg_off_2',\n",
    "    'theta_deg_off_3',\n",
    "    'theta_deg_off_4',\n",
    "    'theta_deg_off_5',\n",
    "    'unix_time_utc',\n",
    "]\n",
    "\n",
    "stats_box_template = r'''Source: {source}, $t_\\mathrm{{obs}} = {t_obs:.2f}\\,\\mathrm{{h}}$\n",
    "$N_\\mathrm{{On}} = {n_on}$, $N_\\mathrm{{Off}} = {n_off}$, $\\alpha = {alpha}$\n",
    "$N_\\mathrm{{Exc}} = {n_excess:.1f} \\pm {n_excess_err:.1f}$, $S_\\mathrm{{Li&Ma}} = {significance:.1f}\\,\\sigma$\n",
    "'''\n",
    "\n",
    "\n",
    "theta_cut = np.sqrt(theta2_cut)\n",
    "\n",
    "with h5py.File(data_path, 'r') as f:\n",
    "    source_dependent = 'gamma_prediction_off_1' in f[key].keys()\n",
    "\n",
    "if source_dependent:\n",
    "    print('Separation was using source dependent features')\n",
    "    columns.extend('gamma_prediction_off_' + str(i) for i in range(1, 6))\n",
    "    theta_cut = np.inf\n",
    "    theta2_cut = np.inf\n",
    "\n",
    "events = read_h5py(data_path, key='events', columns=columns)\n",
    "events['timestamp'] = pd.to_datetime(events['unix_time_utc_0'] * 1e6 + events['unix_time_utc_1'],unit='us',)\n",
    "runs = read_h5py(data_path, key='runs')\n",
    "runs['run_start'] = pd.to_datetime(runs['run_start'])\n",
    "runs['run_stop'] = pd.to_datetime(runs['run_stop'])\n",
    "\n",
    "if start is not None:\n",
    "    events = events.query('timestamp >= @start')\n",
    "    runs = runs.query('run_start >= @start')\n",
    "if end is not None:\n",
    "    events = events.query('timestamp <= @end')\n",
    "    runs = runs.query('run_stop <= @end')\n",
    "\n",
    "if source_dependent:\n",
    "    on_data, off_data = split_on_off_source_dependent(events, threshold)\n",
    "    theta_on = on_data.theta_deg\n",
    "    theta_off = off_data.theta_deg\n",
    "else:\n",
    "    selected = events.query('gamma_prediction >= {}'.format(threshold))\n",
    "    theta_on = selected.theta_deg\n",
    "    theta_off = pd.concat([selected['theta_deg_off_{}'.format(i)]for i in range(1, 6)])\n",
    "\n",
    "del events\n",
    "\n",
    "if source_dependent:\n",
    "    limits = [0,max(np.percentile(theta_on, 99)**2, np.percentile(theta_off, 99)**2),]\n",
    "else:\n",
    "    limits = [0, 0.3]\n",
    "\n",
    "fig = plt.figure()\n",
    "ax = fig.add_subplot(1, 1, 1)\n",
    "h_on, bin_edges = np.histogram(theta_on.apply(lambda x: x**2).values,bins=bins,range=limits)\n",
    "h_off, bin_edges, _ = ax.hist(theta_off.apply(lambda x: x**2).values,bins=bin_edges,range=limits,weights=np.full(len(theta_off), 0.2),histtype='stepfilled',color='lightgray',)\n",
    "\n",
    "bin_center = bin_edges[1:] - np.diff(bin_edges) * 0.5\n",
    "bin_width = np.diff(bin_edges)\n",
    "\n",
    "ax.errorbar(bin_center,h_on,yerr=np.sqrt(h_on) / 2,xerr=bin_width / 2,linestyle='',label='On',)\n",
    "ax.errorbar(bin_center,h_off,yerr=alpha * np.sqrt(h_off) / 2,xerr=bin_width / 2,linestyle='',label='Off',)\n",
    "\n",
    "if not source_dependent:\n",
    "    ax.axvline(theta_cut**2, color='gray', linestyle='--')\n",
    "\n",
    "n_on = np.sum(theta_on < theta_cut)\n",
    "n_off = np.sum(theta_off < theta_cut)\n",
    "significance = li_ma_significance(n_on, n_off, alpha=alpha)\n",
    "\n",
    "print('N_on', n_on)\n",
    "print('N_off', n_off)\n",
    "print('Li&Ma: {}'.format(significance))\n",
    "\n",
    "#ax.text(0.5, 0.95,stats_box_template.format(source=runs.source.iloc[0],t_obs=runs.ontime.sum() / 3600,n_on=n_on, n_off=n_off, alpha=alpha,n_excess=n_on - alpha * n_off,n_excess_err=np.sqrt(n_on + alpha**2 * n_off),significance=significance,),transform=ax.transAxes,fontsize=12,va='top',ha='center',)\n",
    "\n",
    "ax.set_xlabel(r'$(\\theta / {}^\\circ )^2$')\n",
    "ax.legend()\n",
    "fig.tight_layout()\n",
    "\n",
    "if output:\n",
    "    fig.savefig(output, dpi=300)\n",
    "else:\n",
    "    plt.show()"
   ]
  },
  {
   "cell_type": "code",
   "execution_count": null,
   "metadata": {
    "collapsed": true
   },
   "outputs": [],
   "source": []
  }
 ],
 "metadata": {
  "kernelspec": {
   "display_name": "Python [conda env:keras]",
   "language": "python",
   "name": "conda-env-keras-py"
  },
  "language_info": {
   "codemirror_mode": {
    "name": "ipython",
    "version": 3
   },
   "file_extension": ".py",
   "mimetype": "text/x-python",
   "name": "python",
   "nbconvert_exporter": "python",
   "pygments_lexer": "ipython3",
   "version": "3.5.3"
  }
 },
 "nbformat": 4,
 "nbformat_minor": 2
}
