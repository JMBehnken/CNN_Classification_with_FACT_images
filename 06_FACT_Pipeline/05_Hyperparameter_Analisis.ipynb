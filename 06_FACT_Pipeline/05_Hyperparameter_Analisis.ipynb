{
 "cells": [
  {
   "cell_type": "markdown",
   "metadata": {
    "deletable": true,
    "editable": true
   },
   "source": [
    "# Hyperparamerter analysis\n",
    "\n",
    "This notebook is driven by the question 'What are the best hyperparameters for the model?'."
   ]
  },
  {
   "cell_type": "code",
   "execution_count": 1,
   "metadata": {
    "collapsed": true,
    "deletable": true,
    "editable": true
   },
   "outputs": [],
   "source": [
    "import os\n",
    "import numpy as np\n",
    "import pandas as pd\n",
    "import seaborn as sns\n",
    "import matplotlib.pyplot as plt"
   ]
  },
  {
   "cell_type": "code",
   "execution_count": 46,
   "metadata": {
    "collapsed": false,
    "deletable": true,
    "editable": true
   },
   "outputs": [
    {
     "data": {
      "text/html": [
       "<div>\n",
       "<table border=\"1\" class=\"dataframe\">\n",
       "  <thead>\n",
       "    <tr style=\"text-align: right;\">\n",
       "      <th></th>\n",
       "      <th>Learning_Rate</th>\n",
       "      <th>Batch_Size</th>\n",
       "      <th>Patch_Size</th>\n",
       "      <th>Depth</th>\n",
       "      <th>Hidden_Nodes</th>\n",
       "      <th>Accuracy</th>\n",
       "      <th>Auc</th>\n",
       "      <th>Steps</th>\n",
       "      <th>Time</th>\n",
       "    </tr>\n",
       "  </thead>\n",
       "  <tbody>\n",
       "    <tr>\n",
       "      <th>count</th>\n",
       "      <td>2.020000e+02</td>\n",
       "      <td>202.000000</td>\n",
       "      <td>202.000000</td>\n",
       "      <td>202.000000</td>\n",
       "      <td>202.000000</td>\n",
       "      <td>202.000000</td>\n",
       "      <td>202.000000</td>\n",
       "      <td>202.000000</td>\n",
       "      <td>202.000000</td>\n",
       "    </tr>\n",
       "    <tr>\n",
       "      <th>mean</th>\n",
       "      <td>1.000000e-03</td>\n",
       "      <td>175.762376</td>\n",
       "      <td>3.851485</td>\n",
       "      <td>16.356436</td>\n",
       "      <td>76.960396</td>\n",
       "      <td>89.090405</td>\n",
       "      <td>0.891937</td>\n",
       "      <td>32460.396040</td>\n",
       "      <td>1058.994645</td>\n",
       "    </tr>\n",
       "    <tr>\n",
       "      <th>std</th>\n",
       "      <td>6.521375e-19</td>\n",
       "      <td>67.999363</td>\n",
       "      <td>0.991367</td>\n",
       "      <td>5.589763</td>\n",
       "      <td>55.360406</td>\n",
       "      <td>0.680147</td>\n",
       "      <td>0.080801</td>\n",
       "      <td>20683.132163</td>\n",
       "      <td>973.319277</td>\n",
       "    </tr>\n",
       "    <tr>\n",
       "      <th>min</th>\n",
       "      <td>1.000000e-03</td>\n",
       "      <td>64.000000</td>\n",
       "      <td>3.000000</td>\n",
       "      <td>8.000000</td>\n",
       "      <td>8.000000</td>\n",
       "      <td>86.670017</td>\n",
       "      <td>0.664137</td>\n",
       "      <td>5000.000000</td>\n",
       "      <td>92.280049</td>\n",
       "    </tr>\n",
       "    <tr>\n",
       "      <th>25%</th>\n",
       "      <td>1.000000e-03</td>\n",
       "      <td>110.500000</td>\n",
       "      <td>3.000000</td>\n",
       "      <td>11.250000</td>\n",
       "      <td>34.250000</td>\n",
       "      <td>88.680005</td>\n",
       "      <td>0.881796</td>\n",
       "      <td>5000.000000</td>\n",
       "      <td>214.240825</td>\n",
       "    </tr>\n",
       "    <tr>\n",
       "      <th>50%</th>\n",
       "      <td>1.000000e-03</td>\n",
       "      <td>184.000000</td>\n",
       "      <td>3.000000</td>\n",
       "      <td>16.000000</td>\n",
       "      <td>65.000000</td>\n",
       "      <td>89.190009</td>\n",
       "      <td>0.921325</td>\n",
       "      <td>48000.000000</td>\n",
       "      <td>788.515771</td>\n",
       "    </tr>\n",
       "    <tr>\n",
       "      <th>75%</th>\n",
       "      <td>1.000000e-03</td>\n",
       "      <td>242.750000</td>\n",
       "      <td>5.000000</td>\n",
       "      <td>21.000000</td>\n",
       "      <td>104.750000</td>\n",
       "      <td>89.615002</td>\n",
       "      <td>0.941746</td>\n",
       "      <td>50000.000000</td>\n",
       "      <td>1632.678387</td>\n",
       "    </tr>\n",
       "    <tr>\n",
       "      <th>max</th>\n",
       "      <td>1.000000e-03</td>\n",
       "      <td>256.000000</td>\n",
       "      <td>5.000000</td>\n",
       "      <td>31.000000</td>\n",
       "      <td>255.000000</td>\n",
       "      <td>90.390009</td>\n",
       "      <td>0.949224</td>\n",
       "      <td>50000.000000</td>\n",
       "      <td>4494.435900</td>\n",
       "    </tr>\n",
       "  </tbody>\n",
       "</table>\n",
       "</div>"
      ],
      "text/plain": [
       "       Learning_Rate  Batch_Size  Patch_Size       Depth  Hidden_Nodes  \\\n",
       "count   2.020000e+02  202.000000  202.000000  202.000000    202.000000   \n",
       "mean    1.000000e-03  175.762376    3.851485   16.356436     76.960396   \n",
       "std     6.521375e-19   67.999363    0.991367    5.589763     55.360406   \n",
       "min     1.000000e-03   64.000000    3.000000    8.000000      8.000000   \n",
       "25%     1.000000e-03  110.500000    3.000000   11.250000     34.250000   \n",
       "50%     1.000000e-03  184.000000    3.000000   16.000000     65.000000   \n",
       "75%     1.000000e-03  242.750000    5.000000   21.000000    104.750000   \n",
       "max     1.000000e-03  256.000000    5.000000   31.000000    255.000000   \n",
       "\n",
       "         Accuracy         Auc         Steps         Time  \n",
       "count  202.000000  202.000000    202.000000   202.000000  \n",
       "mean    89.090405    0.891937  32460.396040  1058.994645  \n",
       "std      0.680147    0.080801  20683.132163   973.319277  \n",
       "min     86.670017    0.664137   5000.000000    92.280049  \n",
       "25%     88.680005    0.881796   5000.000000   214.240825  \n",
       "50%     89.190009    0.921325  48000.000000   788.515771  \n",
       "75%     89.615002    0.941746  50000.000000  1632.678387  \n",
       "max     90.390009    0.949224  50000.000000  4494.435900  "
      ]
     },
     "execution_count": 46,
     "metadata": {},
     "output_type": "execute_result"
    }
   ],
   "source": [
    "model_folder = '1_ccff'\n",
    "#model_folder = '2_cff'\n",
    "#model_folder = '3_cccff'\n",
    "#model_folder = '4_cf'\n",
    "main_path = '/fhgfs/users/jbehnken/01_Data/04_Models'\n",
    "\n",
    "model_name = model_folder.split('_')[-1]\n",
    "df = pd.read_csv(os.path.join(main_path, model_folder, model_name+'_Hyperparameter.csv'))\n",
    "df.describe()"
   ]
  },
  {
   "cell_type": "code",
   "execution_count": 47,
   "metadata": {
    "collapsed": false
   },
   "outputs": [
    {
     "data": {
      "text/html": [
       "<div>\n",
       "<table border=\"1\" class=\"dataframe\">\n",
       "  <thead>\n",
       "    <tr style=\"text-align: right;\">\n",
       "      <th></th>\n",
       "      <th>Learning_Rate</th>\n",
       "      <th>Batch_Size</th>\n",
       "      <th>Patch_Size</th>\n",
       "      <th>Depth</th>\n",
       "      <th>Hidden_Nodes</th>\n",
       "      <th>Accuracy</th>\n",
       "      <th>Auc</th>\n",
       "      <th>Steps</th>\n",
       "      <th>Early_Stopped</th>\n",
       "      <th>Time</th>\n",
       "      <th>Title</th>\n",
       "    </tr>\n",
       "  </thead>\n",
       "  <tbody>\n",
       "    <tr>\n",
       "      <th>197</th>\n",
       "      <td>0.001</td>\n",
       "      <td>181</td>\n",
       "      <td>3</td>\n",
       "      <td>11</td>\n",
       "      <td>42</td>\n",
       "      <td>89.310008</td>\n",
       "      <td>0.939924</td>\n",
       "      <td>50000</td>\n",
       "      <td>False</td>\n",
       "      <td>749.105994</td>\n",
       "      <td>Random_Plotting</td>\n",
       "    </tr>\n",
       "    <tr>\n",
       "      <th>198</th>\n",
       "      <td>0.001</td>\n",
       "      <td>126</td>\n",
       "      <td>3</td>\n",
       "      <td>15</td>\n",
       "      <td>242</td>\n",
       "      <td>87.180001</td>\n",
       "      <td>0.917281</td>\n",
       "      <td>50000</td>\n",
       "      <td>False</td>\n",
       "      <td>403.002825</td>\n",
       "      <td>Random_Plotting</td>\n",
       "    </tr>\n",
       "    <tr>\n",
       "      <th>199</th>\n",
       "      <td>0.001</td>\n",
       "      <td>123</td>\n",
       "      <td>3</td>\n",
       "      <td>12</td>\n",
       "      <td>255</td>\n",
       "      <td>88.240010</td>\n",
       "      <td>0.917115</td>\n",
       "      <td>50000</td>\n",
       "      <td>False</td>\n",
       "      <td>357.380398</td>\n",
       "      <td>Random_Plotting</td>\n",
       "    </tr>\n",
       "    <tr>\n",
       "      <th>200</th>\n",
       "      <td>0.001</td>\n",
       "      <td>71</td>\n",
       "      <td>5</td>\n",
       "      <td>22</td>\n",
       "      <td>180</td>\n",
       "      <td>89.240009</td>\n",
       "      <td>0.917109</td>\n",
       "      <td>50000</td>\n",
       "      <td>False</td>\n",
       "      <td>361.504083</td>\n",
       "      <td>Random_Plotting</td>\n",
       "    </tr>\n",
       "    <tr>\n",
       "      <th>201</th>\n",
       "      <td>0.001</td>\n",
       "      <td>186</td>\n",
       "      <td>5</td>\n",
       "      <td>23</td>\n",
       "      <td>67</td>\n",
       "      <td>88.890016</td>\n",
       "      <td>0.942097</td>\n",
       "      <td>50000</td>\n",
       "      <td>False</td>\n",
       "      <td>1369.521925</td>\n",
       "      <td>Random_Plotting</td>\n",
       "    </tr>\n",
       "  </tbody>\n",
       "</table>\n",
       "</div>"
      ],
      "text/plain": [
       "     Learning_Rate  Batch_Size  Patch_Size  Depth  Hidden_Nodes   Accuracy  \\\n",
       "197          0.001         181           3     11            42  89.310008   \n",
       "198          0.001         126           3     15           242  87.180001   \n",
       "199          0.001         123           3     12           255  88.240010   \n",
       "200          0.001          71           5     22           180  89.240009   \n",
       "201          0.001         186           5     23            67  88.890016   \n",
       "\n",
       "          Auc  Steps Early_Stopped         Time            Title  \n",
       "197  0.939924  50000         False   749.105994  Random_Plotting  \n",
       "198  0.917281  50000         False   403.002825  Random_Plotting  \n",
       "199  0.917115  50000         False   357.380398  Random_Plotting  \n",
       "200  0.917109  50000         False   361.504083  Random_Plotting  \n",
       "201  0.942097  50000         False  1369.521925  Random_Plotting  "
      ]
     },
     "execution_count": 47,
     "metadata": {},
     "output_type": "execute_result"
    }
   ],
   "source": [
    "df.tail()"
   ]
  },
  {
   "cell_type": "markdown",
   "metadata": {
    "deletable": true,
    "editable": true
   },
   "source": [
    "# Hyperparameter ordered by best auc-value"
   ]
  },
  {
   "cell_type": "code",
   "execution_count": 27,
   "metadata": {
    "collapsed": false,
    "deletable": true,
    "editable": true
   },
   "outputs": [
    {
     "data": {
      "text/html": [
       "<div>\n",
       "<table border=\"1\" class=\"dataframe\">\n",
       "  <thead>\n",
       "    <tr style=\"text-align: right;\">\n",
       "      <th></th>\n",
       "      <th>Learning_Rate</th>\n",
       "      <th>Batch_Size</th>\n",
       "      <th>Patch_Size</th>\n",
       "      <th>Depth</th>\n",
       "      <th>Hidden_Nodes</th>\n",
       "      <th>Accuracy</th>\n",
       "      <th>Auc</th>\n",
       "      <th>Steps</th>\n",
       "      <th>Early_Stopped</th>\n",
       "      <th>Time</th>\n",
       "      <th>Title</th>\n",
       "    </tr>\n",
       "  </thead>\n",
       "  <tbody>\n",
       "    <tr>\n",
       "      <th>57</th>\n",
       "      <td>0.001</td>\n",
       "      <td>169</td>\n",
       "      <td>5</td>\n",
       "      <td>9</td>\n",
       "      <td>32</td>\n",
       "      <td>90.600008</td>\n",
       "      <td>0.953443</td>\n",
       "      <td>50000</td>\n",
       "      <td>False</td>\n",
       "      <td>489.509731</td>\n",
       "      <td>Optimizing</td>\n",
       "    </tr>\n",
       "    <tr>\n",
       "      <th>8</th>\n",
       "      <td>0.001</td>\n",
       "      <td>139</td>\n",
       "      <td>5</td>\n",
       "      <td>11</td>\n",
       "      <td>17</td>\n",
       "      <td>89.930004</td>\n",
       "      <td>0.953414</td>\n",
       "      <td>100000</td>\n",
       "      <td>False</td>\n",
       "      <td>898.652810</td>\n",
       "      <td>Optimizing</td>\n",
       "    </tr>\n",
       "    <tr>\n",
       "      <th>6</th>\n",
       "      <td>0.001</td>\n",
       "      <td>83</td>\n",
       "      <td>3</td>\n",
       "      <td>14</td>\n",
       "      <td>43</td>\n",
       "      <td>90.490013</td>\n",
       "      <td>0.952812</td>\n",
       "      <td>100000</td>\n",
       "      <td>False</td>\n",
       "      <td>639.716341</td>\n",
       "      <td>Optimizing</td>\n",
       "    </tr>\n",
       "    <tr>\n",
       "      <th>59</th>\n",
       "      <td>0.001</td>\n",
       "      <td>253</td>\n",
       "      <td>3</td>\n",
       "      <td>5</td>\n",
       "      <td>24</td>\n",
       "      <td>90.000010</td>\n",
       "      <td>0.952101</td>\n",
       "      <td>50000</td>\n",
       "      <td>False</td>\n",
       "      <td>427.794354</td>\n",
       "      <td>Optimizing</td>\n",
       "    </tr>\n",
       "    <tr>\n",
       "      <th>9</th>\n",
       "      <td>0.001</td>\n",
       "      <td>64</td>\n",
       "      <td>5</td>\n",
       "      <td>19</td>\n",
       "      <td>77</td>\n",
       "      <td>89.730012</td>\n",
       "      <td>0.951122</td>\n",
       "      <td>100000</td>\n",
       "      <td>False</td>\n",
       "      <td>690.033698</td>\n",
       "      <td>Optimizing</td>\n",
       "    </tr>\n",
       "    <tr>\n",
       "      <th>34</th>\n",
       "      <td>0.001</td>\n",
       "      <td>137</td>\n",
       "      <td>3</td>\n",
       "      <td>8</td>\n",
       "      <td>9</td>\n",
       "      <td>90.350002</td>\n",
       "      <td>0.950717</td>\n",
       "      <td>50000</td>\n",
       "      <td>False</td>\n",
       "      <td>622.459063</td>\n",
       "      <td>Optimizing</td>\n",
       "    </tr>\n",
       "    <tr>\n",
       "      <th>50</th>\n",
       "      <td>0.001</td>\n",
       "      <td>206</td>\n",
       "      <td>3</td>\n",
       "      <td>11</td>\n",
       "      <td>28</td>\n",
       "      <td>90.460002</td>\n",
       "      <td>0.950304</td>\n",
       "      <td>50000</td>\n",
       "      <td>False</td>\n",
       "      <td>1029.781351</td>\n",
       "      <td>Optimizing</td>\n",
       "    </tr>\n",
       "    <tr>\n",
       "      <th>40</th>\n",
       "      <td>0.001</td>\n",
       "      <td>128</td>\n",
       "      <td>3</td>\n",
       "      <td>8</td>\n",
       "      <td>134</td>\n",
       "      <td>89.830005</td>\n",
       "      <td>0.949995</td>\n",
       "      <td>50000</td>\n",
       "      <td>False</td>\n",
       "      <td>607.488338</td>\n",
       "      <td>Optimizing</td>\n",
       "    </tr>\n",
       "    <tr>\n",
       "      <th>2</th>\n",
       "      <td>0.001</td>\n",
       "      <td>118</td>\n",
       "      <td>3</td>\n",
       "      <td>23</td>\n",
       "      <td>70</td>\n",
       "      <td>89.500010</td>\n",
       "      <td>0.949534</td>\n",
       "      <td>70000</td>\n",
       "      <td>True</td>\n",
       "      <td>805.677583</td>\n",
       "      <td>Optimizing</td>\n",
       "    </tr>\n",
       "    <tr>\n",
       "      <th>58</th>\n",
       "      <td>0.001</td>\n",
       "      <td>191</td>\n",
       "      <td>3</td>\n",
       "      <td>5</td>\n",
       "      <td>93</td>\n",
       "      <td>90.380013</td>\n",
       "      <td>0.949253</td>\n",
       "      <td>50000</td>\n",
       "      <td>False</td>\n",
       "      <td>362.182717</td>\n",
       "      <td>Optimizing</td>\n",
       "    </tr>\n",
       "  </tbody>\n",
       "</table>\n",
       "</div>"
      ],
      "text/plain": [
       "    Learning_Rate  Batch_Size  Patch_Size  Depth  Hidden_Nodes   Accuracy  \\\n",
       "57          0.001         169           5      9            32  90.600008   \n",
       "8           0.001         139           5     11            17  89.930004   \n",
       "6           0.001          83           3     14            43  90.490013   \n",
       "59          0.001         253           3      5            24  90.000010   \n",
       "9           0.001          64           5     19            77  89.730012   \n",
       "34          0.001         137           3      8             9  90.350002   \n",
       "50          0.001         206           3     11            28  90.460002   \n",
       "40          0.001         128           3      8           134  89.830005   \n",
       "2           0.001         118           3     23            70  89.500010   \n",
       "58          0.001         191           3      5            93  90.380013   \n",
       "\n",
       "         Auc   Steps Early_Stopped         Time       Title  \n",
       "57  0.953443   50000         False   489.509731  Optimizing  \n",
       "8   0.953414  100000         False   898.652810  Optimizing  \n",
       "6   0.952812  100000         False   639.716341  Optimizing  \n",
       "59  0.952101   50000         False   427.794354  Optimizing  \n",
       "9   0.951122  100000         False   690.033698  Optimizing  \n",
       "34  0.950717   50000         False   622.459063  Optimizing  \n",
       "50  0.950304   50000         False  1029.781351  Optimizing  \n",
       "40  0.949995   50000         False   607.488338  Optimizing  \n",
       "2   0.949534   70000          True   805.677583  Optimizing  \n",
       "58  0.949253   50000         False   362.182717  Optimizing  "
      ]
     },
     "execution_count": 27,
     "metadata": {},
     "output_type": "execute_result"
    }
   ],
   "source": [
    "df.sort_values(by='Auc', ascending=False).head(10)"
   ]
  },
  {
   "cell_type": "markdown",
   "metadata": {
    "deletable": true,
    "editable": true
   },
   "source": [
    "# Scattermatrix to compare every variable"
   ]
  },
  {
   "cell_type": "code",
   "execution_count": 4,
   "metadata": {
    "collapsed": true,
    "deletable": true,
    "editable": true
   },
   "outputs": [],
   "source": [
    "def plotScattermatrix(df):\n",
    "    plt.style.use('seaborn-ticks')\n",
    "    pd.scatter_matrix(df[df['Auc']>0.8][['Hidden_Nodes', 'Depth', 'Patch_Size', 'Batch_Size', 'Accuracy', 'Auc']], alpha=1.0, figsize=(10, 10), c='b', diagonal='kde')\n",
    "    plt.show()\n",
    "    \n",
    "def plotCorrelation(df):\n",
    "    plt.style.use('seaborn-white')\n",
    "    f, ax = plt.subplots(figsize=(12, 3))\n",
    "    corr = df[['Hidden_Nodes', 'Depth', 'Patch_Size', 'Batch_Size', 'Accuracy', 'Auc']].corr()\n",
    "    sns.heatmap(corr.tail(2), mask=np.zeros_like(corr.tail(2), dtype=np.bool), cmap=sns.diverging_palette(220, 10, as_cmap=True), square=True, ax=ax)\n",
    "    plt.show()"
   ]
  },
  {
   "cell_type": "code",
   "execution_count": 5,
   "metadata": {
    "collapsed": false,
    "deletable": true,
    "editable": true
   },
   "outputs": [
    {
     "data": {
      "image/png": "[encoded data removed]",
      "text/plain": [
       "<matplotlib.figure.Figure at 0x7fb471b542b0>"
      ]
     },
     "metadata": {},
     "output_type": "display_data"
    },
    {
     "name": "stdout",
     "output_type": "stream",
     "text": [
      "Correlation - All CNNs\n"
     ]
    },
    {
     "data": {
      "image/png": "[encoded data removed]",
      "text/plain": [
       "<matplotlib.figure.Figure at 0x7fb46dc8c940>"
      ]
     },
     "metadata": {},
     "output_type": "display_data"
    }
   ],
   "source": [
    "plotScattermatrix(df[df['Steps']>=50000])\n",
    "print('Correlation - All CNNs')\n",
    "plotCorrelation(df[df['Steps']>=50000])"
   ]
  },
  {
   "cell_type": "code",
   "execution_count": 6,
   "metadata": {
    "collapsed": false,
    "deletable": true,
    "editable": true
   },
   "outputs": [
    {
     "name": "stdout",
     "output_type": "stream",
     "text": [
      "Patch_Size\n",
      "3    0.943106\n",
      "5    0.942868\n",
      "Name: Auc, dtype: float64\n"
     ]
    }
   ],
   "source": [
    "for column in ['Patch_Size']:\n",
    "    mean = df[df['Auc']>0.8].groupby(column)['Auc'].mean().sort_values(ascending=False)\n",
    "    print(mean)"
   ]
  },
  {
   "cell_type": "code",
   "execution_count": null,
   "metadata": {
    "collapsed": true,
    "deletable": true,
    "editable": true
   },
   "outputs": [],
   "source": []
  },
  {
   "cell_type": "code",
   "execution_count": 63,
   "metadata": {
    "collapsed": false
   },
   "outputs": [
    {
     "name": "stdout",
     "output_type": "stream",
     "text": [
      "1_ccff (47, 11)\n",
      "2_cff (50, 11)\n",
      "3_cccff (16, 11)\n",
      "4_cf (50, 11)\n",
      "5_ccf (6, 11)\n",
      "6_cccf (3, 11)\n"
     ]
    }
   ],
   "source": [
    "main_path = '/fhgfs/users/jbehnken/01_Data/04_Models'\n",
    "for name in ['1_ccff', '2_cff', '3_cccff', '4_cf', '5_ccf', '6_cccf']:\n",
    "    model_name = name.split('_')[-1]\n",
    "    df = pd.read_csv(os.path.join(main_path, name, model_name+'_Hyperparameter.csv'))\n",
    "    print(name, df[df['Title']=='Random_Plotting'].shape)"
   ]
  },
  {
   "cell_type": "code",
   "execution_count": null,
   "metadata": {
    "collapsed": true
   },
   "outputs": [],
   "source": []
  }
 ],
 "metadata": {
  "kernelspec": {
   "display_name": "Python [conda env:keras]",
   "language": "python",
   "name": "conda-env-keras-py"
  },
  "language_info": {
   "codemirror_mode": {
    "name": "ipython",
    "version": 3
   },
   "file_extension": ".py",
   "mimetype": "text/x-python",
   "name": "python",
   "nbconvert_exporter": "python",
   "pygments_lexer": "ipython3",
   "version": "3.5.3"
  }
 },
 "nbformat": 4,
 "nbformat_minor": 2
}
