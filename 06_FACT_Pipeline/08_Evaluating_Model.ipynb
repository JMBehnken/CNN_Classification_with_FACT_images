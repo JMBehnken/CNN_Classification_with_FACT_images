{
 "cells": [
  {
   "cell_type": "code",
   "execution_count": 1,
   "metadata": {
    "collapsed": true,
    "deletable": true,
    "editable": true
   },
   "outputs": [],
   "source": [
    "from multiprocessing import Pool\n",
    "import tensorflow as tf\n",
    "import pandas as pd\n",
    "import numpy as np\n",
    "import random\n",
    "import pickle\n",
    "import h5py\n",
    "import gzip\n",
    "import time\n",
    "import csv\n",
    "import os"
   ]
  },
  {
   "cell_type": "code",
   "execution_count": 2,
   "metadata": {
    "collapsed": true,
    "deletable": true,
    "editable": true
   },
   "outputs": [],
   "source": [
    "model_folder_name = '13_cccfff'\n",
    "batch_size = 10000\n",
    "\n",
    "main_path = '/fhgfs/users/jbehnken/01_Data/04_Models'\n",
    "meta_loading_folder = os.path.join(main_path, model_folder_name)\n",
    "meta_loading_path = os.path.join(main_path, model_folder_name, model_folder_name.split('_')[-1] + '.meta')\n",
    "\n",
    "mc_data_path = '/fhgfs/users/jbehnken/01_Data/01_MC_Data' # Path to preprocessed data\n",
    "num_files = 1000 # Number of files to load - 1 file = 1000 events"
   ]
  },
  {
   "cell_type": "code",
   "execution_count": 3,
   "metadata": {
    "collapsed": false,
    "deletable": true,
    "editable": true
   },
   "outputs": [
    {
     "data": {
      "text/plain": [
       "(1000000, 46, 45, 1)"
      ]
     },
     "execution_count": 3,
     "metadata": {},
     "output_type": "execute_result"
    }
   ],
   "source": [
    "# Load pickled data and split it into pictures and labels\n",
    "def load_data(file):\n",
    "    with gzip.open(mc_data_path+'/'+file, 'rb') as f:\n",
    "        data_dict = pickle.load(f)\n",
    "    pic = data_dict['Image']\n",
    "    lab = data_dict['Label']\n",
    "    return (pic, lab)\n",
    "\n",
    "# Randomizing the files to load\n",
    "loading_files = os.listdir(mc_data_path)\n",
    "np.random.shuffle(loading_files)\n",
    "\n",
    "# Pool-load pickled data and split it into pictures and labels (list)\n",
    "p = Pool()\n",
    "data = p.map(load_data, loading_files[-num_files:])\n",
    "pics, labs = zip(*data)\n",
    "\n",
    "# Concatenate the data to a single np.array\n",
    "evaluation_dataset = np.concatenate(pics)\n",
    "evaluation_labels = np.concatenate(labs)\n",
    "del pics, labs\n",
    "evaluation_dataset.shape"
   ]
  },
  {
   "cell_type": "code",
   "execution_count": 4,
   "metadata": {
    "collapsed": true,
    "deletable": true,
    "editable": true
   },
   "outputs": [],
   "source": [
    "def batchYielder():\n",
    "    max_steps = int(evaluation_dataset.shape[0]/(batch_size))\n",
    "    for i in range(max_steps):\n",
    "        yield evaluation_dataset[i*batch_size:(i+1)*batch_size]"
   ]
  },
  {
   "cell_type": "code",
   "execution_count": 5,
   "metadata": {
    "collapsed": false,
    "deletable": true,
    "editable": true
   },
   "outputs": [
    {
     "name": "stdout",
     "output_type": "stream",
     "text": [
      "Conv2d_1 (5, 5, 1, 9)\n",
      "Conv2d_2 (5, 5, 9, 18)\n",
      "Conv2d_3 (5, 5, 18, 36)\n",
      "Fc_1 (1296, 35)\n",
      "Fc_2 (35, 35)\n",
      "Fc_3 (35, 2)\n",
      "Model restored.\n"
     ]
    },
    {
     "data": {
      "text/plain": [
       "(1000000, 2)"
      ]
     },
     "execution_count": 5,
     "metadata": {},
     "output_type": "execute_result"
    }
   ],
   "source": [
    "gpu_config = tf.GPUOptions(allow_growth=True, per_process_gpu_memory_fraction=0.2)\n",
    "session_conf = tf.ConfigProto(gpu_options=gpu_config, intra_op_parallelism_threads=18, inter_op_parallelism_threads=18)\n",
    "\n",
    "\n",
    "with tf.Session(config=session_conf) as sess:\n",
    "    saver = tf.train.import_meta_graph(meta_loading_path)    \n",
    "    saver.restore(sess, tf.train.latest_checkpoint(meta_loading_folder))\n",
    "    \n",
    "    graph = tf.get_default_graph() \n",
    "    try:\n",
    "        conv2d_1_weights = graph.get_tensor_by_name(\"conv2d_1/W:0\")\n",
    "        conv2d_1_biases = graph.get_tensor_by_name(\"conv2d_1/B:0\")\n",
    "        print('Conv2d_1', conv2d_1_weights.shape)\n",
    "    except: pass\n",
    "    \n",
    "    try:\n",
    "        conv2d_2_weights = graph.get_tensor_by_name(\"conv2d_2/W:0\")\n",
    "        conv2d_2_biases = graph.get_tensor_by_name(\"conv2d_2/B:0\")\n",
    "        print('Conv2d_2', conv2d_2_weights.shape)\n",
    "    except: pass\n",
    "    \n",
    "    try:\n",
    "        conv2d_3_weights = graph.get_tensor_by_name(\"conv2d_3/W:0\")\n",
    "        conv2d_3_biases = graph.get_tensor_by_name(\"conv2d_3/B:0\")\n",
    "        print('Conv2d_3', conv2d_3_weights.shape)\n",
    "    except: pass\n",
    "    \n",
    "    try:\n",
    "        conv2d_4_weights = graph.get_tensor_by_name(\"conv2d_4/W:0\")\n",
    "        conv2d_4_biases = graph.get_tensor_by_name(\"conv2d_4/B:0\")\n",
    "        print('Conv2d_4', conv2d_4_weights.shape)\n",
    "    except: pass\n",
    "    \n",
    "    try:\n",
    "        conv2d_5_weights = graph.get_tensor_by_name(\"conv2d_5/W:0\")\n",
    "        conv2d_5_biases = graph.get_tensor_by_name(\"conv2d_5/B:0\")\n",
    "        print('Conv2d_5', conv2d_5_weights.shape)\n",
    "    except: pass\n",
    "    \n",
    "    try:\n",
    "        fc_1_weights = graph.get_tensor_by_name(\"fc_1/W:0\")\n",
    "        fc_1_biases = graph.get_tensor_by_name(\"fc_1/B:0\")\n",
    "        print('Fc_1', fc_1_weights.shape)\n",
    "    except: pass\n",
    "    \n",
    "    try:\n",
    "        fc_2_weights = graph.get_tensor_by_name(\"fc_2/W:0\")\n",
    "        fc_2_biases = graph.get_tensor_by_name(\"fc_2/B:0\")\n",
    "        print('Fc_2', fc_2_weights.shape)\n",
    "    except: pass\n",
    "    \n",
    "    try:\n",
    "        fc_3_weights = graph.get_tensor_by_name(\"fc_3/W:0\")\n",
    "        fc_3_biases = graph.get_tensor_by_name(\"fc_3/B:0\")\n",
    "        print('Fc_3', fc_3_weights.shape)\n",
    "    except: pass\n",
    "    print(\"Model restored.\")\n",
    "    \n",
    "    \n",
    "    #tf_prediction_dataset = tf.constant(images, name='prediction_data')\n",
    "    tf_evaluation_dataset = tf.placeholder(tf.float32, shape=(batch_size, 46, 45, 1), name='Evaluation_data')        \n",
    "    \n",
    "    preds_1 = []\n",
    "    preds_2 = []\n",
    "    #sess.run(tf.global_variables_initializer())\n",
    "    \n",
    "    name = model_folder_name.split('_')[-1]\n",
    "    for images in batchYielder():\n",
    "        feed_dict = {tf_evaluation_dataset : images}\n",
    "        \n",
    "        if name=='cff':\n",
    "            with tf.name_scope('prediction_cff'):\n",
    "                pool_1 = tf.nn.max_pool(tf.nn.relu(tf.nn.conv2d(tf_evaluation_dataset, conv2d_1_weights, [1, 1, 1, 1], padding='SAME') + conv2d_1_biases), ksize=[1, 2, 2, 1], strides=[1, 2, 2, 1], padding='SAME')        \n",
    "                shape = pool_1.get_shape().as_list()\n",
    "                reshape = tf.reshape(pool_1, [shape[0], shape[1] * shape[2] * shape[3]])\n",
    "                hidden = tf.nn.relu(tf.matmul(reshape, fc_1_weights) + fc_1_biases)\n",
    "                prediction_cff = tf.nn.softmax(tf.matmul(hidden, fc_2_weights) + fc_2_biases)\n",
    "            pred = sess.run(prediction_cff, feed_dict=feed_dict)\n",
    "            \n",
    "        elif name=='ccff':\n",
    "            with tf.name_scope('prediction_ccff'):\n",
    "                pool_1 = tf.nn.max_pool(tf.nn.relu(tf.nn.conv2d(tf_evaluation_dataset, conv2d_1_weights, [1, 1, 1, 1], padding='SAME') + conv2d_1_biases), ksize=[1, 2, 2, 1], strides=[1, 2, 2, 1], padding='SAME')\n",
    "                pool_2 = tf.nn.max_pool(tf.nn.relu(tf.nn.conv2d(pool_1, conv2d_2_weights, [1, 1, 1, 1], padding='SAME')  + conv2d_2_biases), ksize=[1, 2, 2, 1], strides=[1, 2, 2, 1], padding='SAME')\n",
    "                shape = pool_2.get_shape().as_list()\n",
    "                reshape = tf.reshape(pool_2, [shape[0], shape[1] * shape[2] * shape[3]])\n",
    "                hidden = tf.nn.relu(tf.matmul(reshape, fc_1_weights) + fc_1_biases)\n",
    "                prediction_ccff = tf.nn.softmax(tf.matmul(hidden, fc_2_weights) + fc_2_biases)\n",
    "            pred = sess.run(prediction_ccff, feed_dict=feed_dict)\n",
    "        \n",
    "        elif name=='cccff':\n",
    "            with tf.name_scope('prediction_cccff'):\n",
    "                pool_1 = tf.nn.max_pool(tf.nn.relu(tf.nn.conv2d(tf_evaluation_dataset, conv2d_1_weights, [1, 1, 1, 1], padding='SAME') + conv2d_1_biases), ksize=[1, 2, 2, 1], strides=[1, 2, 2, 1], padding='SAME')\n",
    "                pool_2 = tf.nn.max_pool(tf.nn.relu(tf.nn.conv2d(pool_1, conv2d_2_weights, [1, 1, 1, 1], padding='SAME')  + conv2d_2_biases), ksize=[1, 2, 2, 1], strides=[1, 2, 2, 1], padding='SAME')\n",
    "                pool_3 = tf.nn.max_pool(tf.nn.relu(tf.nn.conv2d(pool_2, conv2d_3_weights, [1, 1, 1, 1], padding='SAME')  + conv2d_3_biases), ksize=[1, 2, 2, 1], strides=[1, 2, 2, 1], padding='SAME')\n",
    "                shape = pool_3.get_shape().as_list()\n",
    "                reshape = tf.reshape(pool_3, [shape[0], shape[1] * shape[2] * shape[3]])\n",
    "                hidden = tf.nn.relu(tf.matmul(reshape, fc_1_weights) + fc_1_biases)\n",
    "                prediction_cccff = tf.nn.softmax(tf.matmul(hidden, fc_2_weights) + fc_2_biases)\n",
    "            pred = sess.run(prediction_cccff, feed_dict=feed_dict)\n",
    "        \n",
    "        elif name=='cccfff':\n",
    "            with tf.name_scope('prediction_cccff'):\n",
    "                pool_1 = tf.nn.max_pool(tf.nn.relu(tf.nn.conv2d(tf_evaluation_dataset, conv2d_1_weights, [1, 1, 1, 1], padding='SAME') + conv2d_1_biases), ksize=[1, 2, 2, 1], strides=[1, 2, 2, 1], padding='SAME')\n",
    "                pool_2 = tf.nn.max_pool(tf.nn.relu(tf.nn.conv2d(pool_1, conv2d_2_weights, [1, 1, 1, 1], padding='SAME')  + conv2d_2_biases), ksize=[1, 2, 2, 1], strides=[1, 2, 2, 1], padding='SAME')\n",
    "                pool_3 = tf.nn.max_pool(tf.nn.relu(tf.nn.conv2d(pool_2, conv2d_3_weights, [1, 1, 1, 1], padding='SAME')  + conv2d_3_biases), ksize=[1, 2, 2, 1], strides=[1, 2, 2, 1], padding='SAME')\n",
    "                shape = pool_3.get_shape().as_list()\n",
    "                reshape = tf.reshape(pool_3, [shape[0], shape[1] * shape[2] * shape[3]])\n",
    "                hidden = tf.nn.relu(tf.matmul(reshape, fc_1_weights) + fc_1_biases)\n",
    "                hidden = tf.nn.relu(tf.matmul(hidden, fc_2_weights) + fc_2_biases)\n",
    "                prediction_cccfff = tf.nn.softmax(tf.matmul(hidden, fc_3_weights) + fc_3_biases)\n",
    "            pred = sess.run(prediction_cccfff, feed_dict=feed_dict)\n",
    "        \n",
    "        else:\n",
    "            break        \n",
    "        \n",
    "        preds_1.extend(pred[:,0])\n",
    "        preds_2.extend(pred[:,1])\n",
    "        \n",
    "prediction = np.array(list(zip(preds_1, preds_2)))\n",
    "prediction.shape"
   ]
  },
  {
   "cell_type": "code",
   "execution_count": 6,
   "metadata": {
    "collapsed": true,
    "deletable": true,
    "editable": true
   },
   "outputs": [],
   "source": [
    "from sklearn.metrics import accuracy_score\n",
    "from sklearn.metrics import roc_auc_score\n",
    "from sklearn.metrics import roc_curve\n",
    "\n",
    "import matplotlib.pyplot as plt"
   ]
  },
  {
   "cell_type": "code",
   "execution_count": 7,
   "metadata": {
    "collapsed": false,
    "deletable": true,
    "editable": true
   },
   "outputs": [
    {
     "data": {
      "text/plain": [
       "0.91014399999999995"
      ]
     },
     "execution_count": 7,
     "metadata": {},
     "output_type": "execute_result"
    }
   ],
   "source": [
    "accuracy_score(np.argmax(evaluation_labels, axis=1), np.argmax(prediction, axis=1))"
   ]
  },
  {
   "cell_type": "code",
   "execution_count": 8,
   "metadata": {
    "collapsed": false,
    "deletable": true,
    "editable": true
   },
   "outputs": [
    {
     "data": {
      "text/plain": [
       "0.92763619091603033"
      ]
     },
     "execution_count": 8,
     "metadata": {},
     "output_type": "execute_result"
    }
   ],
   "source": [
    "auc = roc_auc_score(evaluation_labels, prediction)\n",
    "auc"
   ]
  },
  {
   "cell_type": "markdown",
   "metadata": {
    "deletable": true,
    "editable": true
   },
   "source": [
    "Accuracy: 0.91124000000000005\n",
    "\n",
    "Auc: 0.9285115862726846"
   ]
  },
  {
   "cell_type": "code",
   "execution_count": 9,
   "metadata": {
    "collapsed": false,
    "deletable": true,
    "editable": true
   },
   "outputs": [
    {
     "data": {
      "image/png": "[encoded data removed]",
      "text/plain": [
       "<matplotlib.figure.Figure at 0x7f7db7fb5438>"
      ]
     },
     "metadata": {},
     "output_type": "display_data"
    }
   ],
   "source": [
    "fpr, tpr, tresh = roc_curve(np.argmax(evaluation_labels, axis=1), prediction[:,1])\n",
    "\n",
    "plt.plot(fpr, tpr)\n",
    "plt.title('ROC Curve - AUC = {:.4f}'.format(auc))\n",
    "plt.xlabel('FPR')\n",
    "plt.ylabel('TPR')\n",
    "plt.show()"
   ]
  },
  {
   "cell_type": "code",
   "execution_count": 10,
   "metadata": {
    "collapsed": false,
    "deletable": true,
    "editable": true,
    "scrolled": false
   },
   "outputs": [
    {
     "data": {
      "image/png": "[encoded data removed]",
      "text/plain": [
       "<matplotlib.figure.Figure at 0x7f82bb73c6d8>"
      ]
     },
     "metadata": {},
     "output_type": "display_data"
    }
   ],
   "source": [
    "plt.hist(prediction[:,1][np.array(np.argmax(evaluation_labels, axis=1),dtype=bool)], color='b', alpha=0.5, bins=100, label='Gamma')\n",
    "plt.hist(prediction[:,1][~np.array(np.argmax(evaluation_labels, axis=1),dtype=bool)], color='r', alpha=0.5, bins=100, label='Proton')\n",
    "plt.yscale('log')\n",
    "plt.title('Histogram of 500000 Predicted MC Events, Ratio 4:1')\n",
    "plt.xlabel('Predicted Probability')\n",
    "plt.ylabel('Event Count')\n",
    "plt.legend()\n",
    "plt.show()"
   ]
  },
  {
   "cell_type": "code",
   "execution_count": null,
   "metadata": {
    "collapsed": true,
    "deletable": true,
    "editable": true
   },
   "outputs": [],
   "source": []
  }
 ],
 "metadata": {
  "kernelspec": {
   "display_name": "Python [default]",
   "language": "python",
   "name": "python3"
  },
  "language_info": {
   "codemirror_mode": {
    "name": "ipython",
    "version": 3
   },
   "file_extension": ".py",
   "mimetype": "text/x-python",
   "name": "python",
   "nbconvert_exporter": "python",
   "pygments_lexer": "ipython3",
   "version": "3.5.3"
  }
 },
 "nbformat": 4,
 "nbformat_minor": 2
}
