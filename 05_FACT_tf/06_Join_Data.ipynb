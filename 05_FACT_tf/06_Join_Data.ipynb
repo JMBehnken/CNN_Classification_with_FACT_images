{
 "cells": [
  {
   "cell_type": "code",
   "execution_count": 1,
   "metadata": {
    "collapsed": true
   },
   "outputs": [],
   "source": [
    "import h5py\n",
    "import numpy as np"
   ]
  },
  {
   "cell_type": "code",
   "execution_count": 5,
   "metadata": {},
   "outputs": [
    {
     "name": "stdout",
     "output_type": "stream",
     "text": [
      "['alpha', 'alpha_off_1', 'alpha_off_2', 'alpha_off_3', 'alpha_off_4', 'alpha_off_5', 'anti_source_position_1', 'anti_source_position_2', 'anti_source_position_3', 'anti_source_position_4', 'anti_source_position_5', 'arr_time_pedestal_kurtosis', 'arr_time_pedestal_max', 'arr_time_pedestal_mean', 'arr_time_pedestal_median', 'arr_time_pedestal_min', 'arr_time_pedestal_p25', 'arr_time_pedestal_p75', 'arr_time_pedestal_skewness', 'arr_time_pedestal_variance', 'arr_time_pos_shower_kurtosis', 'arr_time_pos_shower_max', 'arr_time_pos_shower_mean', 'arr_time_pos_shower_min', 'arr_time_pos_shower_skewness', 'arr_time_pos_shower_variance', 'arr_time_shower_kurtosis', 'arr_time_shower_max', 'arr_time_shower_mean', 'arr_time_shower_min', 'arr_time_shower_skewness', 'arr_time_shower_variance', 'arrival_time_mean', 'az_pointing', 'az_source_calc', 'az_tracking', 'cog_x', 'cog_y', 'conc_cog', 'conc_core', 'concentration_one_pixel', 'concentration_two_pixel', 'cos_delta_alpha', 'cos_delta_alpha_off_1', 'cos_delta_alpha_off_2', 'cos_delta_alpha_off_3', 'cos_delta_alpha_off_4', 'cos_delta_alpha_off_5', 'delta', 'disp', 'distance', 'distance_off_1', 'distance_off_2', 'distance_off_3', 'distance_off_4', 'distance_off_5', 'event_num', 'fluct_mean_kurtosis', 'fluct_mean_max', 'fluct_mean_mean', 'fluct_mean_median', 'fluct_mean_min', 'fluct_mean_p25', 'fluct_mean_p75', 'fluct_mean_skewness', 'fluct_mean_variance', 'fluct_median_kurtosis', 'fluct_median_max', 'fluct_median_mean', 'fluct_median_median', 'fluct_median_min', 'fluct_median_p25', 'fluct_median_p75', 'fluct_median_skewness', 'fluct_median_variance', 'fluct_std_kurtosis', 'fluct_std_max', 'fluct_std_mean', 'fluct_std_median', 'fluct_std_min', 'fluct_std_p25', 'fluct_std_p75', 'fluct_std_skewness', 'fluct_std_variance', 'fluct_sum_kurtosis', 'fluct_sum_max', 'fluct_sum_mean', 'fluct_sum_median', 'fluct_sum_min', 'fluct_sum_p25', 'fluct_sum_p75', 'fluct_sum_skewness', 'fluct_sum_variance', 'fluct_var_kurtosis', 'fluct_var_max', 'fluct_var_mean', 'fluct_var_median', 'fluct_var_min', 'fluct_var_p25', 'fluct_var_p75', 'fluct_var_skewness', 'fluct_var_variance', 'leakage', 'leakage2', 'length', 'm3_long', 'm3_trans', 'm3l', 'm3t', 'm4_long', 'm4_trans', 'max_pos_pedestal_kurtosis', 'max_pos_pedestal_max', 'max_pos_pedestal_mean', 'max_pos_pedestal_median', 'max_pos_pedestal_min', 'max_pos_pedestal_p25', 'max_pos_pedestal_p75', 'max_pos_pedestal_skewness', 'max_pos_pedestal_variance', 'max_pos_shower_kurtosis', 'max_pos_shower_max', 'max_pos_shower_mean', 'max_pos_shower_min', 'max_pos_shower_skewness', 'max_pos_shower_variance', 'max_slopes_pedestal_kurtosis', 'max_slopes_pedestal_max', 'max_slopes_pedestal_mean', 'max_slopes_pedestal_median', 'max_slopes_pedestal_min', 'max_slopes_pedestal_p25', 'max_slopes_pedestal_p75', 'max_slopes_pedestal_skewness', 'max_slopes_pedestal_variance', 'max_slopes_pos_shower_kurtosis', 'max_slopes_pos_shower_max', 'max_slopes_pos_shower_mean', 'max_slopes_pos_shower_min', 'max_slopes_pos_shower_skewness', 'max_slopes_pos_shower_variance', 'max_slopes_shower_kurtosis', 'max_slopes_shower_max', 'max_slopes_shower_mean', 'max_slopes_shower_min', 'max_slopes_shower_skewness', 'max_slopes_shower_variance', 'night', 'npix', 'nroi', 'num_islands', 'num_pixel_in_pedestal', 'num_pixel_in_shower', 'ped_mean_kurtosis', 'ped_mean_max', 'ped_mean_mean', 'ped_mean_median', 'ped_mean_min', 'ped_mean_p25', 'ped_mean_p75', 'ped_mean_skewness', 'ped_mean_variance', 'ped_median_kurtosis', 'ped_median_max', 'ped_median_mean', 'ped_median_median', 'ped_median_min', 'ped_median_p25', 'ped_median_p75', 'ped_median_skewness', 'ped_median_variance', 'ped_std_kurtosis', 'ped_std_max', 'ped_std_mean', 'ped_std_median', 'ped_std_min', 'ped_std_p25', 'ped_std_p75', 'ped_std_skewness', 'ped_std_variance', 'ped_sum_kurtosis', 'ped_sum_max', 'ped_sum_mean', 'ped_sum_median', 'ped_sum_min', 'ped_sum_p25', 'ped_sum_p75', 'ped_sum_skewness', 'ped_sum_variance', 'ped_var_kurtosis', 'ped_var_max', 'ped_var_mean', 'ped_var_median', 'ped_var_min', 'ped_var_p25', 'ped_var_p75', 'ped_var_skewness', 'ped_var_variance', 'pedestal_size', 'pedestal_timespread', 'ph_charge_pedestal_kurtosis', 'ph_charge_pedestal_max', 'ph_charge_pedestal_mean', 'ph_charge_pedestal_median', 'ph_charge_pedestal_min', 'ph_charge_pedestal_p25', 'ph_charge_pedestal_p75', 'ph_charge_pedestal_skewness', 'ph_charge_pedestal_variance', 'ph_charge_shower_kurtosis', 'ph_charge_shower_max', 'ph_charge_shower_mean', 'ph_charge_shower_min', 'ph_charge_shower_skewness', 'ph_charge_shower_variance', 'photoncharge_mean', 'run_id', 'size', 'slope_long', 'slope_spread', 'slope_spread_weighted', 'slope_trans', 'source_position', 'theta', 'theta_deg', 'theta_deg_off_1', 'theta_deg_off_2', 'theta_deg_off_3', 'theta_deg_off_4', 'theta_deg_off_5', 'theta_off_1', 'theta_off_1_rec_pos', 'theta_off_2', 'theta_off_2_rec_pos', 'theta_off_3', 'theta_off_3_rec_pos', 'theta_off_4', 'theta_off_4_rec_pos', 'theta_off_5', 'theta_off_5_rec_pos', 'theta_rec_pos', 'time_gradient_intercept', 'time_gradient_intercept_err', 'time_gradient_slope', 'time_gradient_slope_err', 'time_gradient_sse', 'timespread', 'timespread_weighted', 'trigger_type', 'unix_time_utc', 'width', 'zd_pointing', 'zd_source_calc', 'zd_tracking']\n"
     ]
    }
   ],
   "source": [
    "keys = ['event_num', 'night', 'run_id', 'theta', 'theta_deg', 'theta_deg_off_1', 'theta_deg_off_2', 'theta_deg_off_3', 'theta_deg_off_4', 'theta_deg_off_5', 'theta_off_1', 'theta_off_1_rec_pos', 'theta_off_2', 'theta_off_2_rec_pos', 'theta_off_3', 'theta_off_3_rec_pos', 'theta_off_4', 'theta_off_4_rec_pos', 'theta_off_5', 'theta_off_5_rec_pos', 'theta_rec_pos']\n",
    "\n",
    "with h5py.File('/net/big-tank/POOL/projects/fact/datasets/Crab1314_darknight_std_analysis_0.17.2.hdf5', 'r') as f:\n",
    "    data  = []\n",
    "    for key in keys:\n",
    "        data.append(np.array(f['events'][key]))"
   ]
  },
  {
   "cell_type": "code",
   "execution_count": 3,
   "metadata": {},
   "outputs": [
    {
     "name": "stdout",
     "output_type": "stream",
     "text": [
      "15.056684732437134\n"
     ]
    }
   ],
   "source": [
    "data_2 = list(map(list, zip(*data)))"
   ]
  },
  {
   "cell_type": "code",
   "execution_count": 4,
   "metadata": {},
   "outputs": [
    {
     "name": "stdout",
     "output_type": "stream",
     "text": [
      "9.21841812133789\n"
     ]
    },
    {
     "data": {
      "text/html": [
       "<div>\n",
       "<table border=\"1\" class=\"dataframe\">\n",
       "  <thead>\n",
       "    <tr style=\"text-align: right;\">\n",
       "      <th></th>\n",
       "      <th>EventNum</th>\n",
       "      <th>NIGHT</th>\n",
       "      <th>RUNID</th>\n",
       "      <th>Theta</th>\n",
       "      <th>Theta_Off_1</th>\n",
       "      <th>Theta_Off_1_recPos</th>\n",
       "      <th>Theta_Off_2</th>\n",
       "      <th>Theta_Off_2_recPos</th>\n",
       "      <th>Theta_Off_3</th>\n",
       "      <th>Theta_Off_3_recPos</th>\n",
       "      <th>Theta_Off_4</th>\n",
       "      <th>Theta_Off_4_recPos</th>\n",
       "      <th>Theta_Off_5</th>\n",
       "      <th>Theta_Off_5_recPos</th>\n",
       "      <th>Theta_recPos</th>\n",
       "    </tr>\n",
       "  </thead>\n",
       "  <tbody>\n",
       "    <tr>\n",
       "      <th>0</th>\n",
       "      <td>1</td>\n",
       "      <td>20141001</td>\n",
       "      <td>261</td>\n",
       "      <td>165.558311</td>\n",
       "      <td>140.074721</td>\n",
       "      <td>[113.030107211, 125.157628997]</td>\n",
       "      <td>96.559476</td>\n",
       "      <td>[-50.8634821528, 102.397549627]</td>\n",
       "      <td>63.186768</td>\n",
       "      <td>[-50.8634821528, 102.397549627]</td>\n",
       "      <td>101.832687</td>\n",
       "      <td>[-50.8634821528, 102.397549627]</td>\n",
       "      <td>148.587985</td>\n",
       "      <td>[-50.8634821528, 102.397549627]</td>\n",
       "      <td>[-50.8634821528, 102.397549627]</td>\n",
       "    </tr>\n",
       "    <tr>\n",
       "      <th>1</th>\n",
       "      <td>6</td>\n",
       "      <td>20141001</td>\n",
       "      <td>261</td>\n",
       "      <td>156.931999</td>\n",
       "      <td>165.377785</td>\n",
       "      <td>[-110.351134243, 34.49319218]</td>\n",
       "      <td>136.813821</td>\n",
       "      <td>[-110.351134243, 34.49319218]</td>\n",
       "      <td>85.814170</td>\n",
       "      <td>[-110.351134243, 34.49319218]</td>\n",
       "      <td>68.131581</td>\n",
       "      <td>[-110.351134243, 34.49319218]</td>\n",
       "      <td>115.211556</td>\n",
       "      <td>[-110.351134243, 34.49319218]</td>\n",
       "      <td>[-110.351134243, 34.49319218]</td>\n",
       "    </tr>\n",
       "    <tr>\n",
       "      <th>2</th>\n",
       "      <td>7</td>\n",
       "      <td>20141001</td>\n",
       "      <td>261</td>\n",
       "      <td>122.122794</td>\n",
       "      <td>172.615935</td>\n",
       "      <td>[-14.0752599255, -160.336013886]</td>\n",
       "      <td>208.366848</td>\n",
       "      <td>[-14.0752599255, -160.336013886]</td>\n",
       "      <td>205.316686</td>\n",
       "      <td>[-14.0752599255, -160.336013886]</td>\n",
       "      <td>165.144354</td>\n",
       "      <td>[-14.0752599255, -160.336013886]</td>\n",
       "      <td>116.842523</td>\n",
       "      <td>[-14.0752599255, -160.336013886]</td>\n",
       "      <td>[-14.0752599255, -160.336013886]</td>\n",
       "    </tr>\n",
       "    <tr>\n",
       "      <th>3</th>\n",
       "      <td>8</td>\n",
       "      <td>20141001</td>\n",
       "      <td>261</td>\n",
       "      <td>30.467946</td>\n",
       "      <td>80.953319</td>\n",
       "      <td>[2.83316357285, -65.4311722148]</td>\n",
       "      <td>111.996063</td>\n",
       "      <td>[2.83316357285, -65.4311722148]</td>\n",
       "      <td>113.611850</td>\n",
       "      <td>[2.83316357285, -65.4311722148]</td>\n",
       "      <td>85.337614</td>\n",
       "      <td>[2.83316357285, -65.4311722148]</td>\n",
       "      <td>35.955945</td>\n",
       "      <td>[2.83316357285, -65.4311722148]</td>\n",
       "      <td>[2.83316357285, -65.4311722148]</td>\n",
       "    </tr>\n",
       "    <tr>\n",
       "      <th>4</th>\n",
       "      <td>13</td>\n",
       "      <td>20141001</td>\n",
       "      <td>261</td>\n",
       "      <td>100.959653</td>\n",
       "      <td>98.768782</td>\n",
       "      <td>[123.353553055, -68.0855480763]</td>\n",
       "      <td>148.468416</td>\n",
       "      <td>[123.353553055, -68.0855480763]</td>\n",
       "      <td>186.461922</td>\n",
       "      <td>[123.353553055, -68.0855480763]</td>\n",
       "      <td>187.631627</td>\n",
       "      <td>[123.353553055, -68.0855480763]</td>\n",
       "      <td>151.387017</td>\n",
       "      <td>[123.353553055, -68.0855480763]</td>\n",
       "      <td>[123.353553055, -68.0855480763]</td>\n",
       "    </tr>\n",
       "  </tbody>\n",
       "</table>\n",
       "</div>"
      ],
      "text/plain": [
       "   EventNum     NIGHT  RUNID       Theta  Theta_Off_1  \\\n",
       "0         1  20141001    261  165.558311   140.074721   \n",
       "1         6  20141001    261  156.931999   165.377785   \n",
       "2         7  20141001    261  122.122794   172.615935   \n",
       "3         8  20141001    261   30.467946    80.953319   \n",
       "4        13  20141001    261  100.959653    98.768782   \n",
       "\n",
       "                 Theta_Off_1_recPos  Theta_Off_2  \\\n",
       "0    [113.030107211, 125.157628997]    96.559476   \n",
       "1     [-110.351134243, 34.49319218]   136.813821   \n",
       "2  [-14.0752599255, -160.336013886]   208.366848   \n",
       "3   [2.83316357285, -65.4311722148]   111.996063   \n",
       "4   [123.353553055, -68.0855480763]   148.468416   \n",
       "\n",
       "                 Theta_Off_2_recPos  Theta_Off_3  \\\n",
       "0   [-50.8634821528, 102.397549627]    63.186768   \n",
       "1     [-110.351134243, 34.49319218]    85.814170   \n",
       "2  [-14.0752599255, -160.336013886]   205.316686   \n",
       "3   [2.83316357285, -65.4311722148]   113.611850   \n",
       "4   [123.353553055, -68.0855480763]   186.461922   \n",
       "\n",
       "                 Theta_Off_3_recPos  Theta_Off_4  \\\n",
       "0   [-50.8634821528, 102.397549627]   101.832687   \n",
       "1     [-110.351134243, 34.49319218]    68.131581   \n",
       "2  [-14.0752599255, -160.336013886]   165.144354   \n",
       "3   [2.83316357285, -65.4311722148]    85.337614   \n",
       "4   [123.353553055, -68.0855480763]   187.631627   \n",
       "\n",
       "                 Theta_Off_4_recPos  Theta_Off_5  \\\n",
       "0   [-50.8634821528, 102.397549627]   148.587985   \n",
       "1     [-110.351134243, 34.49319218]   115.211556   \n",
       "2  [-14.0752599255, -160.336013886]   116.842523   \n",
       "3   [2.83316357285, -65.4311722148]    35.955945   \n",
       "4   [123.353553055, -68.0855480763]   151.387017   \n",
       "\n",
       "                 Theta_Off_5_recPos                      Theta_recPos  \n",
       "0   [-50.8634821528, 102.397549627]   [-50.8634821528, 102.397549627]  \n",
       "1     [-110.351134243, 34.49319218]     [-110.351134243, 34.49319218]  \n",
       "2  [-14.0752599255, -160.336013886]  [-14.0752599255, -160.336013886]  \n",
       "3   [2.83316357285, -65.4311722148]   [2.83316357285, -65.4311722148]  \n",
       "4   [123.353553055, -68.0855480763]   [123.353553055, -68.0855480763]  "
      ]
     },
     "execution_count": 4,
     "metadata": {},
     "output_type": "execute_result"
    }
   ],
   "source": [
    "import pandas as pd\n",
    "\n",
    "df = pd.DataFrame(data_2)\n",
    "df.columns = keys"
   ]
  },
  {
   "cell_type": "code",
   "execution_count": 5,
   "metadata": {},
   "outputs": [],
   "source": [
    "df.to_csv('FACT_Data_to_merge.csv', chunksize=1000, index=False)"
   ]
  },
  {
   "cell_type": "code",
   "execution_count": null,
   "metadata": {
    "collapsed": true
   },
   "outputs": [],
   "source": []
  },
  {
   "cell_type": "code",
   "execution_count": 7,
   "metadata": {
    "collapsed": true
   },
   "outputs": [],
   "source": [
    "df_my = pd.read_csv('Data_to_merge.csv')\n",
    "df_fact = pd.read_csv('FACT_Data_to_merge.csv')"
   ]
  },
  {
   "cell_type": "code",
   "execution_count": 19,
   "metadata": {},
   "outputs": [
    {
     "data": {
      "text/html": [
       "<div>\n",
       "<table border=\"1\" class=\"dataframe\">\n",
       "  <thead>\n",
       "    <tr style=\"text-align: right;\">\n",
       "      <th></th>\n",
       "      <th>NIGHT</th>\n",
       "      <th>RUNID</th>\n",
       "      <th>EventNum</th>\n",
       "      <th>proton_prediction</th>\n",
       "      <th>gamma_prediction</th>\n",
       "    </tr>\n",
       "  </thead>\n",
       "  <tbody>\n",
       "    <tr>\n",
       "      <th>count</th>\n",
       "      <td>2.055000e+07</td>\n",
       "      <td>2.055000e+07</td>\n",
       "      <td>2.055000e+07</td>\n",
       "      <td>2.055000e+07</td>\n",
       "      <td>2.055000e+07</td>\n",
       "    </tr>\n",
       "    <tr>\n",
       "      <th>mean</th>\n",
       "      <td>2.013260e+07</td>\n",
       "      <td>1.762331e+02</td>\n",
       "      <td>1.013900e+04</td>\n",
       "      <td>9.972497e-01</td>\n",
       "      <td>2.750327e-03</td>\n",
       "    </tr>\n",
       "    <tr>\n",
       "      <th>std</th>\n",
       "      <td>3.385553e+03</td>\n",
       "      <td>3.736823e+01</td>\n",
       "      <td>6.118459e+03</td>\n",
       "      <td>4.155839e-02</td>\n",
       "      <td>4.155839e-02</td>\n",
       "    </tr>\n",
       "    <tr>\n",
       "      <th>min</th>\n",
       "      <td>2.013100e+07</td>\n",
       "      <td>1.000000e+02</td>\n",
       "      <td>1.000000e+00</td>\n",
       "      <td>0.000000e+00</td>\n",
       "      <td>0.000000e+00</td>\n",
       "    </tr>\n",
       "    <tr>\n",
       "      <th>25%</th>\n",
       "      <td>2.013101e+07</td>\n",
       "      <td>1.500000e+02</td>\n",
       "      <td>4.812000e+03</td>\n",
       "      <td>1.000000e+00</td>\n",
       "      <td>1.145017e-27</td>\n",
       "    </tr>\n",
       "    <tr>\n",
       "      <th>50%</th>\n",
       "      <td>2.013111e+07</td>\n",
       "      <td>1.820000e+02</td>\n",
       "      <td>9.970000e+03</td>\n",
       "      <td>1.000000e+00</td>\n",
       "      <td>2.272617e-23</td>\n",
       "    </tr>\n",
       "    <tr>\n",
       "      <th>75%</th>\n",
       "      <td>2.013113e+07</td>\n",
       "      <td>2.060000e+02</td>\n",
       "      <td>1.517900e+04</td>\n",
       "      <td>1.000000e+00</td>\n",
       "      <td>1.761094e-19</td>\n",
       "    </tr>\n",
       "    <tr>\n",
       "      <th>max</th>\n",
       "      <td>2.014020e+07</td>\n",
       "      <td>2.460000e+02</td>\n",
       "      <td>2.765700e+04</td>\n",
       "      <td>1.000000e+00</td>\n",
       "      <td>1.000000e+00</td>\n",
       "    </tr>\n",
       "  </tbody>\n",
       "</table>\n",
       "</div>"
      ],
      "text/plain": [
       "              NIGHT         RUNID      EventNum  proton_prediction  \\\n",
       "count  2.055000e+07  2.055000e+07  2.055000e+07       2.055000e+07   \n",
       "mean   2.013260e+07  1.762331e+02  1.013900e+04       9.972497e-01   \n",
       "std    3.385553e+03  3.736823e+01  6.118459e+03       4.155839e-02   \n",
       "min    2.013100e+07  1.000000e+02  1.000000e+00       0.000000e+00   \n",
       "25%    2.013101e+07  1.500000e+02  4.812000e+03       1.000000e+00   \n",
       "50%    2.013111e+07  1.820000e+02  9.970000e+03       1.000000e+00   \n",
       "75%    2.013113e+07  2.060000e+02  1.517900e+04       1.000000e+00   \n",
       "max    2.014020e+07  2.460000e+02  2.765700e+04       1.000000e+00   \n",
       "\n",
       "       gamma_prediction  \n",
       "count      2.055000e+07  \n",
       "mean       2.750327e-03  \n",
       "std        4.155839e-02  \n",
       "min        0.000000e+00  \n",
       "25%        1.145017e-27  \n",
       "50%        2.272617e-23  \n",
       "75%        1.761094e-19  \n",
       "max        1.000000e+00  "
      ]
     },
     "execution_count": 19,
     "metadata": {},
     "output_type": "execute_result"
    }
   ],
   "source": [
    "df_my.columns = ['night', 'run_id', 'event_num', 'proton_prediction', 'gamma_prediction']"
   ]
  },
  {
   "cell_type": "code",
   "execution_count": 15,
   "metadata": {},
   "outputs": [],
   "source": [
    "df_merged = pd.merge(df_my, df_fact, how='inner', on=['event_num', 'night', 'run_id'])"
   ]
  },
  {
   "cell_type": "code",
   "execution_count": 16,
   "metadata": {},
   "outputs": [
    {
     "data": {
      "text/plain": [
       "(0, 17)"
      ]
     },
     "execution_count": 16,
     "metadata": {},
     "output_type": "execute_result"
    }
   ],
   "source": [
    "df_merged.to_csv('Merged_Data.csv', chunksize=1000, index=False)"
   ]
  },
  {
   "cell_type": "code",
   "execution_count": null,
   "metadata": {
    "collapsed": true
   },
   "outputs": [],
   "source": []
  },
  {
   "cell_type": "code",
   "execution_count": 1,
   "metadata": {},
   "outputs": [
    {
     "data": {
      "text/html": [
       "<div>\n",
       "<table border=\"1\" class=\"dataframe\">\n",
       "  <thead>\n",
       "    <tr style=\"text-align: right;\">\n",
       "      <th></th>\n",
       "      <th>night</th>\n",
       "      <th>run_id</th>\n",
       "      <th>event_num</th>\n",
       "      <th>proton_prediction</th>\n",
       "      <th>gamma_prediction</th>\n",
       "      <th>theta</th>\n",
       "      <th>theta_deg</th>\n",
       "      <th>theta_deg_off_1</th>\n",
       "      <th>theta_deg_off_2</th>\n",
       "      <th>theta_deg_off_3</th>\n",
       "      <th>...</th>\n",
       "      <th>theta_off_1_rec_pos</th>\n",
       "      <th>theta_off_2</th>\n",
       "      <th>theta_off_2_rec_pos</th>\n",
       "      <th>theta_off_3</th>\n",
       "      <th>theta_off_3_rec_pos</th>\n",
       "      <th>theta_off_4</th>\n",
       "      <th>theta_off_4_rec_pos</th>\n",
       "      <th>theta_off_5</th>\n",
       "      <th>theta_off_5_rec_pos</th>\n",
       "      <th>theta_rec_pos</th>\n",
       "    </tr>\n",
       "  </thead>\n",
       "  <tbody>\n",
       "    <tr>\n",
       "      <th>0</th>\n",
       "      <td>20131003</td>\n",
       "      <td>187</td>\n",
       "      <td>1</td>\n",
       "      <td>1.0</td>\n",
       "      <td>2.405052e-22</td>\n",
       "      <td>211.697652</td>\n",
       "      <td>2.480953</td>\n",
       "      <td>2.851242</td>\n",
       "      <td>2.427608</td>\n",
       "      <td>1.860744</td>\n",
       "      <td>...</td>\n",
       "      <td>[-186.24449463  -53.12592793]</td>\n",
       "      <td>207.145778</td>\n",
       "      <td>[-171.7726009   105.84261604]</td>\n",
       "      <td>158.775758</td>\n",
       "      <td>[-171.7726009   105.84261604]</td>\n",
       "      <td>145.203817</td>\n",
       "      <td>[-186.24449463  -53.12592793]</td>\n",
       "      <td>160.505326</td>\n",
       "      <td>[-186.24449463  -53.12592793]</td>\n",
       "      <td>[-186.24449463  -53.12592793]</td>\n",
       "    </tr>\n",
       "    <tr>\n",
       "      <th>1</th>\n",
       "      <td>20131003</td>\n",
       "      <td>187</td>\n",
       "      <td>2</td>\n",
       "      <td>1.0</td>\n",
       "      <td>1.412822e-22</td>\n",
       "      <td>70.390635</td>\n",
       "      <td>0.824930</td>\n",
       "      <td>1.401054</td>\n",
       "      <td>1.860766</td>\n",
       "      <td>1.918205</td>\n",
       "      <td>...</td>\n",
       "      <td>[  14.50498222 -114.16520545]</td>\n",
       "      <td>158.777634</td>\n",
       "      <td>[  14.50498222 -114.16520545]</td>\n",
       "      <td>163.678813</td>\n",
       "      <td>[  14.50498222 -114.16520545]</td>\n",
       "      <td>132.110614</td>\n",
       "      <td>[  14.50498222 -114.16520545]</td>\n",
       "      <td>80.840943</td>\n",
       "      <td>[  14.50498222 -114.16520545]</td>\n",
       "      <td>[  14.50498222 -114.16520545]</td>\n",
       "    </tr>\n",
       "    <tr>\n",
       "      <th>2</th>\n",
       "      <td>20131003</td>\n",
       "      <td>187</td>\n",
       "      <td>3</td>\n",
       "      <td>1.0</td>\n",
       "      <td>1.414780e-10</td>\n",
       "      <td>51.351068</td>\n",
       "      <td>0.601800</td>\n",
       "      <td>0.319928</td>\n",
       "      <td>0.913897</td>\n",
       "      <td>1.304272</td>\n",
       "      <td>...</td>\n",
       "      <td>[ 70.32836743 -19.95248894]</td>\n",
       "      <td>77.982067</td>\n",
       "      <td>[ 70.32836743 -19.95248894]</td>\n",
       "      <td>111.292445</td>\n",
       "      <td>[-73.67617301 -55.61520817]</td>\n",
       "      <td>60.337692</td>\n",
       "      <td>[-73.67617301 -55.61520817]</td>\n",
       "      <td>49.036390</td>\n",
       "      <td>[-73.67617301 -55.61520817]</td>\n",
       "      <td>[ 70.32836743 -19.95248894]</td>\n",
       "    </tr>\n",
       "    <tr>\n",
       "      <th>3</th>\n",
       "      <td>20131003</td>\n",
       "      <td>187</td>\n",
       "      <td>4</td>\n",
       "      <td>1.0</td>\n",
       "      <td>0.000000e+00</td>\n",
       "      <td>221.293786</td>\n",
       "      <td>2.593413</td>\n",
       "      <td>2.524313</td>\n",
       "      <td>1.947110</td>\n",
       "      <td>1.549751</td>\n",
       "      <td>...</td>\n",
       "      <td>[ -97.43009682  155.4273954 ]</td>\n",
       "      <td>166.145259</td>\n",
       "      <td>[ -97.43009682  155.4273954 ]</td>\n",
       "      <td>132.238988</td>\n",
       "      <td>[ -97.43009682  155.4273954 ]</td>\n",
       "      <td>133.548265</td>\n",
       "      <td>[-177.51404718   43.96697345]</td>\n",
       "      <td>175.308409</td>\n",
       "      <td>[-177.51404718   43.96697345]</td>\n",
       "      <td>[-177.51404718   43.96697345]</td>\n",
       "    </tr>\n",
       "    <tr>\n",
       "      <th>4</th>\n",
       "      <td>20131003</td>\n",
       "      <td>187</td>\n",
       "      <td>7</td>\n",
       "      <td>1.0</td>\n",
       "      <td>1.000924e-22</td>\n",
       "      <td>75.230834</td>\n",
       "      <td>0.881654</td>\n",
       "      <td>1.417309</td>\n",
       "      <td>1.625697</td>\n",
       "      <td>1.430231</td>\n",
       "      <td>...</td>\n",
       "      <td>[-43.02072647 -76.13989154]</td>\n",
       "      <td>138.719350</td>\n",
       "      <td>[-43.02072647 -76.13989154]</td>\n",
       "      <td>122.040450</td>\n",
       "      <td>[-43.02072647 -76.13989154]</td>\n",
       "      <td>76.990833</td>\n",
       "      <td>[-43.02072647 -76.13989154]</td>\n",
       "      <td>36.200716</td>\n",
       "      <td>[-43.02072647 -76.13989154]</td>\n",
       "      <td>[-43.02072647 -76.13989154]</td>\n",
       "    </tr>\n",
       "  </tbody>\n",
       "</table>\n",
       "<p>5 rows × 23 columns</p>\n",
       "</div>"
      ],
      "text/plain": [
       "      night  run_id  event_num  proton_prediction  gamma_prediction  \\\n",
       "0  20131003     187          1                1.0      2.405052e-22   \n",
       "1  20131003     187          2                1.0      1.412822e-22   \n",
       "2  20131003     187          3                1.0      1.414780e-10   \n",
       "3  20131003     187          4                1.0      0.000000e+00   \n",
       "4  20131003     187          7                1.0      1.000924e-22   \n",
       "\n",
       "        theta  theta_deg  theta_deg_off_1  theta_deg_off_2  theta_deg_off_3  \\\n",
       "0  211.697652   2.480953         2.851242         2.427608         1.860744   \n",
       "1   70.390635   0.824930         1.401054         1.860766         1.918205   \n",
       "2   51.351068   0.601800         0.319928         0.913897         1.304272   \n",
       "3  221.293786   2.593413         2.524313         1.947110         1.549751   \n",
       "4   75.230834   0.881654         1.417309         1.625697         1.430231   \n",
       "\n",
       "               ...                          theta_off_1_rec_pos  theta_off_2  \\\n",
       "0              ...                [-186.24449463  -53.12592793]   207.145778   \n",
       "1              ...                [  14.50498222 -114.16520545]   158.777634   \n",
       "2              ...                  [ 70.32836743 -19.95248894]    77.982067   \n",
       "3              ...                [ -97.43009682  155.4273954 ]   166.145259   \n",
       "4              ...                  [-43.02072647 -76.13989154]   138.719350   \n",
       "\n",
       "             theta_off_2_rec_pos theta_off_3            theta_off_3_rec_pos  \\\n",
       "0  [-171.7726009   105.84261604]  158.775758  [-171.7726009   105.84261604]   \n",
       "1  [  14.50498222 -114.16520545]  163.678813  [  14.50498222 -114.16520545]   \n",
       "2    [ 70.32836743 -19.95248894]  111.292445    [-73.67617301 -55.61520817]   \n",
       "3  [ -97.43009682  155.4273954 ]  132.238988  [ -97.43009682  155.4273954 ]   \n",
       "4    [-43.02072647 -76.13989154]  122.040450    [-43.02072647 -76.13989154]   \n",
       "\n",
       "  theta_off_4            theta_off_4_rec_pos theta_off_5  \\\n",
       "0  145.203817  [-186.24449463  -53.12592793]  160.505326   \n",
       "1  132.110614  [  14.50498222 -114.16520545]   80.840943   \n",
       "2   60.337692    [-73.67617301 -55.61520817]   49.036390   \n",
       "3  133.548265  [-177.51404718   43.96697345]  175.308409   \n",
       "4   76.990833    [-43.02072647 -76.13989154]   36.200716   \n",
       "\n",
       "             theta_off_5_rec_pos                  theta_rec_pos  \n",
       "0  [-186.24449463  -53.12592793]  [-186.24449463  -53.12592793]  \n",
       "1  [  14.50498222 -114.16520545]  [  14.50498222 -114.16520545]  \n",
       "2    [-73.67617301 -55.61520817]    [ 70.32836743 -19.95248894]  \n",
       "3  [-177.51404718   43.96697345]  [-177.51404718   43.96697345]  \n",
       "4    [-43.02072647 -76.13989154]    [-43.02072647 -76.13989154]  \n",
       "\n",
       "[5 rows x 23 columns]"
      ]
     },
     "execution_count": 1,
     "metadata": {},
     "output_type": "execute_result"
    }
   ],
   "source": [
    "import pandas as pd\n",
    "df = pd.read_csv('Merged_Data.csv')\n",
    "df.head()"
   ]
  },
  {
   "cell_type": "code",
   "execution_count": 3,
   "metadata": {},
   "outputs": [
    {
     "data": {
      "text/plain": [
       "(79918, 23)"
      ]
     },
     "execution_count": 3,
     "metadata": {},
     "output_type": "execute_result"
    }
   ],
   "source": [
    "df[df['gamma_prediction']>0.5].shape"
   ]
  },
  {
   "cell_type": "code",
   "execution_count": 4,
   "metadata": {},
   "outputs": [
    {
     "ename": "ImportError",
     "evalue": "No module named 'pyfact'",
     "output_type": "error",
     "traceback": [
      "\u001b[0;31m---------------------------------------------------------------------------\u001b[0m",
      "\u001b[0;31mImportError\u001b[0m                               Traceback (most recent call last)",
      "\u001b[0;32m<ipython-input-4-15c9e00e6eb7>\u001b[0m in \u001b[0;36m<module>\u001b[0;34m()\u001b[0m\n\u001b[0;32m----> 1\u001b[0;31m \u001b[0;32mimport\u001b[0m \u001b[0mpyfact\u001b[0m\u001b[0;34m\u001b[0m\u001b[0m\n\u001b[0m",
      "\u001b[0;31mImportError\u001b[0m: No module named 'pyfact'"
     ]
    }
   ],
   "source": [
    "import pyfact"
   ]
  },
  {
   "cell_type": "code",
   "execution_count": null,
   "metadata": {
    "collapsed": true
   },
   "outputs": [],
   "source": []
  }
 ],
 "metadata": {
  "kernelspec": {
   "display_name": "Python 3",
   "language": "python",
   "name": "python3"
  },
  "language_info": {
   "codemirror_mode": {
    "name": "ipython",
    "version": 3
   },
   "file_extension": ".py",
   "mimetype": "text/x-python",
   "name": "python",
   "nbconvert_exporter": "python",
   "pygments_lexer": "ipython3",
   "version": "3.6.1"
  }
 },
 "nbformat": 4,
 "nbformat_minor": 2
}
