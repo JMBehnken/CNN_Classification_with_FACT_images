{
 "cells": [
  {
   "cell_type": "code",
   "execution_count": 1,
   "metadata": {},
   "outputs": [],
   "source": [
    "import tensorflow as tf\n",
    "import numpy as np\n",
    "import h5py\n",
    "\n",
    "batch_size = 50000\n",
    "\n",
    "def batchYielder():\n",
    "    with h5py.File('/fhgfs/users/jbehnken/01_Data/02_Crab_Prediction/real_data.h5', 'r') as hdf:\n",
    "        items = list(hdf.items())[0][1].shape[0]\n",
    "        i = 0\n",
    "\n",
    "        while (i+1)*batch_size < items/160: \n",
    "            night = np.array(hdf['Night'][ i*batch_size:(i+1)*batch_size ])\n",
    "            run = np.array(hdf['Run'][ i*batch_size:(i+1)*batch_size ])\n",
    "            event = np.array(hdf['Event'][ i*batch_size:(i+1)*batch_size ])\n",
    "            images = np.array(hdf['Image'][ i*batch_size:(i+1)*batch_size ])\n",
    "\n",
    "            i += 1\n",
    "            yield (night, run, event, images)"
   ]
  },
  {
   "cell_type": "code",
   "execution_count": 2,
   "metadata": {},
   "outputs": [
    {
     "name": "stdout",
     "output_type": "stream",
     "text": [
      "INFO:tensorflow:Restoring parameters from ./CNN_Test_Model_3\n",
      "Model restored.\n",
      "Finished predicting\n",
      "Finished predicting\n"
     ]
    }
   ],
   "source": [
    "gpu_config = tf.GPUOptions(allow_growth=True, per_process_gpu_memory_fraction=0.25)\n",
    "session_conf = tf.ConfigProto(gpu_options=gpu_config, intra_op_parallelism_threads=18, inter_op_parallelism_threads=18)\n",
    "\n",
    "\n",
    "with tf.Session(config=session_conf) as sess:\n",
    "    saver = tf.train.import_meta_graph('CNN_Test_Model_3.meta')\n",
    "    saver.restore(sess, tf.train.latest_checkpoint('./'))   \n",
    "    \n",
    "    graph = tf.get_default_graph()    \n",
    "    layer1_weights = graph.get_tensor_by_name(\"conv2d_1/W_1:0\")\n",
    "    layer1_biases = graph.get_tensor_by_name(\"conv2d_1/B_1:0\")\n",
    "    \n",
    "    layer2_weights = graph.get_tensor_by_name(\"conv2d_2/W_2:0\")\n",
    "    layer2_biases = graph.get_tensor_by_name(\"conv2d_2/B_2:0\")\n",
    "    \n",
    "    layer3_weights = graph.get_tensor_by_name(\"fc_1/W_3:0\")\n",
    "    layer3_biases = graph.get_tensor_by_name(\"fc_1/B_3:0\")\n",
    "    \n",
    "    layer4_weights = graph.get_tensor_by_name(\"fc_2/W_4:0\")\n",
    "    layer4_biases = graph.get_tensor_by_name(\"fc_2/B_4:0\")\n",
    "    \n",
    "\n",
    "    print(\"Model restored.\")\n",
    "    \n",
    "    \n",
    "    #tf_prediction_dataset = tf.constant(images, name='prediction_data')\n",
    "    tf_prediction_dataset = tf.placeholder(tf.float32, shape=(batch_size, 46, 45, 1), name='training_data')\n",
    "        \n",
    "    with tf.name_scope('prediction'):\n",
    "        pool_1 = tf.nn.max_pool(tf.nn.relu(tf.nn.conv2d(tf_prediction_dataset, layer1_weights, [1, 1, 1, 1], padding='SAME') + layer1_biases), ksize=[1, 2, 2, 1], strides=[1, 2, 2, 1], padding='SAME')\n",
    "        pool_2 = tf.nn.max_pool(tf.nn.relu(tf.nn.conv2d(pool_1, layer2_weights, [1, 1, 1, 1], padding='SAME')  + layer2_biases), ksize=[1, 2, 2, 1], strides=[1, 2, 2, 1], padding='SAME')\n",
    "        shape = pool_2.get_shape().as_list()\n",
    "        reshape = tf.reshape(pool_2, [shape[0], shape[1] * shape[2] * shape[3]])\n",
    "        hidden = tf.nn.relu(tf.matmul(reshape, layer3_weights) + layer3_biases)\n",
    "        prediction = tf.nn.softmax(tf.matmul(hidden, layer4_weights) + layer4_biases)\n",
    "        \n",
    "    \n",
    "    nights = []\n",
    "    runs = []\n",
    "    events = []\n",
    "    preds_1 = []\n",
    "    preds_2 = []\n",
    "    #sess.run(tf.global_variables_initializer())\n",
    "    for batch in batchYielder():\n",
    "        night, run, event, images = batch\n",
    "        feed_dict = {tf_prediction_dataset : images}\n",
    "        \n",
    "        pred = sess.run(prediction, feed_dict=feed_dict)\n",
    "        nights.extend(night)\n",
    "        runs.extend(run)\n",
    "        events.extend(event)\n",
    "        preds_1.extend(pred[:,0])\n",
    "        preds_2.extend(pred[:,1])\n",
    "        print('Finished predicting')"
   ]
  },
  {
   "cell_type": "code",
   "execution_count": 12,
   "metadata": {},
   "outputs": [],
   "source": [
    "data = list(zip(nights, runs, events, preds_1, preds_2))"
   ]
  },
  {
   "cell_type": "code",
   "execution_count": 13,
   "metadata": {
    "collapsed": true
   },
   "outputs": [],
   "source": [
    "import pandas as pd\n",
    "df = pd.DataFrame(data, columns=['Night', 'Run','Event', 'Proton', 'Gamma'])\n",
    "df.to_csv('Data_to_merge.csv', index=False)"
   ]
  },
  {
   "cell_type": "code",
   "execution_count": null,
   "metadata": {
    "collapsed": true
   },
   "outputs": [],
   "source": []
  },
  {
   "cell_type": "code",
   "execution_count": 56,
   "metadata": {},
   "outputs": [
    {
     "data": {
      "text/html": [
       "<div>\n",
       "<table border=\"1\" class=\"dataframe\">\n",
       "  <thead>\n",
       "    <tr style=\"text-align: right;\">\n",
       "      <th></th>\n",
       "      <th>Night</th>\n",
       "      <th>Run</th>\n",
       "      <th>Event</th>\n",
       "      <th>Proton</th>\n",
       "      <th>Gamma</th>\n",
       "    </tr>\n",
       "  </thead>\n",
       "  <tbody>\n",
       "    <tr>\n",
       "      <th>count</th>\n",
       "      <td>2.055000e+07</td>\n",
       "      <td>2.055000e+07</td>\n",
       "      <td>2.055000e+07</td>\n",
       "      <td>2.055000e+07</td>\n",
       "      <td>2.055000e+07</td>\n",
       "    </tr>\n",
       "    <tr>\n",
       "      <th>mean</th>\n",
       "      <td>2.013260e+07</td>\n",
       "      <td>1.762331e+02</td>\n",
       "      <td>1.013900e+04</td>\n",
       "      <td>9.972497e-01</td>\n",
       "      <td>2.750327e-03</td>\n",
       "    </tr>\n",
       "    <tr>\n",
       "      <th>std</th>\n",
       "      <td>3.385553e+03</td>\n",
       "      <td>3.736823e+01</td>\n",
       "      <td>6.118459e+03</td>\n",
       "      <td>4.155839e-02</td>\n",
       "      <td>4.155839e-02</td>\n",
       "    </tr>\n",
       "    <tr>\n",
       "      <th>min</th>\n",
       "      <td>2.013100e+07</td>\n",
       "      <td>1.000000e+02</td>\n",
       "      <td>1.000000e+00</td>\n",
       "      <td>0.000000e+00</td>\n",
       "      <td>0.000000e+00</td>\n",
       "    </tr>\n",
       "    <tr>\n",
       "      <th>25%</th>\n",
       "      <td>2.013101e+07</td>\n",
       "      <td>1.500000e+02</td>\n",
       "      <td>4.812000e+03</td>\n",
       "      <td>1.000000e+00</td>\n",
       "      <td>1.145017e-27</td>\n",
       "    </tr>\n",
       "    <tr>\n",
       "      <th>50%</th>\n",
       "      <td>2.013111e+07</td>\n",
       "      <td>1.820000e+02</td>\n",
       "      <td>9.970000e+03</td>\n",
       "      <td>1.000000e+00</td>\n",
       "      <td>2.272617e-23</td>\n",
       "    </tr>\n",
       "    <tr>\n",
       "      <th>75%</th>\n",
       "      <td>2.013113e+07</td>\n",
       "      <td>2.060000e+02</td>\n",
       "      <td>1.517900e+04</td>\n",
       "      <td>1.000000e+00</td>\n",
       "      <td>1.761094e-19</td>\n",
       "    </tr>\n",
       "    <tr>\n",
       "      <th>max</th>\n",
       "      <td>2.014020e+07</td>\n",
       "      <td>2.460000e+02</td>\n",
       "      <td>2.765700e+04</td>\n",
       "      <td>1.000000e+00</td>\n",
       "      <td>1.000000e+00</td>\n",
       "    </tr>\n",
       "  </tbody>\n",
       "</table>\n",
       "</div>"
      ],
      "text/plain": [
       "              Night           Run         Event        Proton         Gamma\n",
       "count  2.055000e+07  2.055000e+07  2.055000e+07  2.055000e+07  2.055000e+07\n",
       "mean   2.013260e+07  1.762331e+02  1.013900e+04  9.972497e-01  2.750327e-03\n",
       "std    3.385553e+03  3.736823e+01  6.118459e+03  4.155839e-02  4.155839e-02\n",
       "min    2.013100e+07  1.000000e+02  1.000000e+00  0.000000e+00  0.000000e+00\n",
       "25%    2.013101e+07  1.500000e+02  4.812000e+03  1.000000e+00  1.145017e-27\n",
       "50%    2.013111e+07  1.820000e+02  9.970000e+03  1.000000e+00  2.272617e-23\n",
       "75%    2.013113e+07  2.060000e+02  1.517900e+04  1.000000e+00  1.761094e-19\n",
       "max    2.014020e+07  2.460000e+02  2.765700e+04  1.000000e+00  1.000000e+00"
      ]
     },
     "execution_count": 56,
     "metadata": {},
     "output_type": "execute_result"
    }
   ],
   "source": [
    "import pandas as pd\n",
    "df = pd.read_csv('Data_to_merge.csv')\n",
    "gammas = df['Gamma'].values\n",
    "df.describe()"
   ]
  },
  {
   "cell_type": "code",
   "execution_count": 41,
   "metadata": {},
   "outputs": [
    {
     "data": {
      "image/png": "[encoded data removed]",
      "text/plain": [
       "<matplotlib.figure.Figure at 0x7fd690dcceb8>"
      ]
     },
     "metadata": {},
     "output_type": "display_data"
    }
   ],
   "source": [
    "import matplotlib.pyplot as plt\n",
    "\n",
    "fig = plt.figure(figsize=(12,6))\n",
    "plt.style.use('ggplot')\n",
    "ax = fig.add_subplot(1,1,1)\n",
    "plt.hist(gammas, bins=100)\n",
    "plt.title('Distribution of the predicted gamma-class')\n",
    "plt.xlabel('Probability')\n",
    "plt.ylabel('Count')\n",
    "ax.set_yscale('log')\n",
    "plt.show()"
   ]
  },
  {
   "cell_type": "code",
   "execution_count": 51,
   "metadata": {},
   "outputs": [],
   "source": [
    "probs = []\n",
    "for i in np.arange(0,1,0.001):\n",
    "    probs.append(len(gammas[gammas>i]))"
   ]
  },
  {
   "cell_type": "code",
   "execution_count": 55,
   "metadata": {},
   "outputs": [
    {
     "data": {
      "image/png": "[encoded data removed]",
      "text/plain": [
       "<matplotlib.figure.Figure at 0x7fd690df40b8>"
      ]
     },
     "metadata": {},
     "output_type": "display_data"
    }
   ],
   "source": [
    "fig = plt.figure(figsize=(12,6))\n",
    "plt.style.use('ggplot')\n",
    "ax = fig.add_subplot(1,1,1)\n",
    "plt.plot(np.arange(0,1,0.001), probs)\n",
    "plt.title('Distribution of the predicted gamma-class')\n",
    "plt.xlabel('Probability')\n",
    "plt.ylabel('Cumulative Count')\n",
    "ax.set_yscale('log')\n",
    "plt.show()"
   ]
  },
  {
   "cell_type": "code",
   "execution_count": null,
   "metadata": {
    "collapsed": true
   },
   "outputs": [],
   "source": []
  }
 ],
 "metadata": {
  "kernelspec": {
   "display_name": "Python 3",
   "language": "python",
   "name": "python3"
  },
  "language_info": {
   "codemirror_mode": {
    "name": "ipython",
    "version": 3
   },
   "file_extension": ".py",
   "mimetype": "text/x-python",
   "name": "python",
   "nbconvert_exporter": "python",
   "pygments_lexer": "ipython3",
   "version": "3.6.1"
  }
 },
 "nbformat": 4,
 "nbformat_minor": 2
}
