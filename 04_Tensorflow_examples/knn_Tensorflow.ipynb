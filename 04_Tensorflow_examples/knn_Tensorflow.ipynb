{
 "cells": [
  {
   "cell_type": "code",
   "execution_count": 1,
   "metadata": {
    "collapsed": false
   },
   "outputs": [
    {
     "ename": "ImportError",
     "evalue": "No module named 'input_data'",
     "output_type": "error",
     "traceback": [
      "\u001b[0;31m---------------------------------------------------------------------------\u001b[0m",
      "\u001b[0;31mImportError\u001b[0m                               Traceback (most recent call last)",
      "\u001b[0;32m<ipython-input-1-08210647586a>\u001b[0m in \u001b[0;36m<module>\u001b[0;34m()\u001b[0m\n\u001b[0;32m----> 1\u001b[0;31m \u001b[0;32mimport\u001b[0m \u001b[0minput_data\u001b[0m\u001b[0;34m\u001b[0m\u001b[0m\n\u001b[0m",
      "\u001b[0;31mImportError\u001b[0m: No module named 'input_data'"
     ]
    }
   ],
   "source": [
    "import input_data\n",
    "import numpy as np\n",
    "import matplotlib.pyplot as plt\n",
    "\n",
    "mnist_images = input_data.read_data_sets('MNIST_data', one_hot=False)\n",
    "train.next_batch(10)\n",
    "pixels, real_values = mnist_images.train.next_batch(10)\n",
    "\n",
    "print('List of values loades ', real_values)\n",
    "example_to_visualize = 5\n",
    "print('Element N° ' + str(example_to_visualize + 1) + ' of the list plotted')\n",
    "\n",
    "image = pixels[example_to_visualize, :]\n",
    "image = np.reshape(image, [28, 28])\n",
    "plt.imshow(image)\n",
    "plt.show()"
   ]
  },
  {
   "cell_type": "code",
   "execution_count": null,
   "metadata": {
    "collapsed": true
   },
   "outputs": [],
   "source": [
    "import numpy as np\n",
    "import tensorflow as tf\n",
    "import input_data\n",
    "\n",
    "mnist = input_data.read_data_Sets('/tmp/data/', one_hot=True)\n",
    "train_pixels, train_list_values = mnist.train.next_batch(100)\n",
    "test_pixels, test_list_of_values = mnist.test.next_batch(10)\n",
    "train_pixel_tensor = tf.placeholder('float', [None, 784])\n",
    "test_pixel_tensor = tf.placeholder('float', [784])\n",
    "\n",
    "distance = tf.reduce_sum(tf.abs(tf.add(train_pixel_tensor, tf.neg(test_pixel_tensor))), reduction_indices=1)\n",
    "pred = tf.arg_min(distance, 0)\n",
    "\n",
    "accuracy = 0.\n",
    "\n",
    "init = tf.global_variables_initializer()\n",
    "with tf.Session() as sess:\n",
    "    sess.run(init)\n",
    "    for i in range(len(test_list_of_values)):\n",
    "        nn_index = sess.run(pred, feed_dict={train_pixel_tensor:train_pixels, test_pixel_tensor:test_pixels[i,:]})\n",
    "        print('Test N° ', i, 'Predicted Class: ', np.argmax(train_list_values[nn_index]), 'True Class: ', np.argmax(test_list_of_values[i]))\n",
    "        if np.argmax(train_list_Values[nn_index]) == np.argmax(test_list_of_values[i]):\n",
    "            accuracy += 1./len(test_pixels)\n",
    "    print('Result = ', accuracy)"
   ]
  }
 ],
 "metadata": {
  "anaconda-cloud": {},
  "kernelspec": {
   "display_name": "Python [conda env:keras]",
   "language": "python",
   "name": "conda-env-keras-py"
  },
  "language_info": {
   "codemirror_mode": {
    "name": "ipython",
    "version": 3
   },
   "file_extension": ".py",
   "mimetype": "text/x-python",
   "name": "python",
   "nbconvert_exporter": "python",
   "pygments_lexer": "ipython3",
   "version": "3.5.3"
  }
 },
 "nbformat": 4,
 "nbformat_minor": 2
}
