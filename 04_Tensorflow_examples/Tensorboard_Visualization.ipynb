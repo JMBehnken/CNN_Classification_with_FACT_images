{
 "cells": [
  {
   "cell_type": "code",
   "execution_count": 8,
   "metadata": {},
   "outputs": [
    {
     "name": "stdout",
     "output_type": "stream",
     "text": [
      "Extracting /home/jbehnken/04_Tensorflow_examples/mnist-tensorboard/data/train-images-idx3-ubyte.gz\n",
      "Extracting /home/jbehnken/04_Tensorflow_examples/mnist-tensorboard/data/train-labels-idx1-ubyte.gz\n",
      "Extracting /home/jbehnken/04_Tensorflow_examples/mnist-tensorboard/data/t10k-images-idx3-ubyte.gz\n",
      "Extracting /home/jbehnken/04_Tensorflow_examples/mnist-tensorboard/data/t10k-labels-idx1-ubyte.gz\n",
      "Yes!\n"
     ]
    }
   ],
   "source": [
    "# -*- coding: utf-8 -*-\n",
    "\n",
    "import os\n",
    "import tensorflow as tf\n",
    "from tensorflow.examples.tutorials.mnist import input_data\n",
    "from tensorflow.contrib.tensorboard.plugins import projector\n",
    "import numpy as np\n",
    "\n",
    "PATH = os.getcwd()\n",
    "\n",
    "LOG_DIR = PATH + '/mnist-tensorboard/log-1'\n",
    "metadata = os.path.join(LOG_DIR, 'metadata.tsv')\n",
    "\n",
    "mnist = input_data.read_data_sets(PATH + \"/mnist-tensorboard/data/\", one_hot=True)\n",
    "images = tf.Variable(mnist.test.images, name='images')\n",
    "\n",
    "\n",
    "\n",
    "#def save_metadata(file):\n",
    "with open(metadata, 'w') as metadata_file:\n",
    "    for row in range(10000):\n",
    "        c = np.nonzero(mnist.test.labels[::1])[1:][0][row]\n",
    "        metadata_file.write('{}\\n'.format(c))\n",
    "\n",
    "\n",
    "\n",
    "with tf.Session() as sess:\n",
    "    saver = tf.train.Saver([images])\n",
    "\n",
    "    sess.run(images.initializer)\n",
    "    saver.save(sess, os.path.join(LOG_DIR, 'images.ckpt'))\n",
    "\n",
    "    config = projector.ProjectorConfig()\n",
    "    # One can add multiple embeddings.\n",
    "    embedding = config.embeddings.add()\n",
    "    embedding.tensor_name = images.name\n",
    "    # Link this tensor to its metadata file (e.g. labels).\n",
    "    embedding.metadata_path = metadata\n",
    "    # Saves a config file that TensorBoard will read during startup.\n",
    "    projector.visualize_embeddings(tf.summary.FileWriter(LOG_DIR), config)\n",
    "    \n",
    "# for calling the tensorboard you should be in that drive and call the entire path\n",
    "#tensorboard --logdir=/Technical_works/tensorflow/mnist-tensorboard/log-1 --port=6006"
   ]
  },
  {
   "cell_type": "code",
   "execution_count": null,
   "metadata": {
    "collapsed": true
   },
   "outputs": [],
   "source": []
  }
 ],
 "metadata": {
  "anaconda-cloud": {},
  "kernelspec": {
   "display_name": "Python 3",
   "language": "python",
   "name": "python3"
  },
  "language_info": {
   "codemirror_mode": {
    "name": "ipython",
    "version": 3
   },
   "file_extension": ".py",
   "mimetype": "text/x-python",
   "name": "python",
   "nbconvert_exporter": "python",
   "pygments_lexer": "ipython3",
   "version": "3.6.1"
  }
 },
 "nbformat": 4,
 "nbformat_minor": 2
}
