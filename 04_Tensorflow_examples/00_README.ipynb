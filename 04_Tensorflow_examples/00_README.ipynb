{
 "cells": [
  {
   "cell_type": "markdown",
   "metadata": {
    "deletable": true,
    "editable": true
   },
   "source": [
    "# Example Tensorflow implementations\n",
    "\n",
    "This folder contains some implementations of algorithms in Tensorflow\n",
    "\n",
    "files:\n",
    "\n",
    "\"00_README.ipynb\" - Readme\n",
    "\n",
    "\"k_means_Tensorflow.ipynb\" - Implementation: k-means\n",
    "\n",
    "\"knn_Tensorflow.ipynb\" - Implementation: knn\n",
    "\n",
    "\"Linear_Regression_Tensorflow.ipynb\" - Implementation: Linear regression\n",
    "\n",
    "\"Mandelbrot_Julia_Tensorflow.ipynb\" - Implementation: Fractals"
   ]
  },
  {
   "cell_type": "code",
   "execution_count": null,
   "metadata": {
    "collapsed": true,
    "deletable": true,
    "editable": true
   },
   "outputs": [],
   "source": []
  }
 ],
 "metadata": {
  "anaconda-cloud": {},
  "kernelspec": {
   "display_name": "Python [default]",
   "language": "python",
   "name": "python3"
  },
  "language_info": {
   "codemirror_mode": {
    "name": "ipython",
    "version": 3
   },
   "file_extension": ".py",
   "mimetype": "text/x-python",
   "name": "python",
   "nbconvert_exporter": "python",
   "pygments_lexer": "ipython3",
   "version": "3.5.3"
  }
 },
 "nbformat": 4,
 "nbformat_minor": 2
}
