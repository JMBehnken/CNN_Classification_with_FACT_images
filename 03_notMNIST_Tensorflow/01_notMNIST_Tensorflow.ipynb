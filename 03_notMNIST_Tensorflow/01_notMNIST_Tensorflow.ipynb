{
 "cells": [
  {
   "cell_type": "markdown",
   "metadata": {
    "colab_type": "text",
    "id": "5hIbr52I7Z7U"
   },
   "source": [
    "Deep Learning\n",
    "=============\n",
    "\n",
    "Assignment 1\n",
    "------------\n",
    "\n",
    "The objective of this assignment is to learn about simple data curation practices, and familiarize you with some of the data we'll be reusing later.\n",
    "\n",
    "This notebook uses the [notMNIST](http://yaroslavvb.blogspot.com/2011/09/notmnist-dataset.html) dataset to be used with python experiments. This dataset is designed to look like the classic [MNIST](http://yann.lecun.com/exdb/mnist/) dataset, while looking a little more like real data: it's a harder task, and the data is a lot less 'clean' than MNIST."
   ]
  },
  {
   "cell_type": "code",
   "execution_count": 1,
   "metadata": {
    "cellView": "both",
    "colab": {
     "autoexec": {
      "startup": false,
      "wait_interval": 0
     }
    },
    "colab_type": "code",
    "collapsed": true,
    "id": "apJbCsBHl-2A"
   },
   "outputs": [],
   "source": [
    "# These are all the modules we'll be using later. Make sure you can import them\n",
    "# before proceeding further.\n",
    "from __future__ import print_function\n",
    "import matplotlib.pyplot as plt\n",
    "import numpy as np\n",
    "import os\n",
    "import sys\n",
    "import tarfile\n",
    "from IPython.display import display, Image\n",
    "from scipy import ndimage\n",
    "from sklearn.linear_model import LogisticRegression\n",
    "from six.moves.urllib.request import urlretrieve\n",
    "from six.moves import cPickle as pickle\n",
    "\n",
    "# Config the matplotlib backend as plotting inline in IPython\n",
    "%matplotlib inline"
   ]
  },
  {
   "cell_type": "markdown",
   "metadata": {
    "colab_type": "text",
    "id": "jNWGtZaXn-5j"
   },
   "source": [
    "First, we'll download the dataset to our local machine. The data consists of characters rendered in a variety of fonts on a 28x28 image. The labels are limited to 'A' through 'J' (10 classes). The training set has about 500k and the testset 19000 labeled examples. Given these sizes, it should be possible to train models quickly on any machine."
   ]
  },
  {
   "cell_type": "code",
   "execution_count": 2,
   "metadata": {
    "cellView": "both",
    "colab": {
     "autoexec": {
      "startup": false,
      "wait_interval": 0
     },
     "output_extras": [
      {
       "item_id": 1
      }
     ]
    },
    "colab_type": "code",
    "executionInfo": {
     "elapsed": 186058,
     "status": "ok",
     "timestamp": 1444485672507,
     "user": {
      "color": "#1FA15D",
      "displayName": "Vincent Vanhoucke",
      "isAnonymous": false,
      "isMe": true,
      "permissionId": "05076109866853157986",
      "photoUrl": "//lh6.googleusercontent.com/-cCJa7dTDcgQ/AAAAAAAAAAI/AAAAAAAACgw/r2EZ_8oYer4/s50-c-k-no/photo.jpg",
      "sessionId": "2a0a5e044bb03b66",
      "userId": "102167687554210253930"
     },
     "user_tz": 420
    },
    "id": "EYRJ4ICW6-da",
    "outputId": "0d0f85df-155f-4a89-8e7e-ee32df36ec8d"
   },
   "outputs": [
    {
     "name": "stdout",
     "output_type": "stream",
     "text": [
      "Found and verified ./notMNIST_large.tar.gz\n",
      "Found and verified ./notMNIST_small.tar.gz\n"
     ]
    }
   ],
   "source": [
    "url = 'https://commondatastorage.googleapis.com/books1000/'\n",
    "last_percent_reported = None\n",
    "data_root = '.' # Change me to store data elsewhere\n",
    "\n",
    "def download_progress_hook(count, blockSize, totalSize):\n",
    "  \"\"\"A hook to report the progress of a download. This is mostly intended for users with\n",
    "  slow internet connections. Reports every 5% change in download progress.\n",
    "  \"\"\"\n",
    "  global last_percent_reported\n",
    "  percent = int(count * blockSize * 100 / totalSize)\n",
    "\n",
    "  if last_percent_reported != percent:\n",
    "    if percent % 5 == 0:\n",
    "      sys.stdout.write(\"%s%%\" % percent)\n",
    "      sys.stdout.flush()\n",
    "    else:\n",
    "      sys.stdout.write(\".\")\n",
    "      sys.stdout.flush()\n",
    "      \n",
    "    last_percent_reported = percent\n",
    "        \n",
    "def maybe_download(filename, expected_bytes, force=False):\n",
    "  \"\"\"Download a file if not present, and make sure it's the right size.\"\"\"\n",
    "  dest_filename = os.path.join(data_root, filename)\n",
    "  if force or not os.path.exists(dest_filename):\n",
    "    print('Attempting to download:', filename) \n",
    "    filename, _ = urlretrieve(url + filename, dest_filename, reporthook=download_progress_hook)\n",
    "    print('\\nDownload Complete!')\n",
    "  statinfo = os.stat(dest_filename)\n",
    "  if statinfo.st_size == expected_bytes:\n",
    "    print('Found and verified', dest_filename)\n",
    "  else:\n",
    "    raise Exception(\n",
    "      'Failed to verify ' + dest_filename + '. Can you get to it with a browser?')\n",
    "  return dest_filename\n",
    "\n",
    "train_filename = maybe_download('notMNIST_large.tar.gz', 247336696)\n",
    "test_filename = maybe_download('notMNIST_small.tar.gz', 8458043)"
   ]
  },
  {
   "cell_type": "markdown",
   "metadata": {
    "colab_type": "text",
    "id": "cC3p0oEyF8QT"
   },
   "source": [
    "Extract the dataset from the compressed .tar.gz file.\n",
    "This should give you a set of directories, labeled A through J."
   ]
  },
  {
   "cell_type": "code",
   "execution_count": 3,
   "metadata": {
    "cellView": "both",
    "colab": {
     "autoexec": {
      "startup": false,
      "wait_interval": 0
     },
     "output_extras": [
      {
       "item_id": 1
      }
     ]
    },
    "colab_type": "code",
    "executionInfo": {
     "elapsed": 186055,
     "status": "ok",
     "timestamp": 1444485672525,
     "user": {
      "color": "#1FA15D",
      "displayName": "Vincent Vanhoucke",
      "isAnonymous": false,
      "isMe": true,
      "permissionId": "05076109866853157986",
      "photoUrl": "//lh6.googleusercontent.com/-cCJa7dTDcgQ/AAAAAAAAAAI/AAAAAAAACgw/r2EZ_8oYer4/s50-c-k-no/photo.jpg",
      "sessionId": "2a0a5e044bb03b66",
      "userId": "102167687554210253930"
     },
     "user_tz": 420
    },
    "id": "H8CBE-WZ8nmj",
    "outputId": "ef6c790c-2513-4b09-962e-27c79390c762"
   },
   "outputs": [
    {
     "name": "stdout",
     "output_type": "stream",
     "text": [
      "./notMNIST_large already present - Skipping extraction of ./notMNIST_large.tar.gz.\n",
      "['./notMNIST_large/A', './notMNIST_large/B', './notMNIST_large/C', './notMNIST_large/D', './notMNIST_large/E', './notMNIST_large/F', './notMNIST_large/G', './notMNIST_large/H', './notMNIST_large/I', './notMNIST_large/J']\n",
      "./notMNIST_small already present - Skipping extraction of ./notMNIST_small.tar.gz.\n",
      "['./notMNIST_small/A', './notMNIST_small/B', './notMNIST_small/C', './notMNIST_small/D', './notMNIST_small/E', './notMNIST_small/F', './notMNIST_small/G', './notMNIST_small/H', './notMNIST_small/I', './notMNIST_small/J']\n"
     ]
    }
   ],
   "source": [
    "num_classes = 10\n",
    "np.random.seed(133)\n",
    "\n",
    "def maybe_extract(filename, force=False):\n",
    "  root = os.path.splitext(os.path.splitext(filename)[0])[0]  # remove .tar.gz\n",
    "  if os.path.isdir(root) and not force:\n",
    "    # You may override by setting force=True.\n",
    "    print('%s already present - Skipping extraction of %s.' % (root, filename))\n",
    "  else:\n",
    "    print('Extracting data for %s. This may take a while. Please wait.' % root)\n",
    "    tar = tarfile.open(filename)\n",
    "    sys.stdout.flush()\n",
    "    tar.extractall(data_root)\n",
    "    tar.close()\n",
    "  data_folders = [\n",
    "    os.path.join(root, d) for d in sorted(os.listdir(root))\n",
    "    if os.path.isdir(os.path.join(root, d))]\n",
    "  if len(data_folders) != num_classes:\n",
    "    raise Exception(\n",
    "      'Expected %d folders, one per class. Found %d instead.' % (\n",
    "        num_classes, len(data_folders)))\n",
    "  print(data_folders)\n",
    "  return data_folders\n",
    "  \n",
    "train_folders = maybe_extract(train_filename)\n",
    "test_folders = maybe_extract(test_filename)"
   ]
  },
  {
   "cell_type": "markdown",
   "metadata": {
    "colab_type": "text",
    "id": "4riXK3IoHgx6"
   },
   "source": [
    "---\n",
    "Problem 1\n",
    "---------\n",
    "\n",
    "Let's take a peek at some of the data to make sure it looks sensible. Each exemplar should be an image of a character A through J rendered in a different font. Display a sample of the images that we just downloaded. Hint: you can use the package IPython.display.\n",
    "\n",
    "---"
   ]
  },
  {
   "cell_type": "code",
   "execution_count": 4,
   "metadata": {},
   "outputs": [
    {
     "data": {
      "image/png": "[encoded data removed]",
      "text/plain": [
       "<IPython.core.display.Image object>"
      ]
     },
     "metadata": {},
     "output_type": "display_data"
    },
    {
     "data": {
      "image/png": "[encoded data removed]",
      "text/plain": [
       "<IPython.core.display.Image object>"
      ]
     },
     "metadata": {},
     "output_type": "display_data"
    },
    {
     "data": {
      "image/png": "[encoded data removed]",
      "text/plain": [
       "<IPython.core.display.Image object>"
      ]
     },
     "metadata": {},
     "output_type": "display_data"
    },
    {
     "data": {
      "image/png": "[encoded data removed]",
      "text/plain": [
       "<IPython.core.display.Image object>"
      ]
     },
     "metadata": {},
     "output_type": "display_data"
    },
    {
     "data": {
      "image/png": "[encoded data removed]",
      "text/plain": [
       "<IPython.core.display.Image object>"
      ]
     },
     "metadata": {},
     "output_type": "display_data"
    },
    {
     "data": {
      "image/png": "[encoded data removed]",
      "text/plain": [
       "<IPython.core.display.Image object>"
      ]
     },
     "metadata": {},
     "output_type": "display_data"
    },
    {
     "data": {
      "image/png": "[encoded data removed]",
      "text/plain": [
       "<IPython.core.display.Image object>"
      ]
     },
     "metadata": {},
     "output_type": "display_data"
    },
    {
     "data": {
      "image/png": "[encoded data removed]",
      "text/plain": [
       "<IPython.core.display.Image object>"
      ]
     },
     "metadata": {},
     "output_type": "display_data"
    },
    {
     "data": {
      "image/png": "[encoded data removed]",
      "text/plain": [
       "<IPython.core.display.Image object>"
      ]
     },
     "metadata": {},
     "output_type": "display_data"
    },
    {
     "data": {
      "image/png": "[encoded data removed]",
      "text/plain": [
       "<IPython.core.display.Image object>"
      ]
     },
     "metadata": {},
     "output_type": "display_data"
    }
   ],
   "source": [
    "import glob\n",
    "import random\n",
    "files = glob.glob('notMNIST_small/**/*.png', recursive=True)\n",
    "random.shuffle(files)\n",
    "for file in files[:10]:\n",
    "    display(Image(file))"
   ]
  },
  {
   "cell_type": "markdown",
   "metadata": {
    "colab_type": "text",
    "id": "PBdkjESPK8tw"
   },
   "source": [
    "Now let's load the data in a more manageable format. Since, depending on your computer setup you might not be able to fit it all in memory, we'll load each class into a separate dataset, store them on disk and curate them independently. Later we'll merge them into a single dataset of manageable size.\n",
    "\n",
    "We'll convert the entire dataset into a 3D array (image index, x, y) of floating point values, normalized to have approximately zero mean and standard deviation ~0.5 to make training easier down the road. \n",
    "\n",
    "A few images might not be readable, we'll just skip them."
   ]
  },
  {
   "cell_type": "code",
   "execution_count": 5,
   "metadata": {
    "cellView": "both",
    "colab": {
     "autoexec": {
      "startup": false,
      "wait_interval": 0
     },
     "output_extras": [
      {
       "item_id": 30
      }
     ]
    },
    "colab_type": "code",
    "executionInfo": {
     "elapsed": 399874,
     "status": "ok",
     "timestamp": 1444485886378,
     "user": {
      "color": "#1FA15D",
      "displayName": "Vincent Vanhoucke",
      "isAnonymous": false,
      "isMe": true,
      "permissionId": "05076109866853157986",
      "photoUrl": "//lh6.googleusercontent.com/-cCJa7dTDcgQ/AAAAAAAAAAI/AAAAAAAACgw/r2EZ_8oYer4/s50-c-k-no/photo.jpg",
      "sessionId": "2a0a5e044bb03b66",
      "userId": "102167687554210253930"
     },
     "user_tz": 420
    },
    "id": "h7q0XhG3MJdf",
    "outputId": "92c391bb-86ff-431d-9ada-315568a19e59"
   },
   "outputs": [
    {
     "name": "stdout",
     "output_type": "stream",
     "text": [
      "./notMNIST_large/A.pickle already present - Skipping pickling.\n",
      "./notMNIST_large/B.pickle already present - Skipping pickling.\n",
      "./notMNIST_large/C.pickle already present - Skipping pickling.\n",
      "./notMNIST_large/D.pickle already present - Skipping pickling.\n",
      "./notMNIST_large/E.pickle already present - Skipping pickling.\n",
      "./notMNIST_large/F.pickle already present - Skipping pickling.\n",
      "./notMNIST_large/G.pickle already present - Skipping pickling.\n",
      "./notMNIST_large/H.pickle already present - Skipping pickling.\n",
      "./notMNIST_large/I.pickle already present - Skipping pickling.\n",
      "./notMNIST_large/J.pickle already present - Skipping pickling.\n",
      "./notMNIST_small/A.pickle already present - Skipping pickling.\n",
      "./notMNIST_small/B.pickle already present - Skipping pickling.\n",
      "./notMNIST_small/C.pickle already present - Skipping pickling.\n",
      "./notMNIST_small/D.pickle already present - Skipping pickling.\n",
      "./notMNIST_small/E.pickle already present - Skipping pickling.\n",
      "./notMNIST_small/F.pickle already present - Skipping pickling.\n",
      "./notMNIST_small/G.pickle already present - Skipping pickling.\n",
      "./notMNIST_small/H.pickle already present - Skipping pickling.\n",
      "./notMNIST_small/I.pickle already present - Skipping pickling.\n",
      "./notMNIST_small/J.pickle already present - Skipping pickling.\n"
     ]
    }
   ],
   "source": [
    "image_size = 28  # Pixel width and height.\n",
    "pixel_depth = 255.0  # Number of levels per pixel.\n",
    "\n",
    "def load_letter(folder, min_num_images):\n",
    "  \"\"\"Load the data for a single letter label.\"\"\"\n",
    "  image_files = os.listdir(folder)\n",
    "  dataset = np.ndarray(shape=(len(image_files), image_size, image_size),\n",
    "                         dtype=np.float32)\n",
    "  print(folder)\n",
    "  num_images = 0\n",
    "  for image in image_files:\n",
    "    image_file = os.path.join(folder, image)\n",
    "    try:\n",
    "      image_data = (ndimage.imread(image_file).astype(float) - \n",
    "                    pixel_depth / 2) / pixel_depth\n",
    "      if image_data.shape != (image_size, image_size):\n",
    "        raise Exception('Unexpected image shape: %s' % str(image_data.shape))\n",
    "      dataset[num_images, :, :] = image_data\n",
    "      num_images = num_images + 1\n",
    "    except IOError as e:\n",
    "      print('Could not read:', image_file, ':', e, '- it\\'s ok, skipping.')\n",
    "    \n",
    "  dataset = dataset[0:num_images, :, :]\n",
    "  if num_images < min_num_images:\n",
    "    raise Exception('Many fewer images than expected: %d < %d' %\n",
    "                    (num_images, min_num_images))\n",
    "    \n",
    "  print('Full dataset tensor:', dataset.shape)\n",
    "  print('Mean:', np.mean(dataset))\n",
    "  print('Standard deviation:', np.std(dataset))\n",
    "  return dataset\n",
    "        \n",
    "def maybe_pickle(data_folders, min_num_images_per_class, force=False):\n",
    "  dataset_names = []\n",
    "  for folder in data_folders:\n",
    "    set_filename = folder + '.pickle'\n",
    "    dataset_names.append(set_filename)\n",
    "    if os.path.exists(set_filename) and not force:\n",
    "      # You may override by setting force=True.\n",
    "      print('%s already present - Skipping pickling.' % set_filename)\n",
    "    else:\n",
    "      print('Pickling %s.' % set_filename)\n",
    "      dataset = load_letter(folder, min_num_images_per_class)\n",
    "      try:\n",
    "        with open(set_filename, 'wb') as f:\n",
    "          pickle.dump(dataset, f, pickle.HIGHEST_PROTOCOL)\n",
    "      except Exception as e:\n",
    "        print('Unable to save data to', set_filename, ':', e)\n",
    "  \n",
    "  return dataset_names\n",
    "\n",
    "train_datasets = maybe_pickle(train_folders, 45000)\n",
    "test_datasets = maybe_pickle(test_folders, 1800)"
   ]
  },
  {
   "cell_type": "markdown",
   "metadata": {
    "colab_type": "text",
    "id": "vUdbskYE2d87"
   },
   "source": [
    "---\n",
    "Problem 2\n",
    "---------\n",
    "\n",
    "Let's verify that the data still looks good. Displaying a sample of the labels and images from the ndarray. Hint: you can use matplotlib.pyplot.\n",
    "\n",
    "---"
   ]
  },
  {
   "cell_type": "code",
   "execution_count": 6,
   "metadata": {
    "scrolled": true
   },
   "outputs": [
    {
     "data": {
      "image/png": "[encoded data removed]",
      "text/plain": [
       "<matplotlib.figure.Figure at 0x7f2def43bf28>"
      ]
     },
     "metadata": {},
     "output_type": "display_data"
    },
    {
     "data": {
      "image/png": "[encoded data removed]",
      "text/plain": [
       "<matplotlib.figure.Figure at 0x7f2def43bf98>"
      ]
     },
     "metadata": {},
     "output_type": "display_data"
    },
    {
     "data": {
      "image/png": "[encoded data removed]",
      "text/plain": [
       "<matplotlib.figure.Figure at 0x7f2debefccc0>"
      ]
     },
     "metadata": {},
     "output_type": "display_data"
    },
    {
     "data": {
      "image/png": "[encoded data removed]",
      "text/plain": [
       "<matplotlib.figure.Figure at 0x7f2debdf4f98>"
      ]
     },
     "metadata": {},
     "output_type": "display_data"
    },
    {
     "data": {
      "image/png": "[encoded data removed]",
      "text/plain": [
       "<matplotlib.figure.Figure at 0x7f2debd71eb8>"
      ]
     },
     "metadata": {},
     "output_type": "display_data"
    },
    {
     "data": {
      "image/png": "[encoded data removed]",
      "text/plain": [
       "<matplotlib.figure.Figure at 0x7f2debea8b00>"
      ]
     },
     "metadata": {},
     "output_type": "display_data"
    },
    {
     "data": {
      "image/png": "[encoded data removed]",
      "text/plain": [
       "<matplotlib.figure.Figure at 0x7f2debd63f28>"
      ]
     },
     "metadata": {},
     "output_type": "display_data"
    },
    {
     "data": {
      "image/png": "[encoded data removed]",
      "text/plain": [
       "<matplotlib.figure.Figure at 0x7f2debe660b8>"
      ]
     },
     "metadata": {},
     "output_type": "display_data"
    },
    {
     "data": {
      "image/png": "[encoded data removed]",
      "text/plain": [
       "<matplotlib.figure.Figure at 0x7f2debd632b0>"
      ]
     },
     "metadata": {},
     "output_type": "display_data"
    },
    {
     "data": {
      "image/png": "[encoded data removed]",
      "text/plain": [
       "<matplotlib.figure.Figure at 0x7f2debcc7b70>"
      ]
     },
     "metadata": {},
     "output_type": "display_data"
    }
   ],
   "source": [
    "import random\n",
    "for directory in train_datasets:\n",
    "    for file in glob.glob(directory, recursive=True):\n",
    "        with open(file, 'rb') as file:\n",
    "            picture = pickle.load(file)\n",
    "            plt.imshow(picture[random.randint(0,1000)])\n",
    "            plt.show()"
   ]
  },
  {
   "cell_type": "code",
   "execution_count": 7,
   "metadata": {},
   "outputs": [
    {
     "data": {
      "image/png": "[encoded data removed]",
      "text/plain": [
       "<matplotlib.figure.Figure at 0x7f2dfafaaf60>"
      ]
     },
     "metadata": {},
     "output_type": "display_data"
    }
   ],
   "source": [
    "pickle_file = train_datasets[0]  # index 0 should be all As, 1 = all Bs, etc.\n",
    "with open(pickle_file, 'rb') as f:\n",
    "    letter_set = pickle.load(f)  # unpickle\n",
    "    sample_idx = np.random.randint(len(letter_set))  # pick a random image index\n",
    "    sample_image = letter_set[sample_idx, :, :]  # extract a 2D slice\n",
    "    plt.figure()\n",
    "    plt.imshow(sample_image)  # display it"
   ]
  },
  {
   "cell_type": "markdown",
   "metadata": {
    "colab_type": "text",
    "id": "cYznx5jUwzoO"
   },
   "source": [
    "---\n",
    "Problem 3\n",
    "---------\n",
    "Another check: we expect the data to be balanced across classes. Verify that.\n",
    "\n",
    "---"
   ]
  },
  {
   "cell_type": "code",
   "execution_count": 8,
   "metadata": {},
   "outputs": [
    {
     "name": "stdout",
     "output_type": "stream",
     "text": [
      "52909 ./notMNIST_large/A.pickle\n",
      "52911 ./notMNIST_large/B.pickle\n",
      "52912 ./notMNIST_large/C.pickle\n",
      "52911 ./notMNIST_large/D.pickle\n",
      "52912 ./notMNIST_large/E.pickle\n",
      "52912 ./notMNIST_large/F.pickle\n",
      "52912 ./notMNIST_large/G.pickle\n",
      "52912 ./notMNIST_large/H.pickle\n",
      "52912 ./notMNIST_large/I.pickle\n",
      "52911 ./notMNIST_large/J.pickle\n",
      "1872 ./notMNIST_small/A.pickle\n",
      "1873 ./notMNIST_small/B.pickle\n",
      "1873 ./notMNIST_small/C.pickle\n",
      "1873 ./notMNIST_small/D.pickle\n",
      "1873 ./notMNIST_small/E.pickle\n",
      "1872 ./notMNIST_small/F.pickle\n",
      "1872 ./notMNIST_small/G.pickle\n",
      "1872 ./notMNIST_small/H.pickle\n",
      "1872 ./notMNIST_small/I.pickle\n",
      "1872 ./notMNIST_small/J.pickle\n"
     ]
    }
   ],
   "source": [
    "for directory in train_datasets:\n",
    "    for file in glob.glob(directory, recursive=True):\n",
    "        with open(file, 'rb') as file:\n",
    "            picture = pickle.load(file)\n",
    "            print(len(picture), directory)\n",
    "        \n",
    "for directory in test_datasets:\n",
    "    for file in glob.glob(directory, recursive=True):\n",
    "        with open(file, 'rb') as file:\n",
    "            picture = pickle.load(file)\n",
    "            print(len(picture), directory)"
   ]
  },
  {
   "cell_type": "markdown",
   "metadata": {
    "colab_type": "text",
    "id": "LA7M7K22ynCt"
   },
   "source": [
    "Merge and prune the training data as needed. Depending on your computer setup, you might not be able to fit it all in memory, and you can tune `train_size` as needed. The labels will be stored into a separate array of integers 0 through 9.\n",
    "\n",
    "Also create a validation dataset for hyperparameter tuning."
   ]
  },
  {
   "cell_type": "code",
   "execution_count": 9,
   "metadata": {
    "cellView": "both",
    "colab": {
     "autoexec": {
      "startup": false,
      "wait_interval": 0
     },
     "output_extras": [
      {
       "item_id": 1
      }
     ]
    },
    "colab_type": "code",
    "executionInfo": {
     "elapsed": 411281,
     "status": "ok",
     "timestamp": 1444485897869,
     "user": {
      "color": "#1FA15D",
      "displayName": "Vincent Vanhoucke",
      "isAnonymous": false,
      "isMe": true,
      "permissionId": "05076109866853157986",
      "photoUrl": "//lh6.googleusercontent.com/-cCJa7dTDcgQ/AAAAAAAAAAI/AAAAAAAACgw/r2EZ_8oYer4/s50-c-k-no/photo.jpg",
      "sessionId": "2a0a5e044bb03b66",
      "userId": "102167687554210253930"
     },
     "user_tz": 420
    },
    "id": "s3mWgZLpyuzq",
    "outputId": "8af66da6-902d-4719-bedc-7c9fb7ae7948"
   },
   "outputs": [
    {
     "name": "stdout",
     "output_type": "stream",
     "text": [
      "Training: (200000, 28, 28) (200000,)\n",
      "Validation: (10000, 28, 28) (10000,)\n",
      "Testing: (10000, 28, 28) (10000,)\n"
     ]
    }
   ],
   "source": [
    "def make_arrays(nb_rows, img_size):\n",
    "  if nb_rows:\n",
    "    dataset = np.ndarray((nb_rows, img_size, img_size), dtype=np.float32)\n",
    "    labels = np.ndarray(nb_rows, dtype=np.int32)\n",
    "  else:\n",
    "    dataset, labels = None, None\n",
    "  return dataset, labels\n",
    "\n",
    "def merge_datasets(pickle_files, train_size, valid_size=0):\n",
    "  num_classes = len(pickle_files)\n",
    "  valid_dataset, valid_labels = make_arrays(valid_size, image_size)\n",
    "  train_dataset, train_labels = make_arrays(train_size, image_size)\n",
    "  vsize_per_class = valid_size // num_classes\n",
    "  tsize_per_class = train_size // num_classes\n",
    "    \n",
    "  start_v, start_t = 0, 0\n",
    "  end_v, end_t = vsize_per_class, tsize_per_class\n",
    "  end_l = vsize_per_class+tsize_per_class\n",
    "  for label, pickle_file in enumerate(pickle_files):       \n",
    "    try:\n",
    "      with open(pickle_file, 'rb') as f:\n",
    "        letter_set = pickle.load(f)\n",
    "        # let's shuffle the letters to have random validation and training set\n",
    "        np.random.shuffle(letter_set)\n",
    "        if valid_dataset is not None:\n",
    "          valid_letter = letter_set[:vsize_per_class, :, :]\n",
    "          valid_dataset[start_v:end_v, :, :] = valid_letter\n",
    "          valid_labels[start_v:end_v] = label\n",
    "          start_v += vsize_per_class\n",
    "          end_v += vsize_per_class\n",
    "                    \n",
    "        train_letter = letter_set[vsize_per_class:end_l, :, :]\n",
    "        train_dataset[start_t:end_t, :, :] = train_letter\n",
    "        train_labels[start_t:end_t] = label\n",
    "        start_t += tsize_per_class\n",
    "        end_t += tsize_per_class\n",
    "    except Exception as e:\n",
    "      print('Unable to process data from', pickle_file, ':', e)\n",
    "      raise\n",
    "    \n",
    "  return valid_dataset, valid_labels, train_dataset, train_labels\n",
    "            \n",
    "            \n",
    "train_size = 200000\n",
    "valid_size = 10000\n",
    "test_size = 10000\n",
    "\n",
    "valid_dataset, valid_labels, train_dataset, train_labels = merge_datasets(\n",
    "  train_datasets, train_size, valid_size)\n",
    "_, _, test_dataset, test_labels = merge_datasets(test_datasets, test_size)\n",
    "\n",
    "print('Training:', train_dataset.shape, train_labels.shape)\n",
    "print('Validation:', valid_dataset.shape, valid_labels.shape)\n",
    "print('Testing:', test_dataset.shape, test_labels.shape)"
   ]
  },
  {
   "cell_type": "markdown",
   "metadata": {
    "colab_type": "text",
    "id": "GPTCnjIcyuKN"
   },
   "source": [
    "Next, we'll randomize the data. It's important to have the labels well shuffled for the training and test distributions to match."
   ]
  },
  {
   "cell_type": "code",
   "execution_count": 10,
   "metadata": {
    "cellView": "both",
    "colab": {
     "autoexec": {
      "startup": false,
      "wait_interval": 0
     }
    },
    "colab_type": "code",
    "collapsed": true,
    "id": "6WZ2l2tN2zOL"
   },
   "outputs": [],
   "source": [
    "def randomize(dataset, labels):\n",
    "  permutation = np.random.permutation(labels.shape[0])\n",
    "  shuffled_dataset = dataset[permutation,:,:]\n",
    "  shuffled_labels = labels[permutation]\n",
    "  return shuffled_dataset, shuffled_labels\n",
    "train_dataset, train_labels = randomize(train_dataset, train_labels)\n",
    "test_dataset, test_labels = randomize(test_dataset, test_labels)\n",
    "valid_dataset, valid_labels = randomize(valid_dataset, valid_labels)"
   ]
  },
  {
   "cell_type": "markdown",
   "metadata": {
    "colab_type": "text",
    "id": "puDUTe6t6USl"
   },
   "source": [
    "---\n",
    "Problem 4\n",
    "---------\n",
    "Convince yourself that the data is still good after shuffling!\n",
    "\n",
    "---"
   ]
  },
  {
   "cell_type": "code",
   "execution_count": 11,
   "metadata": {},
   "outputs": [
    {
     "data": {
      "image/png": "[encoded data removed]",
      "text/plain": [
       "<matplotlib.figure.Figure at 0x7f2debe41e80>"
      ]
     },
     "metadata": {},
     "output_type": "display_data"
    },
    {
     "data": {
      "image/png": "[encoded data removed]",
      "text/plain": [
       "<matplotlib.figure.Figure at 0x7f2debbace80>"
      ]
     },
     "metadata": {},
     "output_type": "display_data"
    },
    {
     "data": {
      "image/png": "[encoded data removed]",
      "text/plain": [
       "<matplotlib.figure.Figure at 0x7f2debb9aba8>"
      ]
     },
     "metadata": {},
     "output_type": "display_data"
    }
   ],
   "source": [
    "for file in train_dataset[:3]:\n",
    "    plt.imshow(file)\n",
    "    plt.show()"
   ]
  },
  {
   "cell_type": "markdown",
   "metadata": {
    "colab_type": "text",
    "id": "tIQJaJuwg5Hw"
   },
   "source": [
    "Finally, let's save the data for later reuse:"
   ]
  },
  {
   "cell_type": "code",
   "execution_count": 12,
   "metadata": {
    "cellView": "both",
    "colab": {
     "autoexec": {
      "startup": false,
      "wait_interval": 0
     }
    },
    "colab_type": "code",
    "collapsed": true,
    "id": "QiR_rETzem6C"
   },
   "outputs": [],
   "source": [
    "pickle_file = os.path.join(data_root, 'notMNIST.pickle')\n",
    "\n",
    "try:\n",
    "  f = open(pickle_file, 'wb')\n",
    "  save = {\n",
    "    'train_dataset': train_dataset,\n",
    "    'train_labels': train_labels,\n",
    "    'valid_dataset': valid_dataset,\n",
    "    'valid_labels': valid_labels,\n",
    "    'test_dataset': test_dataset,\n",
    "    'test_labels': test_labels,\n",
    "    }\n",
    "  pickle.dump(save, f, pickle.HIGHEST_PROTOCOL)\n",
    "  f.close()\n",
    "except Exception as e:\n",
    "  print('Unable to save data to', pickle_file, ':', e)\n",
    "  raise"
   ]
  },
  {
   "cell_type": "code",
   "execution_count": 13,
   "metadata": {
    "cellView": "both",
    "colab": {
     "autoexec": {
      "startup": false,
      "wait_interval": 0
     },
     "output_extras": [
      {
       "item_id": 1
      }
     ]
    },
    "colab_type": "code",
    "executionInfo": {
     "elapsed": 413065,
     "status": "ok",
     "timestamp": 1444485899688,
     "user": {
      "color": "#1FA15D",
      "displayName": "Vincent Vanhoucke",
      "isAnonymous": false,
      "isMe": true,
      "permissionId": "05076109866853157986",
      "photoUrl": "//lh6.googleusercontent.com/-cCJa7dTDcgQ/AAAAAAAAAAI/AAAAAAAACgw/r2EZ_8oYer4/s50-c-k-no/photo.jpg",
      "sessionId": "2a0a5e044bb03b66",
      "userId": "102167687554210253930"
     },
     "user_tz": 420
    },
    "id": "hQbLjrW_iT39",
    "outputId": "b440efc6-5ee1-4cbc-d02d-93db44ebd956"
   },
   "outputs": [
    {
     "name": "stdout",
     "output_type": "stream",
     "text": [
      "Compressed pickle size: 690800512\n"
     ]
    }
   ],
   "source": [
    "statinfo = os.stat(pickle_file)\n",
    "print('Compressed pickle size:', statinfo.st_size)"
   ]
  },
  {
   "cell_type": "markdown",
   "metadata": {
    "colab_type": "text",
    "id": "gE_cRAQB33lk"
   },
   "source": [
    "---\n",
    "Problem 5\n",
    "---------\n",
    "\n",
    "By construction, this dataset might contain a lot of overlapping samples, including training data that's also contained in the validation and test set! Overlap between training and test can skew the results if you expect to use your model in an environment where there is never an overlap, but are actually ok if you expect to see training samples recur when you use it.\n",
    "Measure how much overlap there is between training, validation and test samples.\n",
    "\n",
    "Optional questions:\n",
    "- What about near duplicates between datasets? (images that are almost identical)\n",
    "- Create a sanitized validation and test set, and compare your accuracy on those in subsequent assignments.\n",
    "---"
   ]
  },
  {
   "cell_type": "code",
   "execution_count": 14,
   "metadata": {
    "collapsed": true
   },
   "outputs": [],
   "source": [
    "count_dict = {}\n",
    "for elem in train_dataset:\n",
    "    summe = np.sum(elem)\n",
    "    if summe in count_dict.keys():\n",
    "        count_dict[summe] += 1\n",
    "    else:\n",
    "        count_dict[summe] = 1"
   ]
  },
  {
   "cell_type": "code",
   "execution_count": 15,
   "metadata": {},
   "outputs": [
    {
     "data": {
      "text/plain": [
       "{0.16470623: 1,\n",
       " 1.329412: 2,\n",
       " 2.109807: 1,\n",
       " 3.6470566: 2,\n",
       " 4.7647095: 1,\n",
       " 5.0039253: 2,\n",
       " 0.88235188: 1,\n",
       " 7.3176441: 1,\n",
       " 8.8274479: 1,\n",
       " 9.7529373: 1,\n",
       " 10.631371: 2,\n",
       " 11.274509: 1,\n",
       " 12.666668: 2,\n",
       " 2.0588226: 3,\n",
       " 14.619605: 1,\n",
       " 15.094116: 1,\n",
       " 16.796078: 2,\n",
       " 17.325495: 1,\n",
       " 18.290195: 3,\n",
       " 19.25098: 1,\n",
       " 20.254906: 1,\n",
       " 21.564709: 1,\n",
       " 22.517647: 1,\n",
       " 23.631374: 1,\n",
       " 24.258823: 2,\n",
       " 25.349022: 2,\n",
       " 26.670589: 1,\n",
       " 27.125488: 1,\n",
       " 28.917646: 2,\n",
       " 29.658823: 2,\n",
       " 30.64706: 1,\n",
       " -0.96470451: 1,\n",
       " 32.168625: 1,\n",
       " 33.301964: 1,\n",
       " 34.674511: 1,\n",
       " 35.015682: 1,\n",
       " 36.458824: 3,\n",
       " 37.199997: 1,\n",
       " 38.09412: 2,\n",
       " 39.874519: 1,\n",
       " 40.368629: 1,\n",
       " 41.470585: 1,\n",
       " 42.937256: 2,\n",
       " 7.5607858: 1,\n",
       " 44.55294: 2,\n",
       " 45.160782: 3,\n",
       " 46.600002: 2,\n",
       " 47.580391: 6,\n",
       " 48.458824: 1,\n",
       " 49.541176: 2,\n",
       " 50.090191: 2,\n",
       " 51.211761: 1,\n",
       " 52.211765: 1,\n",
       " 53.701962: 2,\n",
       " 54.06274: 1,\n",
       " 55.462746: 1,\n",
       " 56.705879: 1,\n",
       " 57.043137: 3,\n",
       " 58.717651: 1,\n",
       " 59.247063: 1,\n",
       " 60.937256: 2,\n",
       " 10.913724: 1,\n",
       " 62.200005: 1,\n",
       " 63.066658: 1,\n",
       " 64.211761: 1,\n",
       " 65.015686: 6,\n",
       " 66.74118: 3,\n",
       " 67.737259: 1,\n",
       " 68.854904: 2,\n",
       " 69.062744: 1,\n",
       " 70.027443: 1,\n",
       " 71.549011: 1,\n",
       " 72.062744: 2,\n",
       " 73.066666: 1,\n",
       " 74.984314: 1,\n",
       " 75.180389: 1,\n",
       " 76.247063: 2,\n",
       " 77.847061: 1,\n",
       " 78.882355: 1,\n",
       " 79.203918: 1,\n",
       " 80.137253: 1,\n",
       " 81.698044: 1,\n",
       " 82.725494: 2,\n",
       " 83.501961: 3,\n",
       " 84.827454: 4,\n",
       " 14.054905: 1,\n",
       " 86.815689: 2,\n",
       " 87.615685: 1,\n",
       " 88.478424: 1,\n",
       " 89.450981: 1,\n",
       " 90.815689: 1,\n",
       " 15.05098: 3,\n",
       " 92.945099: 2,\n",
       " 93.117645: 2,\n",
       " 94.619614: 1,\n",
       " 95.26667: 2,\n",
       " 3.9176464: 1,\n",
       " 16.827454: 1,\n",
       " 98.450981: 1,\n",
       " 99.376472: 1,\n",
       " 100.42744: 2,\n",
       " 101.21176: 1,\n",
       " 102.39215: 1,\n",
       " 17.894115: 2,\n",
       " 104.93726: 3,\n",
       " 105.85098: 1,\n",
       " 106.06667: 2,\n",
       " 107.03137: 2,\n",
       " 108.87451: 1,\n",
       " 109.30588: 2,\n",
       " 110.96078: 2,\n",
       " 111.54902: 1,\n",
       " 112.06667: 1,\n",
       " 113.02353: 3,\n",
       " 114.86275: 3,\n",
       " 19.945099: 1,\n",
       " 116.40784: 1,\n",
       " 117.06274: 2,\n",
       " 118.53333: 1,\n",
       " 119.58432: 1,\n",
       " 120.06274: 2,\n",
       " 121.33333: 2,\n",
       " 122.76862: 1,\n",
       " 123.5451: 1,\n",
       " 124.97647: 1,\n",
       " 125.11372: 1,\n",
       " 126.37255: 3,\n",
       " 21.686275: 4,\n",
       " 128.2549: 2,\n",
       " 129.59608: 1,\n",
       " 130.10196: 1,\n",
       " 131.48627: 1,\n",
       " 132.65883: 1,\n",
       " 22.305882: 2,\n",
       " 134.8: 2,\n",
       " 135.41568: 1,\n",
       " 136.38431: 2,\n",
       " 137.52942: 1,\n",
       " 138.57254: 1,\n",
       " 139.98822: 2,\n",
       " 140.14511: 1,\n",
       " 141.22354: 1,\n",
       " 142.20392: 1,\n",
       " 143.65491: 2,\n",
       " 144.14117: 1,\n",
       " 145.69412: 1,\n",
       " 146.72942: 3,\n",
       " 147.73332: 1,\n",
       " 148.19217: 1,\n",
       " 149.82745: 1,\n",
       " 150.57648: 1,\n",
       " 151.66275: 1,\n",
       " 152.33725: 1,\n",
       " 153.32156: 1,\n",
       " 154.26666: 2,\n",
       " 155.74118: 1,\n",
       " 0.23529387: 2,\n",
       " 26.811768: 1,\n",
       " 158.43137: 1,\n",
       " 159.39215: 2,\n",
       " 160.47058: 1,\n",
       " 161.34901: 2,\n",
       " 162.78433: 1,\n",
       " 27.847055: 1,\n",
       " 164.12943: 2,\n",
       " 165.74902: 1,\n",
       " 166.15686: 2,\n",
       " 167.95294: 2,\n",
       " 168.14117: 1,\n",
       " 28.258827: 2,\n",
       " 170.49411: 1,\n",
       " 171.88626: 2,\n",
       " 172.56863: 1,\n",
       " 173.06274: 1,\n",
       " 174.90195: 1,\n",
       " 29.121571: 1,\n",
       " 176.55685: 3,\n",
       " 177.92549: 2,\n",
       " 178.25098: 1,\n",
       " 179.81961: 2,\n",
       " 180.23137: 1,\n",
       " 1.2431412: 2,\n",
       " 182.76077: 1,\n",
       " 183.86667: 3,\n",
       " 184.05882: 1,\n",
       " 185.59216: 5,\n",
       " 6.9098034: 1,\n",
       " 187.99608: 1,\n",
       " 188.90588: 2,\n",
       " 189.83922: 1,\n",
       " 190.98039: 1,\n",
       " 191.01569: 2,\n",
       " 192.86667: 1,\n",
       " 32.517654: 1,\n",
       " 194.60391: 1,\n",
       " 195.23529: 1,\n",
       " 196.6902: 1,\n",
       " 197.05099: 1,\n",
       " 198.23529: 1,\n",
       " 33.654903: 1,\n",
       " 200.01569: 1,\n",
       " 201.83528: 1,\n",
       " 202.86276: 1,\n",
       " 203.61569: 1,\n",
       " 204.99216: 1,\n",
       " 34.098038: 1,\n",
       " 206.80783: 1,\n",
       " 207.72159: 1,\n",
       " 208.30588: 1,\n",
       " 209.34903: 1,\n",
       " 210.92941: 1,\n",
       " 211.48236: 1,\n",
       " 212.35294: 2,\n",
       " 213.12943: 1,\n",
       " 214.27451: 1,\n",
       " 215.39215: 2,\n",
       " 7.5215664: 1,\n",
       " 36.105881: 4,\n",
       " 218.76863: 1,\n",
       " 219.29805: 3,\n",
       " 220.07452: 2,\n",
       " 221.52942: 1,\n",
       " 222.70589: 1,\n",
       " 37.113724: 2,\n",
       " 224.92941: 1,\n",
       " 225.05099: 1,\n",
       " 226.57649: 1,\n",
       " 227.72549: 1,\n",
       " 228.16862: 3,\n",
       " 229.99609: 1,\n",
       " 230.85492: 2,\n",
       " 231.50981: 1,\n",
       " 232.03137: 2,\n",
       " 233.89412: 1,\n",
       " 234.78432: 4,\n",
       " 235.69803: 1,\n",
       " 236.2549: 1,\n",
       " 237.24313: 1,\n",
       " 238.95686: 2,\n",
       " 239.51372: 2,\n",
       " 240.40784: 1,\n",
       " 40.180389: 2,\n",
       " 242.14508: 1,\n",
       " 243.26276: 1,\n",
       " 244.7804: 1,\n",
       " 245.2: 1,\n",
       " 8.9686251: 1,\n",
       " 41.772545: 2,\n",
       " 248.87845: 1,\n",
       " 249.30981: 1,\n",
       " 250.88629: 2,\n",
       " 251.86667: 1,\n",
       " 252.59607: 1,\n",
       " 42.564705: 4,\n",
       " 254.96864: 1,\n",
       " 255.77647: 2,\n",
       " 256.96078: 1,\n",
       " 257.81567: 2,\n",
       " 258.59216: 1,\n",
       " 259.70587: 1,\n",
       " 260.86273: 1,\n",
       " 261.35294: 2,\n",
       " 262.48236: 2,\n",
       " 263.59216: 2,\n",
       " 264.01178: 2,\n",
       " 44.07843: 1,\n",
       " 266.94904: 1,\n",
       " 267.12939: 1,\n",
       " 268.41177: 2,\n",
       " 269.14902: 1,\n",
       " 270.80392: 2,\n",
       " 45.784313: 1,\n",
       " 272.15295: 2,\n",
       " 273.15292: 3,\n",
       " 274.63528: 4,\n",
       " 275.2157: 1,\n",
       " 276.01178: 1,\n",
       " 46.862747: 1,\n",
       " 278.79999: 1,\n",
       " 279.03925: 1,\n",
       " 280.34119: 3,\n",
       " 281.349: 1,\n",
       " 282.89804: 1,\n",
       " 47.15686: 1,\n",
       " 284.11374: 1,\n",
       " 285.4549: 1,\n",
       " 286.8902: 1,\n",
       " 287.25491: 3,\n",
       " 288.16864: 1,\n",
       " 48.270588: 3,\n",
       " 290.77255: 1,\n",
       " 291.64706: 1,\n",
       " 292.28629: 1,\n",
       " 293.49805: 1,\n",
       " 294.46667: 1,\n",
       " 49.847065: 1,\n",
       " 296.71375: 1,\n",
       " 297.25098: 3,\n",
       " 298.07843: 2,\n",
       " 299.47058: 1,\n",
       " 300.66275: 1,\n",
       " 50.776466: 1,\n",
       " 302.83136: 1,\n",
       " 303.87061: 1,\n",
       " 304.37646: 4,\n",
       " 305.23138: 1,\n",
       " 10.960783: 1,\n",
       " 51.101952: 1,\n",
       " 308.16473: 1,\n",
       " 309.4549: 1,\n",
       " 310.08624: 2,\n",
       " 311.41962: 1,\n",
       " 312.24704: 1,\n",
       " 52.5098: 2,\n",
       " 314.6745: 2,\n",
       " 315.23138: 2,\n",
       " 316.11765: 1,\n",
       " 317.92551: 1,\n",
       " 318.95685: 1,\n",
       " 53.41177: 1,\n",
       " 320.79999: 2,\n",
       " 321.88629: 1,\n",
       " 322.60394: 1,\n",
       " 323.30588: 1,\n",
       " 324.85883: 1,\n",
       " 54.282356: 2,\n",
       " 326.60391: 1,\n",
       " 327.64313: 1,\n",
       " 328.75293: 1,\n",
       " 329.96078: 1,\n",
       " 330.29019: 1,\n",
       " 55.07843: 2,\n",
       " 332.48627: 1,\n",
       " 333.08627: 1,\n",
       " 334.35294: 2,\n",
       " 335.58038: 1,\n",
       " 11.152941: 2,\n",
       " 56.501961: 2,\n",
       " 338.96472: 1,\n",
       " 339.63922: 1,\n",
       " 340.37256: 1,\n",
       " 341.37646: 1,\n",
       " 342.53726: 1,\n",
       " 57.117649: 3,\n",
       " 344.1843: 1,\n",
       " 345.33334: 3,\n",
       " 346.97253: 2,\n",
       " 347.59216: 1,\n",
       " 348.90198: 2,\n",
       " 58.125488: 1,\n",
       " 350.53333: 1,\n",
       " 351.92157: 5,\n",
       " 352.60391: 1,\n",
       " 353.79218: 1,\n",
       " 354.69803: 1,\n",
       " 59.517643: 1,\n",
       " 356.14902: 1,\n",
       " 357.88629: 1,\n",
       " 358.29019: 1,\n",
       " 359.29019: 1,\n",
       " 360.72156: 1,\n",
       " 60.443138: 2,\n",
       " 362.57257: 1,\n",
       " 363.06274: 1,\n",
       " 364.0: 2,\n",
       " 365.50589: 1,\n",
       " 12.596079: 2,\n",
       " 61.043137: 2,\n",
       " 368.50195: 1,\n",
       " 369.11371: 1,\n",
       " 370.47452: 1,\n",
       " 371.56079: 2,\n",
       " 372.8941: 1,\n",
       " 62.423531: 1,\n",
       " 374.94904: 1,\n",
       " 375.76471: 1,\n",
       " 376.62747: 1,\n",
       " 377.6745: 1,\n",
       " 378.12158: 1,\n",
       " 63.509804: 1,\n",
       " 380.03137: 1,\n",
       " 381.13727: 1,\n",
       " 382.33725: 22,\n",
       " 383.81961: 2,\n",
       " 384.75293: 15,\n",
       " 64.133339: 1,\n",
       " 386.29022: 3,\n",
       " 387.93726: 2,\n",
       " 388.29803: 1,\n",
       " 389.36469: 2,\n",
       " 390.46274: 5,\n",
       " 391.35687: 1,\n",
       " 392.0: 2079,\n",
       " -219.6745: 1,\n",
       " 291.70981: 1,\n",
       " -82.360786: 1,\n",
       " 13.360785: 1,\n",
       " 66.725494: 1,\n",
       " 29.101957: 1,\n",
       " -7.4313726: 1,\n",
       " -168.26666: 4,\n",
       " -83.886276: 1,\n",
       " 67.768623: 1,\n",
       " -280.63922: 1,\n",
       " -27.341175: 1,\n",
       " 68.062744: 3,\n",
       " -226.50198: 1,\n",
       " 16.862747: 1,\n",
       " -333.25098: 1,\n",
       " 69.898041: 2,\n",
       " -10.007847: 1,\n",
       " -281.59998: 1,\n",
       " 70.282349: 5,\n",
       " -171.97647: 3,\n",
       " 51.090191: 1,\n",
       " -208.8902: 3,\n",
       " 14.074509: 1,\n",
       " 71.450989: 2,\n",
       " 22.882359: 2,\n",
       " -81.274513: 1,\n",
       " -9.7019653: 1,\n",
       " 72.168633: 1,\n",
       " -206.45491: 1,\n",
       " 148.37254: 1,\n",
       " 73.796082: 2,\n",
       " 74.588234: 4,\n",
       " -26.054901: 1,\n",
       " -165.65881: 3,\n",
       " 75.066666: 1,\n",
       " -97.79216: 1,\n",
       " -223.81175: 1,\n",
       " -191.41174: 1,\n",
       " 15.392156: 1,\n",
       " 76.627449: 2,\n",
       " -43.878429: 1,\n",
       " -30.184311: 2,\n",
       " 77.780396: 4,\n",
       " -154.47452: 2,\n",
       " 78.023529: 2,\n",
       " -114.1451: 2,\n",
       " -172.62352: 3,\n",
       " -219.14902: 2,\n",
       " 79.92157: 2,\n",
       " -231.11372: 3,\n",
       " -167.75294: 1,\n",
       " 80.764709: 1,\n",
       " -146.12943: 1,\n",
       " 62.894112: 1,\n",
       " 16.807842: 1,\n",
       " 81.286278: 3,\n",
       " 44.235294: 2,\n",
       " -202.23138: 1,\n",
       " 82.768631: 2,\n",
       " -184.10588: 2,\n",
       " -254.63138: 1,\n",
       " 83.392151: 1,\n",
       " -40.960785: 4,\n",
       " -278.39215: 1,\n",
       " 57.388233: 1,\n",
       " 84.717636: 1,\n",
       " -364.98825: 1,\n",
       " 252.42352: 1,\n",
       " 85.517647: 1,\n",
       " -39.654903: 1,\n",
       " -70.513718: 1,\n",
       " 17.105881: 1,\n",
       " 86.749016: 2,\n",
       " -186.55293: 1,\n",
       " -180.42354: 1,\n",
       " -254.06667: 1,\n",
       " 87.086273: 3,\n",
       " -325.80392: 1,\n",
       " -110.92157: 4,\n",
       " -88.423531: 1,\n",
       " 88.168625: 1,\n",
       " 47.152939: 1,\n",
       " 96.952942: 2,\n",
       " -163.53333: 1,\n",
       " 89.203926: 2,\n",
       " -212.96469: 1,\n",
       " 57.094116: 1,\n",
       " 90.376465: 1,\n",
       " -37.04314: 1,\n",
       " -1.2588196: 1,\n",
       " -10.086275: 2,\n",
       " 18.819603: 1,\n",
       " 91.709808: 2,\n",
       " 92.725494: 1,\n",
       " -70.44706: 2,\n",
       " 93.388237: 2,\n",
       " -233.4902: 1,\n",
       " -118.97647: 2,\n",
       " 94.643143: 2,\n",
       " -13.043134: 1,\n",
       " 95.760788: 2,\n",
       " -8.4745121: 1,\n",
       " -53.090195: 2,\n",
       " -112.50981: 1,\n",
       " 19.23922: 1,\n",
       " 96.788239: 1,\n",
       " 104.98431: 1,\n",
       " -118.86668: 2,\n",
       " 97.823524: 1,\n",
       " -303.45099: 2,\n",
       " -52.784313: 1,\n",
       " 98.011765: 2,\n",
       " -11.439218: 1,\n",
       " 99.254906: 2,\n",
       " 16.407845: 1,\n",
       " 100.29804: 1,\n",
       " -194.78824: 1,\n",
       " 20.282354: 1,\n",
       " 101.93726: 2,\n",
       " -176.65883: 2,\n",
       " -104.09019: 1,\n",
       " -189.39609: 2,\n",
       " 102.30196: 1,\n",
       " 196.30194: 1,\n",
       " -50.17255: 1,\n",
       " 103.2196: 2,\n",
       " -211.13336: 1,\n",
       " 104.85883: 2,\n",
       " 158.10197: 1,\n",
       " 18.505882: 1,\n",
       " -264.75293: 1,\n",
       " 90.07843: 1,\n",
       " 4.2274475: 2,\n",
       " -197.69806: 1,\n",
       " 36.635292: 2,\n",
       " -246.61961: 1,\n",
       " 21.599998: 1,\n",
       " 106.36863: 1,\n",
       " -12.196077: 1,\n",
       " 107.77255: 2,\n",
       " 57.17255: 1,\n",
       " 108.20784: 1,\n",
       " 51.22353: 1,\n",
       " -65.384315: 1,\n",
       " 109.66667: 1,\n",
       " -119.82745: 3,\n",
       " 110.35294: 2,\n",
       " -172.43921: 1,\n",
       " 22.752939: 1,\n",
       " 111.06274: 1,\n",
       " -187.33727: 1,\n",
       " 48.149017: 1,\n",
       " 112.51765: 3,\n",
       " 113.29412: 3,\n",
       " 108.56863: 1,\n",
       " -189.78824: 1,\n",
       " 114.27844: 1,\n",
       " 232.77647: 1,\n",
       " -242.39609: 2,\n",
       " 115.13725: 1,\n",
       " -30.400003: 1,\n",
       " -98.254898: 3,\n",
       " -224.27058: 1,\n",
       " 23.611765: 1,\n",
       " 116.93726: 1,\n",
       " 39.999996: 2,\n",
       " -3.65098: 1,\n",
       " -8.5529404: 1,\n",
       " 117.61961: 1,\n",
       " -62.996078: 2,\n",
       " -230.30981: 3,\n",
       " -133.73724: 3,\n",
       " 221.09802: 1,\n",
       " 118.89804: 3,\n",
       " -115.60393: 3,\n",
       " 119.16078: 1,\n",
       " 6.682354: 2,\n",
       " -168.21568: 1,\n",
       " 120.05883: 2,\n",
       " -150.08237: 1,\n",
       " 24.886272: 2,\n",
       " 121.43137: 1,\n",
       " 7.9882355: 1,\n",
       " 92.0: 1,\n",
       " -60.384315: 3,\n",
       " 122.98431: 2,\n",
       " -211.3647: 1,\n",
       " 97.690193: 1,\n",
       " -185.56862: 1,\n",
       " 123.52157: 1,\n",
       " 210.40393: 1,\n",
       " -140.12158: 1,\n",
       " -164.88235: 1,\n",
       " 124.62354: 4,\n",
       " -238.17647: 2,\n",
       " 125.79215: 1,\n",
       " 63.043137: 2,\n",
       " 25.992157: 1,\n",
       " 126.47844: 1,\n",
       " -1.9137266: 1,\n",
       " -253.4549: 2,\n",
       " -158.28235: 2,\n",
       " 350.50195: 1,\n",
       " 127.6745: 2,\n",
       " -129.46275: 1,\n",
       " 86.513725: 1,\n",
       " 128.42744: 1,\n",
       " -93.254898: 4,\n",
       " -37.431374: 4,\n",
       " 129.28629: 1,\n",
       " -164.98825: 1,\n",
       " -0.035292625: 3,\n",
       " -74.290199: 1,\n",
       " 26.278433: 1,\n",
       " 131.01961: 1,\n",
       " -199.4706: 1,\n",
       " 132.23529: 1,\n",
       " -181.34119: 1,\n",
       " 133.87059: 2,\n",
       " -46.799999: 1,\n",
       " -234.95294: 2,\n",
       " -19.070587: 2,\n",
       " 134.34509: 2,\n",
       " -216.82353: 1,\n",
       " 217.70981: 1,\n",
       " -150.09021: 1,\n",
       " 135.36862: 3,\n",
       " -239.58038: 1,\n",
       " -79.678436: 1,\n",
       " -198.61176: 2,\n",
       " 27.415688: 1,\n",
       " 136.08627: 2,\n",
       " -251.30978: 1,\n",
       " 137.92157: 1,\n",
       " -107.16078: 1,\n",
       " -55.074509: 1,\n",
       " 31.294117: 1,\n",
       " 138.12941: 2,\n",
       " 14.419607: 1,\n",
       " 139.46275: 1,\n",
       " 212.18823: 1,\n",
       " -34.282352: 2,\n",
       " 140.01176: 1,\n",
       " -195.24707: 1,\n",
       " 28.890196: 2,\n",
       " 141.29803: 1,\n",
       " -203.59607: 2,\n",
       " -177.12157: 1,\n",
       " -262.08237: 1,\n",
       " 142.57646: 2,\n",
       " -33.976471: 1,\n",
       " 5.1764698: 2,\n",
       " 143.68628: 1,\n",
       " -53.403912: 1,\n",
       " -212.60001: 1,\n",
       " 144.1098: 2,\n",
       " 167.23529: 1,\n",
       " 262.40784: 2,\n",
       " 145.07059: 2,\n",
       " -50.329407: 1,\n",
       " 29.670593: 1,\n",
       " 146.32156: 1,\n",
       " -122.67451: 1,\n",
       " 251.8902: 1,\n",
       " 147.42354: 1,\n",
       " 0.69411469: 2,\n",
       " 148.87059: 2,\n",
       " 72.266663: 2,\n",
       " 16.396078: 1,\n",
       " 149.84314: 2,\n",
       " -120.29019: 2,\n",
       " 150.12941: 2,\n",
       " 28.999992: 1,\n",
       " 1.968626: 1,\n",
       " 151.63528: 1,\n",
       " 152.96863: 3,\n",
       " -226.50589: 1,\n",
       " -352.52158: 1,\n",
       " -213.5647: 3,\n",
       " 153.0549: 2,\n",
       " 154.59607: 2,\n",
       " -46.105881: 2,\n",
       " 6.2431374: 1,\n",
       " -243.85492: 1,\n",
       " 31.635292: 4,\n",
       " 156.8902: 1,\n",
       " -181.49413: 1,\n",
       " -296.46667: 1,\n",
       " 157.3255: 1,\n",
       " 41.670589: 1,\n",
       " 158.02745: 1,\n",
       " 10.286272: 1,\n",
       " 159.95686: 3,\n",
       " -44.494118: 1,\n",
       " -79.066658: 1,\n",
       " 160.35686: 1,\n",
       " -181.61179: 1,\n",
       " -105.84312: 1,\n",
       " -6.2588239: 1,\n",
       " 32.756863: 1,\n",
       " -43.188236: 1,\n",
       " 81.623528: 1,\n",
       " 162.09412: 1,\n",
       " -204.15686: 4,\n",
       " -2.8352938: 1,\n",
       " 173.49805: 1,\n",
       " 163.67451: 2,\n",
       " -186.02745: 2,\n",
       " -86.976471: 2,\n",
       " -114.4549: 1,\n",
       " -257.77252: 1,\n",
       " 164.15295: 2,\n",
       " -10.105879: 1,\n",
       " 165.90195: 3,\n",
       " 33.823528: 1,\n",
       " -210.35687: 2,\n",
       " 8.1372604: 1,\n",
       " -234.11765: 1,\n",
       " 167.61569: 1,\n",
       " -130.97255: 1,\n",
       " 98.839218: 1,\n",
       " 168.2196: 2,\n",
       " -112.84314: 1,\n",
       " -40.270592: 1,\n",
       " 169.51764: 2,\n",
       " -348.52942: 1,\n",
       " 14.011764: 1,\n",
       " 170.14902: 4,\n",
       " -147.32158: 1,\n",
       " 34.019608: 1,\n",
       " -12.007845: 1,\n",
       " -57.623528: 1,\n",
       " 172.2196: 1,\n",
       " -174.8157: 1,\n",
       " -182.80392: 1,\n",
       " 172.02353: 1,\n",
       " 173.5804: 2,\n",
       " -11.701963: 1,\n",
       " -235.41177: 2,\n",
       " 174.49413: 1,\n",
       " -217.28236: 1,\n",
       " -108.0: 5,\n",
       " 175.5647: 1,\n",
       " 281.68237: 1,\n",
       " -127.58431: 1,\n",
       " 35.674507: 3,\n",
       " -47.615688: 1,\n",
       " 177.19217: 2,\n",
       " -108.61961: 1,\n",
       " -220.3255: 1,\n",
       " 178.80392: 2,\n",
       " 13.666668: 3,\n",
       " -149.91373: 4,\n",
       " -4.4901886: 1,\n",
       " 179.50197: 1,\n",
       " -56.423527: 1,\n",
       " 180.10196: 2,\n",
       " -226.55293: 1,\n",
       " -125.97255: 2,\n",
       " -53.400002: 1,\n",
       " 181.64706: 4,\n",
       " -178.5843: 1,\n",
       " 182.8941: 1,\n",
       " 52.270592: 1,\n",
       " -160.4549: 2,\n",
       " 183.85098: 2,\n",
       " -92.752937: 1,\n",
       " 184.66667: 1,\n",
       " -178.65881: 1,\n",
       " -69.917648: 1,\n",
       " 185.62354: 3,\n",
       " 16.584312: 1,\n",
       " -266.67841: 1,\n",
       " -51.788239: 3,\n",
       " 186.36864: 1,\n",
       " -114.00784: 3,\n",
       " 187.07451: 1,\n",
       " -22.411766: 1,\n",
       " -3.3372552: 1,\n",
       " 188.87057: 1,\n",
       " -23.525492: 1,\n",
       " 189.12941: 1,\n",
       " -199.35687: 1,\n",
       " 190.8: 1,\n",
       " -126.85491: 1,\n",
       " -13.392155: 1,\n",
       " 38.74902: 1,\n",
       " -174.35687: 1,\n",
       " 180.46667: 1,\n",
       " -31.686275: 1,\n",
       " 192.98039: 2,\n",
       " 198.59608: 1,\n",
       " -84.658821: 3,\n",
       " -227.96863: 1,\n",
       " 1.8431396: 1,\n",
       " 193.49805: 1,\n",
       " -209.83922: 3,\n",
       " -224.49413: 1,\n",
       " 194.12939: 1,\n",
       " -191.70981: 3,\n",
       " 92.37648: 1,\n",
       " 195.33334: 2,\n",
       " -244.32156: 1,\n",
       " 110.50589: 1,\n",
       " 39.705887: 1,\n",
       " 254.65099: 1,\n",
       " 128.6353: 1,\n",
       " -297.92941: 1,\n",
       " 197.75687: 1,\n",
       " -51.160782: 1,\n",
       " -64.917648: 3,\n",
       " 198.09804: 1,\n",
       " -135.65881: 2,\n",
       " 219.16864: 1,\n",
       " -199.21176: 1,\n",
       " 50.545101: 1,\n",
       " 199.98431: 1,\n",
       " -117.5255: 1,\n",
       " -314.27844: 1,\n",
       " 200.38432: 2,\n",
       " -170.13725: 1,\n",
       " 184.6902: 1,\n",
       " -98.564705: 1,\n",
       " 201.97649: 1,\n",
       " -152.00784: 3,\n",
       " -284.09805: 1,\n",
       " 202.56863: 1,\n",
       " 5.0666656: 2,\n",
       " 21.996077: 1,\n",
       " -205.61569: 1,\n",
       " 203.65491: 1,\n",
       " 167.33727: 1,\n",
       " 25.72941: 1,\n",
       " 204.98039: 1,\n",
       " -204.19608: 1,\n",
       " 8.294117: 1,\n",
       " -63.270588: 2,\n",
       " 41.376469: 1,\n",
       " -78.823532: 1,\n",
       " 100.5804: 1,\n",
       " 207.12549: 1,\n",
       " -24.909801: 1,\n",
       " -222.35684: 1,\n",
       " 208.98825: 3,\n",
       " -113.30588: 2,\n",
       " -61.12941: 2,\n",
       " 209.69022: 1,\n",
       " 44.768631: 1,\n",
       " -90.24707: 1,\n",
       " -166.91373: 4,\n",
       " 210.76077: 19,\n",
       " 22.564705: 2,\n",
       " -148.78432: 1,\n",
       " 42.968628: 2,\n",
       " 114.62746: 1,\n",
       " 212.32156: 1,\n",
       " -183.26666: 4,\n",
       " 213.39609: 1,\n",
       " -39.121567: 1,\n",
       " 298.07059: 1,\n",
       " 214.42744: 1,\n",
       " -236.87842: 1,\n",
       " 363.74118: 1,\n",
       " -120.30196: 1,\n",
       " 13.164707: 1,\n",
       " 215.20392: 1,\n",
       " -16.623529: 1,\n",
       " 29.556866: 2,\n",
       " -214.1647: 3,\n",
       " 280.22745: 1,\n",
       " 216.90981: 1,\n",
       " 217.68234: 1,\n",
       " -253.22745: 3,\n",
       " 218.03137: 1,\n",
       " -306.8353: 1,\n",
       " 48.992157: 2,\n",
       " 219.03528: 1,\n",
       " 2.0627451: 1,\n",
       " 220.38431: 1,\n",
       " 96.517647: 1,\n",
       " -126.43529: 1,\n",
       " 44.858829: 1,\n",
       " -197.17255: 3,\n",
       " 157.65881: 1,\n",
       " 222.07843: 1,\n",
       " -179.04314: 1,\n",
       " 223.26276: 1,\n",
       " 50.60392: 1,\n",
       " 224.82355: 1,\n",
       " -214.52158: 3,\n",
       " 225.00784: 2,\n",
       " -267.13333: 2,\n",
       " -149.49413: 1,\n",
       " 45.933334: 3,\n",
       " -196.46275: 1,\n",
       " 227.80786: 2,\n",
       " -105.85883: 1,\n",
       " -33.286278: 1,\n",
       " 228.61569: 1,\n",
       " 34.556866: 1,\n",
       " 70.345093: 1,\n",
       " 229.64706: 2,\n",
       " -211.95688: 1,\n",
       " -235.71765: 1,\n",
       " 9.5999985: 1,\n",
       " -193.94902: 2,\n",
       " 262.4353: 1,\n",
       " 46.12941: 2,\n",
       " -32.509804: 1,\n",
       " 232.45883: 1,\n",
       " -85.117653: 2,\n",
       " 9.2117634: 2,\n",
       " 233.07059: 1,\n",
       " 36.168629: 2,\n",
       " 234.15688: 1,\n",
       " -66.15686: 1,\n",
       " -173.4706: 1,\n",
       " 235.92155: 1,\n",
       " -48.027451: 3,\n",
       " -21.070585: 1,\n",
       " -245.7804: 3,\n",
       " 47.341179: 2,\n",
       " 241.90982: 1,\n",
       " 237.57648: 2,\n",
       " -298.39606: 2,\n",
       " 238.64314: 1,\n",
       " -42.207848: 1,\n",
       " -136.11765: 1,\n",
       " 239.1098: 1,\n",
       " -118.98824: 1,\n",
       " -46.415688: 2,\n",
       " 240.25098: 1,\n",
       " -171.59999: 1,\n",
       " 48.513733: 1,\n",
       " -150.51373: 3,\n",
       " -153.46667: 1,\n",
       " 22.262745: 1,\n",
       " 242.30588: 1,\n",
       " -283.7059: 1,\n",
       " -63.768623: 1,\n",
       " 243.72942: 1,\n",
       " -227.15294: 1,\n",
       " 363.63138: 1,\n",
       " 244.20392: 1,\n",
       " -116.37647: 4,\n",
       " -259.69409: 1,\n",
       " 95.141174: 1,\n",
       " 245.19215: 1,\n",
       " -97.41568: 3,\n",
       " 49.858822: 1,\n",
       " 131.39999: 1,\n",
       " 24.874508: 1,\n",
       " -79.28627: 1,\n",
       " 247.16862: 1,\n",
       " 248.58823: 2,\n",
       " 59.823528: 1,\n",
       " 249.33334: 3,\n",
       " -166.08237: 1,\n",
       " 250.30197: 1,\n",
       " -167.37256: 1,\n",
       " 50.101967: 1,\n",
       " 138.39217: 1,\n",
       " 351.67059: 1,\n",
       " 252.12158: 1,\n",
       " -59.545097: 2,\n",
       " -13.176471: 1,\n",
       " 253.24707: 1,\n",
       " -184.7294: 2,\n",
       " 170.10587: 1,\n",
       " -40.580399: 2,\n",
       " 254.48627: 1,\n",
       " -34.976467: 1,\n",
       " -58.239216: 1,\n",
       " 332.37646: 1,\n",
       " 10.505884: 1,\n",
       " -197.29803: 1,\n",
       " 135.61961: 1,\n",
       " 51.298035: 1,\n",
       " 10.439217: 2,\n",
       " 257.17645: 2,\n",
       " -30.976469: 1,\n",
       " 258.09802: 2,\n",
       " -189.22745: 4,\n",
       " 259.63531: 2,\n",
       " 262.40787: 1,\n",
       " -14.329412: 1,\n",
       " -163.15294: 3,\n",
       " -29.670588: 1,\n",
       " 65.658829: 1,\n",
       " 260.30981: 1,\n",
       " 55.007843: 1,\n",
       " 209.80002: 1,\n",
       " 52.61961: 1,\n",
       " -198.63138: 2,\n",
       " 262.82355: 1,\n",
       " -129.39999: 1,\n",
       " 239.16862: 1,\n",
       " 0.52548981: 1,\n",
       " -108.93333: 1,\n",
       " 263.79608: 4,\n",
       " -36.360779: 1,\n",
       " -23.352945: 1,\n",
       " -233.10982: 2,\n",
       " 264.34509: 1,\n",
       " 46.639217: 1,\n",
       " 265.05884: 1,\n",
       " ...}"
      ]
     },
     "execution_count": 15,
     "metadata": {},
     "output_type": "execute_result"
    }
   ],
   "source": [
    "count_dict"
   ]
  },
  {
   "cell_type": "markdown",
   "metadata": {
    "colab_type": "text",
    "id": "L8oww1s4JMQx"
   },
   "source": [
    "---\n",
    "Problem 6\n",
    "---------\n",
    "\n",
    "Let's get an idea of what an off-the-shelf classifier can give you on this data. It's always good to check that there is something to learn, and that it's a problem that is not so trivial that a canned solution solves it.\n",
    "\n",
    "Train a simple model on this data using 50, 100, 1000 and 5000 training samples. Hint: you can use the LogisticRegression model from sklearn.linear_model.\n",
    "\n",
    "Optional question: train an off-the-shelf model on all the data!\n",
    "\n",
    "---"
   ]
  },
  {
   "cell_type": "code",
   "execution_count": 19,
   "metadata": {},
   "outputs": [
    {
     "data": {
      "text/plain": [
       "0.79590000000000005"
      ]
     },
     "execution_count": 19,
     "metadata": {},
     "output_type": "execute_result"
    }
   ],
   "source": [
    "samples = 1000\n",
    "\n",
    "lr = LogisticRegression(C=1e5, n_jobs=-1)\n",
    "lr.fit(train_dataset[:samples].reshape(samples,784), train_labels[:samples])\n",
    "\n",
    "lr.score(test_dataset.reshape(test_dataset.shape[0],784), test_labels)"
   ]
  },
  {
   "cell_type": "code",
   "execution_count": 20,
   "metadata": {
    "collapsed": true
   },
   "outputs": [],
   "source": [
    "from sklearn.metrics import confusion_matrix\n",
    "prediction = lr.predict(test_dataset.reshape(test_dataset.shape[0],784))\n",
    "cfm = confusion_matrix(test_labels, prediction)"
   ]
  },
  {
   "cell_type": "code",
   "execution_count": 21,
   "metadata": {},
   "outputs": [
    {
     "data": {
      "image/png": "[encoded data removed]",
      "text/plain": [
       "<matplotlib.figure.Figure at 0x7f2de62600b8>"
      ]
     },
     "metadata": {},
     "output_type": "display_data"
    }
   ],
   "source": [
    "classes = ['A', 'B', 'C', 'D', 'E', 'F', 'G', 'H', 'I', 'J']\n",
    "plt.imshow(cfm, interpolation='nearest', cmap=plt.cm.Blues)\n",
    "plt.title('Confusion Matrix')\n",
    "plt.colorbar()\n",
    "tick_marks = np.arange(len(classes))\n",
    "plt.xticks(tick_marks, classes, rotation=45)\n",
    "plt.yticks(tick_marks, classes)\n",
    "plt.show()"
   ]
  },
  {
   "cell_type": "code",
   "execution_count": null,
   "metadata": {
    "collapsed": true
   },
   "outputs": [],
   "source": []
  }
 ],
 "metadata": {
  "colab": {
   "default_view": {},
   "name": "1_notmnist.ipynb",
   "provenance": [],
   "version": "0.3.2",
   "views": {}
  },
  "kernelspec": {
   "display_name": "Python 3",
   "language": "python",
   "name": "python3"
  },
  "language_info": {
   "codemirror_mode": {
    "name": "ipython",
    "version": 3
   },
   "file_extension": ".py",
   "mimetype": "text/x-python",
   "name": "python",
   "nbconvert_exporter": "python",
   "pygments_lexer": "ipython3",
   "version": "3.6.1"
  }
 },
 "nbformat": 4,
 "nbformat_minor": 1
}
