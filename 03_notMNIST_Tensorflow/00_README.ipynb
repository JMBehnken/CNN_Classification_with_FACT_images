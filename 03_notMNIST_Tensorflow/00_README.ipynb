{
 "cells": [
  {
   "cell_type": "markdown",
   "metadata": {
    "deletable": true,
    "editable": true
   },
   "source": [
    "# Udacity Tensorflow notMNIST course\n",
    "\n",
    "This folder contains some notebooks with assignments from Udacity concerning the notMNIST dataset.\n",
    "\n",
    "Files:\n",
    "\n",
    "\"00_README.ipynb\" - Readme\n",
    "\n",
    "\"01_notMNIST_Tensorflow.ipynb\" - Exercise I: preprocessing\n",
    "\n",
    "\"02_fullyconnected_tensorflow.ipynb\" - Exercise II: fully conected nn\n",
    "\n",
    "\"03_regularization_Tensorflow.ipynb\" - Exercise III: regularization of nn\n",
    "\n",
    "\"04_convolutions_Tensorflow.ipynb\" - Exercise IV: cnn\n",
    "\n",
    "\"notMNIST_large/\" - train data folder\n",
    "\n",
    "\"notMNIST_small/\" - test data folder\n",
    "\n",
    "\"notMNIST.pickle\" - preprocessed and pickled data\n",
    "\n",
    "\"notMNIST_large.tar.gz\" - RAW train data\n",
    "\n",
    "\"notMNIST_small.tar.gz\" - RAW test data"
   ]
  },
  {
   "cell_type": "code",
   "execution_count": null,
   "metadata": {
    "collapsed": true,
    "deletable": true,
    "editable": true
   },
   "outputs": [],
   "source": []
  }
 ],
 "metadata": {
  "anaconda-cloud": {},
  "kernelspec": {
   "display_name": "Python [default]",
   "language": "python",
   "name": "python3"
  },
  "language_info": {
   "codemirror_mode": {
    "name": "ipython",
    "version": 3
   },
   "file_extension": ".py",
   "mimetype": "text/x-python",
   "name": "python",
   "nbconvert_exporter": "python",
   "pygments_lexer": "ipython3",
   "version": "3.5.3"
  }
 },
 "nbformat": 4,
 "nbformat_minor": 2
}
