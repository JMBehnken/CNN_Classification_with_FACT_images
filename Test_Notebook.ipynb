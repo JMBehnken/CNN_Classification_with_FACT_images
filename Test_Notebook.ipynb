{
 "cells": [
  {
   "cell_type": "code",
   "execution_count": 5,
   "metadata": {
    "collapsed": false
   },
   "outputs": [],
   "source": [
    "import telegram\n",
    "\n",
    "token = '220076659:AAEM8D4zapcZ5pJJruJeAgRQY2q4ZcKlgFY'\n",
    "\n",
    "def sendTelegram(message):\n",
    "    bot = telegram.Bot(token=token)\n",
    "    bot.send_message(chat_id=377868589, text=message)\n",
    "    \n",
    "    sendTelegram('Makefile')"
   ]
  }
 ],
 "metadata": {
  "anaconda-cloud": {},
  "kernelspec": {
   "display_name": "Python [conda env:keras]",
   "language": "python",
   "name": "conda-env-keras-py"
  },
  "language_info": {
   "codemirror_mode": {
    "name": "ipython",
    "version": 3
   },
   "file_extension": ".py",
   "mimetype": "text/x-python",
   "name": "python",
   "nbconvert_exporter": "python",
   "pygments_lexer": "ipython3",
   "version": "3.5.3"
  }
 },
 "nbformat": 4,
 "nbformat_minor": 2
}
