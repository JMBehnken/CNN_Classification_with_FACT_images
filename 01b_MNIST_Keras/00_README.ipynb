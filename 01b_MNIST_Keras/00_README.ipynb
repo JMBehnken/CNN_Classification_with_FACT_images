{
 "cells": [
  {
   "cell_type": "markdown",
   "metadata": {},
   "source": [
    "# Shuffled/unshuffled input vectors for MNIST\n",
    "\n",
    "This folder contains some experiments with the MNIST dataset and shuffled/unshuffled input vectors.\n",
    "\n",
    "Files:\n",
    "\n",
    "\"00_README.ipynb\" - Readme\n",
    "\n",
    "\"MNIST_Keras.ipynb\" - Mainfile notebook\n",
    "\n",
    "\"MNIST_Keras.py\" - Mainfile for server\n",
    "\n",
    "\"mnist.csv\" - Dataset\n",
    "\n",
    "\"prediction_shuffled.png\" - Example shuffled input vector\n",
    "\n",
    "\"prediction_unshuffled.png\" - Example unshuffled input vector\n",
    "\n",
    "\"shuffle.csv\" - 100 shuffled accuracy results\n",
    "\n",
    "\"unshuffle.csv\" - 100 unshuffled accuracy results\n",
    "\n"
   ]
  }
 ],
 "metadata": {
  "anaconda-cloud": {},
  "kernelspec": {
   "display_name": "Python 3",
   "language": "python",
   "name": "python3"
  },
  "language_info": {
   "codemirror_mode": {
    "name": "ipython",
    "version": 3
   },
   "file_extension": ".py",
   "mimetype": "text/x-python",
   "name": "python",
   "nbconvert_exporter": "python",
   "pygments_lexer": "ipython3",
   "version": "3.6.1"
  }
 },
 "nbformat": 4,
 "nbformat_minor": 2
}
