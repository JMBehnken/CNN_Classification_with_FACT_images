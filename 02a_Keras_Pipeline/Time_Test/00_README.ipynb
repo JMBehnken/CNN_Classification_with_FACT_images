{
 "cells": [
  {
   "cell_type": "markdown",
   "metadata": {},
   "source": [
    "# Time Test\n",
    "\n",
    "This folder contains some data of runtimes for the loading process of Conv_2D-code."
   ]
  },
  {
   "cell_type": "code",
   "execution_count": 1,
   "metadata": {
    "collapsed": false
   },
   "outputs": [
    {
     "data": {
      "text/html": [
       "<div>\n",
       "<table border=\"1\" class=\"dataframe\">\n",
       "  <thead>\n",
       "    <tr style=\"text-align: right;\">\n",
       "      <th></th>\n",
       "      <th>Pool_t</th>\n",
       "      <th>Concatenate_t</th>\n",
       "      <th>Randomize_t</th>\n",
       "      <th>All_t</th>\n",
       "    </tr>\n",
       "  </thead>\n",
       "  <tbody>\n",
       "    <tr>\n",
       "      <th>count</th>\n",
       "      <td>12.000000</td>\n",
       "      <td>12.000000</td>\n",
       "      <td>12.000000</td>\n",
       "      <td>12.000000</td>\n",
       "    </tr>\n",
       "    <tr>\n",
       "      <th>mean</th>\n",
       "      <td>37.346427</td>\n",
       "      <td>21.590637</td>\n",
       "      <td>62.057803</td>\n",
       "      <td>120.994896</td>\n",
       "    </tr>\n",
       "    <tr>\n",
       "      <th>std</th>\n",
       "      <td>9.508331</td>\n",
       "      <td>11.034635</td>\n",
       "      <td>11.938147</td>\n",
       "      <td>16.588293</td>\n",
       "    </tr>\n",
       "    <tr>\n",
       "      <th>min</th>\n",
       "      <td>31.609718</td>\n",
       "      <td>8.032307</td>\n",
       "      <td>44.418428</td>\n",
       "      <td>97.545712</td>\n",
       "    </tr>\n",
       "    <tr>\n",
       "      <th>25%</th>\n",
       "      <td>32.901354</td>\n",
       "      <td>14.172499</td>\n",
       "      <td>56.389860</td>\n",
       "      <td>107.812952</td>\n",
       "    </tr>\n",
       "    <tr>\n",
       "      <th>50%</th>\n",
       "      <td>34.388442</td>\n",
       "      <td>19.216008</td>\n",
       "      <td>58.907463</td>\n",
       "      <td>120.174585</td>\n",
       "    </tr>\n",
       "    <tr>\n",
       "      <th>75%</th>\n",
       "      <td>37.222393</td>\n",
       "      <td>27.102879</td>\n",
       "      <td>66.640955</td>\n",
       "      <td>133.729964</td>\n",
       "    </tr>\n",
       "    <tr>\n",
       "      <th>max</th>\n",
       "      <td>66.713003</td>\n",
       "      <td>39.248083</td>\n",
       "      <td>93.246800</td>\n",
       "      <td>146.113311</td>\n",
       "    </tr>\n",
       "  </tbody>\n",
       "</table>\n",
       "</div>"
      ],
      "text/plain": [
       "          Pool_t  Concatenate_t  Randomize_t       All_t\n",
       "count  12.000000      12.000000    12.000000   12.000000\n",
       "mean   37.346427      21.590637    62.057803  120.994896\n",
       "std     9.508331      11.034635    11.938147   16.588293\n",
       "min    31.609718       8.032307    44.418428   97.545712\n",
       "25%    32.901354      14.172499    56.389860  107.812952\n",
       "50%    34.388442      19.216008    58.907463  120.174585\n",
       "75%    37.222393      27.102879    66.640955  133.729964\n",
       "max    66.713003      39.248083    93.246800  146.113311"
      ]
     },
     "execution_count": 1,
     "metadata": {},
     "output_type": "execute_result"
    }
   ],
   "source": [
    "import pandas as pd\n",
    "\n",
    "df = pd.read_csv('Time_Test.csv')\n",
    "df.describe()"
   ]
  },
  {
   "cell_type": "markdown",
   "metadata": {},
   "source": [
    "Pool_t:\n",
    "\n",
    "Time for loading 242 files with 10000 events each\n",
    "\n",
    "Concatenate_t:\n",
    "\n",
    "Time to np.concatenate all these batches to a single np.array\n",
    "\n",
    "Randomize_t:\n",
    "\n",
    "Time to randomize and split the dataset into train/valid/test"
   ]
  },
  {
   "cell_type": "code",
   "execution_count": null,
   "metadata": {
    "collapsed": true
   },
   "outputs": [],
   "source": []
  }
 ],
 "metadata": {
  "anaconda-cloud": {},
  "kernelspec": {
   "display_name": "Python [default]",
   "language": "python",
   "name": "python3"
  },
  "language_info": {
   "codemirror_mode": {
    "name": "ipython",
    "version": 3
   },
   "file_extension": ".py",
   "mimetype": "text/x-python",
   "name": "python",
   "nbconvert_exporter": "python",
   "pygments_lexer": "ipython3",
   "version": "3.5.3"
  }
 },
 "nbformat": 4,
 "nbformat_minor": 2
}
