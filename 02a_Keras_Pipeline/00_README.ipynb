{
 "cells": [
  {
   "cell_type": "markdown",
   "metadata": {},
   "source": [
    "# Training nn's in Tensorflow\n",
    "\n",
    "This folder contains files for a pipeline to train nn's in Tensorflow efficently\n",
    "\n",
    "Files:\n",
    "\n",
    "\"00_README.ipynb\" - Readme\n",
    "\n",
    "\"First_nn_Keras.ipynb\" - Trains a nn on FACT dataset in Keras\n",
    "\n",
    "\"First_cnn_Tensorflow.ipynb\" - Trains a cnn on MNIST dataset in Tensorflow\n",
    "\n",
    "\"Conv_2D.py\" - Trains a cnn on pickled and formated MC data\n",
    "\n",
    "\"position_dict.p\" - Stores the translation from hexagonal ids to 2D matrix\n",
    "\n",
    "\"MC_to_pickled_list_preprocessing.py\" - Preprocesses the MCs to 242 pickled lists containing matrices\n",
    "\n",
    "\"Pickled_list_to_formated_data.py\" - Preprocesses the pickled lists to correct formated cnn data\n",
    "\n",
    "\"import.py\" - Imports every needed library\n",
    "\n",
    "\"getMetadata.py\" - Computes/loads the metadata file for the MCs\n",
    "\n",
    "\"File_event_count.csv\" - Metadata for MCs\n",
    "\n",
    "\"batchGenerator.py\" - Generates batches from MCs\n",
    "\n",
    "\"getMatrix.py\" - Creates an inputvector [144000,1]\n",
    "\n",
    "\"getMatrix_2D.py\" - Creates an input matrix [46,45]\n",
    "\n",
    "\"getModel.py\" - Creates a new model to train\n",
    "\n",
    "\"evaluateModel.py\" - Evaluates the trained model"
   ]
  },
  {
   "cell_type": "code",
   "execution_count": null,
   "metadata": {
    "collapsed": true
   },
   "outputs": [],
   "source": []
  }
 ],
 "metadata": {
  "anaconda-cloud": {},
  "kernelspec": {
   "display_name": "Python [default]",
   "language": "python",
   "name": "python3"
  },
  "language_info": {
   "codemirror_mode": {
    "name": "ipython",
    "version": 3
   },
   "file_extension": ".py",
   "mimetype": "text/x-python",
   "name": "python",
   "nbconvert_exporter": "python",
   "pygments_lexer": "ipython3",
   "version": "3.5.3"
  }
 },
 "nbformat": 4,
 "nbformat_minor": 2
}
