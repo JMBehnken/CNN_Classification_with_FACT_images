{
 "cells": [
  {
   "cell_type": "code",
   "execution_count": 8,
   "metadata": {
    "collapsed": true
   },
   "outputs": [],
   "source": [
    "import pandas as pd\n",
    "import numpy as np\n",
    "import h5py\n",
    "import os"
   ]
  },
  {
   "cell_type": "code",
   "execution_count": 9,
   "metadata": {
    "collapsed": true
   },
   "outputs": [],
   "source": [
    "prediction_path = '/fhgfs/users/jbehnken/make_Data/crab1314_prediction.csv'\n",
    "plotting_path = '/fhgfs/users/jbehnken/make_Data/Theta_Plotting.h5'"
   ]
  },
  {
   "cell_type": "code",
   "execution_count": 7,
   "metadata": {},
   "outputs": [
    {
     "ename": "KeyboardInterrupt",
     "evalue": "",
     "output_type": "error",
     "traceback": [
      "\u001b[0;31m---------------------------------------------------------------------------\u001b[0m",
      "\u001b[0;31mKeyboardInterrupt\u001b[0m                         Traceback (most recent call last)",
      "\u001b[0;32m<ipython-input-7-fcb616c2d1d5>\u001b[0m in \u001b[0;36m<module>\u001b[0;34m()\u001b[0m\n\u001b[1;32m      6\u001b[0m     \u001b[0mdata_2\u001b[0m  \u001b[0;34m=\u001b[0m \u001b[0;34m[\u001b[0m\u001b[0;34m]\u001b[0m\u001b[0;34m\u001b[0m\u001b[0m\n\u001b[1;32m      7\u001b[0m     \u001b[0;32mfor\u001b[0m \u001b[0mkey\u001b[0m \u001b[0;32min\u001b[0m \u001b[0mkeys_1\u001b[0m\u001b[0;34m:\u001b[0m\u001b[0;34m\u001b[0m\u001b[0m\n\u001b[0;32m----> 8\u001b[0;31m         \u001b[0mdata_1\u001b[0m\u001b[0;34m.\u001b[0m\u001b[0mappend\u001b[0m\u001b[0;34m(\u001b[0m\u001b[0mnp\u001b[0m\u001b[0;34m.\u001b[0m\u001b[0marray\u001b[0m\u001b[0;34m(\u001b[0m\u001b[0mf\u001b[0m\u001b[0;34m[\u001b[0m\u001b[0;34m'events'\u001b[0m\u001b[0;34m]\u001b[0m\u001b[0;34m[\u001b[0m\u001b[0mkey\u001b[0m\u001b[0;34m]\u001b[0m\u001b[0;34m)\u001b[0m\u001b[0;34m)\u001b[0m\u001b[0;34m\u001b[0m\u001b[0m\n\u001b[0m\u001b[1;32m      9\u001b[0m     \u001b[0;32mfor\u001b[0m \u001b[0mkey\u001b[0m \u001b[0;32min\u001b[0m \u001b[0mkeys_2\u001b[0m\u001b[0;34m:\u001b[0m\u001b[0;34m\u001b[0m\u001b[0m\n\u001b[1;32m     10\u001b[0m         \u001b[0mdata_2\u001b[0m\u001b[0;34m.\u001b[0m\u001b[0mappend\u001b[0m\u001b[0;34m(\u001b[0m\u001b[0mnp\u001b[0m\u001b[0;34m.\u001b[0m\u001b[0marray\u001b[0m\u001b[0;34m(\u001b[0m\u001b[0mf\u001b[0m\u001b[0;34m[\u001b[0m\u001b[0;34m'runs'\u001b[0m\u001b[0;34m]\u001b[0m\u001b[0;34m[\u001b[0m\u001b[0mkey\u001b[0m\u001b[0;34m]\u001b[0m\u001b[0;34m)\u001b[0m\u001b[0;34m)\u001b[0m\u001b[0;34m\u001b[0m\u001b[0m\n",
      "\u001b[0;32mh5py/_objects.pyx\u001b[0m in \u001b[0;36mh5py._objects.with_phil.wrapper (/home/ilan/minonda/conda-bld/h5py_1490028461908/work/h5py/_objects.c:2846)\u001b[0;34m()\u001b[0m\n",
      "\u001b[0;32mh5py/_objects.pyx\u001b[0m in \u001b[0;36mh5py._objects.with_phil.wrapper (/home/ilan/minonda/conda-bld/h5py_1490028461908/work/h5py/_objects.c:2804)\u001b[0;34m()\u001b[0m\n",
      "\u001b[0;32m~/.conda/envs/keras/lib/python3.5/site-packages/h5py/_hl/dataset.py\u001b[0m in \u001b[0;36m__array__\u001b[0;34m(self, dtype)\u001b[0m\n\u001b[1;32m    692\u001b[0m             \u001b[0;32mreturn\u001b[0m \u001b[0marr\u001b[0m\u001b[0;34m\u001b[0m\u001b[0m\n\u001b[1;32m    693\u001b[0m \u001b[0;34m\u001b[0m\u001b[0m\n\u001b[0;32m--> 694\u001b[0;31m         \u001b[0mself\u001b[0m\u001b[0;34m.\u001b[0m\u001b[0mread_direct\u001b[0m\u001b[0;34m(\u001b[0m\u001b[0marr\u001b[0m\u001b[0;34m)\u001b[0m\u001b[0;34m\u001b[0m\u001b[0m\n\u001b[0m\u001b[1;32m    695\u001b[0m         \u001b[0;32mreturn\u001b[0m \u001b[0marr\u001b[0m\u001b[0;34m\u001b[0m\u001b[0m\n\u001b[1;32m    696\u001b[0m \u001b[0;34m\u001b[0m\u001b[0m\n",
      "\u001b[0;32m~/.conda/envs/keras/lib/python3.5/site-packages/h5py/_hl/dataset.py\u001b[0m in \u001b[0;36mread_direct\u001b[0;34m(self, dest, source_sel, dest_sel)\u001b[0m\n\u001b[1;32m    653\u001b[0m \u001b[0;34m\u001b[0m\u001b[0m\n\u001b[1;32m    654\u001b[0m             \u001b[0;32mfor\u001b[0m \u001b[0mmspace\u001b[0m \u001b[0;32min\u001b[0m \u001b[0mdest_sel\u001b[0m\u001b[0;34m.\u001b[0m\u001b[0mbroadcast\u001b[0m\u001b[0;34m(\u001b[0m\u001b[0msource_sel\u001b[0m\u001b[0;34m.\u001b[0m\u001b[0mmshape\u001b[0m\u001b[0;34m)\u001b[0m\u001b[0;34m:\u001b[0m\u001b[0;34m\u001b[0m\u001b[0m\n\u001b[0;32m--> 655\u001b[0;31m                 \u001b[0mself\u001b[0m\u001b[0;34m.\u001b[0m\u001b[0mid\u001b[0m\u001b[0;34m.\u001b[0m\u001b[0mread\u001b[0m\u001b[0;34m(\u001b[0m\u001b[0mmspace\u001b[0m\u001b[0;34m,\u001b[0m \u001b[0mfspace\u001b[0m\u001b[0;34m,\u001b[0m \u001b[0mdest\u001b[0m\u001b[0;34m,\u001b[0m \u001b[0mdxpl\u001b[0m\u001b[0;34m=\u001b[0m\u001b[0mself\u001b[0m\u001b[0;34m.\u001b[0m\u001b[0m_dxpl\u001b[0m\u001b[0;34m)\u001b[0m\u001b[0;34m\u001b[0m\u001b[0m\n\u001b[0m\u001b[1;32m    656\u001b[0m \u001b[0;34m\u001b[0m\u001b[0m\n\u001b[1;32m    657\u001b[0m     \u001b[0;32mdef\u001b[0m \u001b[0mwrite_direct\u001b[0m\u001b[0;34m(\u001b[0m\u001b[0mself\u001b[0m\u001b[0;34m,\u001b[0m \u001b[0msource\u001b[0m\u001b[0;34m,\u001b[0m \u001b[0msource_sel\u001b[0m\u001b[0;34m=\u001b[0m\u001b[0;32mNone\u001b[0m\u001b[0;34m,\u001b[0m \u001b[0mdest_sel\u001b[0m\u001b[0;34m=\u001b[0m\u001b[0;32mNone\u001b[0m\u001b[0;34m)\u001b[0m\u001b[0;34m:\u001b[0m\u001b[0;34m\u001b[0m\u001b[0m\n",
      "\u001b[0;31mKeyboardInterrupt\u001b[0m: "
     ]
    }
   ],
   "source": [
    "keys_1 = ['event_num', 'night', 'run_id', 'theta', 'theta_deg', 'theta_deg_off_1', 'theta_deg_off_2', 'theta_deg_off_3', 'theta_deg_off_4', 'theta_deg_off_5', 'theta_off_1', 'theta_off_1_rec_pos', 'theta_off_2', 'theta_off_2_rec_pos', 'theta_off_3', 'theta_off_3_rec_pos', 'theta_off_4', 'theta_off_4_rec_pos', 'theta_off_5', 'theta_off_5_rec_pos', 'theta_rec_pos', 'unix_time_utc']\n",
    "keys_2 = ['run_start', 'run_stop', 'source']\n",
    "\n",
    "with h5py.File('/net/big-tank/POOL/projects/fact/datasets/Crab1314_darknight_std_analysis_0.17.2.hdf5', 'r') as f:\n",
    "    data_1  = []\n",
    "    data_2  = []\n",
    "    for key in keys_1:\n",
    "        data_1.append(np.array(f['events'][key]))\n",
    "    for key in keys_2:\n",
    "        data_2.append(np.array(f['runs'][key]))\n",
    "        \n",
    "data_1 = list(map(list, zip(*data_1)))\n",
    "df_crab = pd.DataFrame(data_1)\n",
    "df_crab.columns = keys_1\n",
    "del data_1\n",
    "\n",
    "data_2 = list(map(list, zip(*data_2)))\n",
    "df_crab_runs = pd.DataFrame(data_2)\n",
    "df_crab_runs.columns = keys_2\n",
    "del data_2\n",
    "\n",
    "df_crab.shape"
   ]
  },
  {
   "cell_type": "code",
   "execution_count": 4,
   "metadata": {},
   "outputs": [
    {
     "data": {
      "text/html": [
       "<div>\n",
       "<style>\n",
       "    .dataframe thead tr:only-child th {\n",
       "        text-align: right;\n",
       "    }\n",
       "\n",
       "    .dataframe thead th {\n",
       "        text-align: left;\n",
       "    }\n",
       "\n",
       "    .dataframe tbody tr th {\n",
       "        vertical-align: top;\n",
       "    }\n",
       "</style>\n",
       "<table border=\"1\" class=\"dataframe\">\n",
       "  <thead>\n",
       "    <tr style=\"text-align: right;\">\n",
       "      <th></th>\n",
       "      <th>run_start</th>\n",
       "      <th>run_stop</th>\n",
       "      <th>source</th>\n",
       "    </tr>\n",
       "  </thead>\n",
       "  <tbody>\n",
       "    <tr>\n",
       "      <th>0</th>\n",
       "      <td>b'2013-10-04T03:41:35.000000000'</td>\n",
       "      <td>b'2013-10-04T03:46:35.000000000'</td>\n",
       "      <td>Crab</td>\n",
       "    </tr>\n",
       "    <tr>\n",
       "      <th>1</th>\n",
       "      <td>b'2013-10-04T03:46:40.000000000'</td>\n",
       "      <td>b'2013-10-04T03:51:40.000000000'</td>\n",
       "      <td>Crab</td>\n",
       "    </tr>\n",
       "    <tr>\n",
       "      <th>2</th>\n",
       "      <td>b'2013-10-04T03:51:44.000000000'</td>\n",
       "      <td>b'2013-10-04T03:56:44.000000000'</td>\n",
       "      <td>Crab</td>\n",
       "    </tr>\n",
       "    <tr>\n",
       "      <th>3</th>\n",
       "      <td>b'2013-10-04T03:56:49.000000000'</td>\n",
       "      <td>b'2013-10-04T04:01:49.000000000'</td>\n",
       "      <td>Crab</td>\n",
       "    </tr>\n",
       "    <tr>\n",
       "      <th>4</th>\n",
       "      <td>b'2013-10-04T04:08:55.000000000'</td>\n",
       "      <td>b'2013-10-04T04:13:55.000000000'</td>\n",
       "      <td>Crab</td>\n",
       "    </tr>\n",
       "  </tbody>\n",
       "</table>\n",
       "</div>"
      ],
      "text/plain": [
       "                          run_start                          run_stop source\n",
       "0  b'2013-10-04T03:41:35.000000000'  b'2013-10-04T03:46:35.000000000'   Crab\n",
       "1  b'2013-10-04T03:46:40.000000000'  b'2013-10-04T03:51:40.000000000'   Crab\n",
       "2  b'2013-10-04T03:51:44.000000000'  b'2013-10-04T03:56:44.000000000'   Crab\n",
       "3  b'2013-10-04T03:56:49.000000000'  b'2013-10-04T04:01:49.000000000'   Crab\n",
       "4  b'2013-10-04T04:08:55.000000000'  b'2013-10-04T04:13:55.000000000'   Crab"
      ]
     },
     "execution_count": 4,
     "metadata": {},
     "output_type": "execute_result"
    }
   ],
   "source": [
    "df_crab_runs.head()"
   ]
  },
  {
   "cell_type": "code",
   "execution_count": 6,
   "metadata": {},
   "outputs": [
    {
     "data": {
      "text/html": [
       "<div>\n",
       "<style>\n",
       "    .dataframe thead tr:only-child th {\n",
       "        text-align: right;\n",
       "    }\n",
       "\n",
       "    .dataframe thead th {\n",
       "        text-align: left;\n",
       "    }\n",
       "\n",
       "    .dataframe tbody tr th {\n",
       "        vertical-align: top;\n",
       "    }\n",
       "</style>\n",
       "<table border=\"1\" class=\"dataframe\">\n",
       "  <thead>\n",
       "    <tr style=\"text-align: right;\">\n",
       "      <th></th>\n",
       "      <th>night</th>\n",
       "      <th>run_id</th>\n",
       "      <th>event_num</th>\n",
       "      <th>proton_prediction</th>\n",
       "      <th>gamma_prediction</th>\n",
       "    </tr>\n",
       "  </thead>\n",
       "  <tbody>\n",
       "    <tr>\n",
       "      <th>0</th>\n",
       "      <td>20131003</td>\n",
       "      <td>187</td>\n",
       "      <td>1</td>\n",
       "      <td>0.809694</td>\n",
       "      <td>0.190306</td>\n",
       "    </tr>\n",
       "    <tr>\n",
       "      <th>1</th>\n",
       "      <td>20131003</td>\n",
       "      <td>187</td>\n",
       "      <td>2</td>\n",
       "      <td>0.954263</td>\n",
       "      <td>0.045737</td>\n",
       "    </tr>\n",
       "  </tbody>\n",
       "</table>\n",
       "</div>"
      ],
      "text/plain": [
       "      night  run_id  event_num  proton_prediction  gamma_prediction\n",
       "0  20131003     187          1           0.809694          0.190306\n",
       "1  20131003     187          2           0.954263          0.045737"
      ]
     },
     "execution_count": 6,
     "metadata": {},
     "output_type": "execute_result"
    }
   ],
   "source": [
    "df_pred = pd.read_csv(prediction_path)\n",
    "df_pred.columns = ['night', 'run_id', 'event_num', 'proton_prediction', 'gamma_prediction']\n",
    "df_pred.head(2)"
   ]
  },
  {
   "cell_type": "code",
   "execution_count": 7,
   "metadata": {},
   "outputs": [
    {
     "data": {
      "text/plain": [
       "(293547, 24)"
      ]
     },
     "execution_count": 7,
     "metadata": {},
     "output_type": "execute_result"
    }
   ],
   "source": [
    "df_merged = pd.merge(df_pred, df_crab, how='inner', on=['event_num', 'night', 'run_id'])\n",
    "df_merged.shape"
   ]
  },
  {
   "cell_type": "code",
   "execution_count": 8,
   "metadata": {
    "collapsed": true
   },
   "outputs": [],
   "source": [
    "with h5py.File(plotting_path, 'w') as hdf:\n",
    "    events = hdf.create_group('events')\n",
    "    dset_gamma_prediction = events.create_dataset('gamma_prediction', data=df_merged['gamma_prediction'].values)\n",
    "    dset_theta = events.create_dataset('theta', data=df_merged['theta'].values)\n",
    "    dset_theta_deg_off_1 = events.create_dataset('theta_deg_off_1', data=df_merged['theta_deg_off_1'].values)\n",
    "    dset_theta_deg_off_2 = events.create_dataset('theta_deg_off_2', data=df_merged['theta_deg_off_2'].values)\n",
    "    dset_theta_deg_off_3 = events.create_dataset('theta_deg_off_3', data=df_merged['theta_deg_off_3'].values)\n",
    "    dset_theta_deg_off_4 = events.create_dataset('theta_deg_off_4', data=df_merged['theta_deg_off_4'].values)\n",
    "    dset_theta_deg_off_5 = events.create_dataset('theta_deg_off_5', data=df_merged['theta_deg_off_5'].values)\n",
    "    dset_theta_deg = events.create_dataset('theta_deg', data=df_merged['theta_deg'].values)\n",
    "    dset_unix_time_utc = events.create_dataset('unix_time_utc', data=df_merged['unix_time_utc'].values.tolist())\n",
    "    \n",
    "    runs = hdf.create_group('runs')\n",
    "    dset_run_start = runs.create_dataset('run_start', data=df_crab_runs['run_start'].values.tolist())\n",
    "    dset_run_stop = runs.create_dataset('run_stop', data=df_crab_runs['run_stop'].values.tolist())"
   ]
  },
  {
   "cell_type": "code",
   "execution_count": 10,
   "metadata": {},
   "outputs": [],
   "source": [
    "def theta_square_plot(theta2_cut = 0.8, data_path = plotting_path, key = 'events', start = None, end = None, threshold = 0.5, bins = 40, alpha = 0.2, output = False):\n",
    "    import pandas as pd\n",
    "    import matplotlib.pyplot as plt\n",
    "    import numpy as np\n",
    "    import h5py\n",
    "    from dateutil.parser import parse as parse_date\n",
    "\n",
    "    from fact.io import read_h5py\n",
    "    from fact.analysis import (li_ma_significance, split_on_off_source_dependent,)\n",
    "    import click\n",
    "\n",
    "    columns = [\n",
    "        'gamma_prediction',\n",
    "        'theta_deg',\n",
    "        'theta_deg_off_1',\n",
    "        'theta_deg_off_2',\n",
    "        'theta_deg_off_3',\n",
    "        'theta_deg_off_4',\n",
    "        'theta_deg_off_5',\n",
    "        'unix_time_utc',\n",
    "    ]\n",
    "\n",
    "    stats_box_template = r'''Source: {source}, $t_\\mathrm{{obs}} = {t_obs:.2f}\\,\\mathrm{{h}}$\n",
    "    $N_\\mathrm{{On}} = {n_on}$, $N_\\mathrm{{Off}} = {n_off}$, $\\alpha = {alpha}$\n",
    "    $N_\\mathrm{{Exc}} = {n_excess:.1f} \\pm {n_excess_err:.1f}$, $S_\\mathrm{{Li&Ma}} = {significance:.1f}\\,\\sigma$\n",
    "    '''\n",
    "\n",
    "\n",
    "    theta_cut = np.sqrt(theta2_cut)\n",
    "\n",
    "    with h5py.File(data_path, 'r') as f:\n",
    "        source_dependent = 'gamma_prediction_off_1' in f[key].keys()\n",
    "\n",
    "    if source_dependent:\n",
    "        print('Separation was using source dependent features')\n",
    "        columns.extend('gamma_prediction_off_' + str(i) for i in range(1, 6))\n",
    "        theta_cut = np.inf\n",
    "        theta2_cut = np.inf\n",
    "\n",
    "    events = read_h5py(data_path, key='events', columns=columns)\n",
    "    events['timestamp'] = pd.to_datetime(events['unix_time_utc_0'] * 1e6 + events['unix_time_utc_1'],unit='us',)\n",
    "    runs = read_h5py(data_path, key='runs')\n",
    "    runs['run_start'] = pd.to_datetime(runs['run_start'])\n",
    "    runs['run_stop'] = pd.to_datetime(runs['run_stop'])\n",
    "\n",
    "    if start is not None:\n",
    "        events = events.query('timestamp >= @start')\n",
    "        runs = runs.query('run_start >= @start')\n",
    "    if end is not None:\n",
    "        events = events.query('timestamp <= @end')\n",
    "        runs = runs.query('run_stop <= @end')\n",
    "\n",
    "    if source_dependent:\n",
    "        on_data, off_data = split_on_off_source_dependent(events, threshold)\n",
    "        theta_on = on_data.theta_deg\n",
    "        theta_off = off_data.theta_deg\n",
    "    else:\n",
    "        selected = events.query('gamma_prediction >= {}'.format(threshold))\n",
    "        theta_on = selected.theta_deg\n",
    "        theta_off = pd.concat([selected['theta_deg_off_{}'.format(i)]for i in range(1, 6)])\n",
    "\n",
    "    del events\n",
    "\n",
    "    if source_dependent:\n",
    "        limits = [0,max(np.percentile(theta_on, 99)**2, np.percentile(theta_off, 99)**2),]\n",
    "    else:\n",
    "        limits = [0, 0.3]\n",
    "\n",
    "    fig = plt.figure(figsize=(5,4))\n",
    "    #plt.ylim(0, 1000)\n",
    "    ax = fig.add_subplot(1, 1, 1)\n",
    "    h_on, bin_edges = np.histogram(theta_on.apply(lambda x: x**2).values,bins=bins,range=limits)\n",
    "    h_off, bin_edges, _ = ax.hist(theta_off.apply(lambda x: x**2).values,bins=bin_edges,range=limits,weights=np.full(len(theta_off), 0.2),histtype='stepfilled',color='lightgray',)\n",
    "\n",
    "    bin_center = bin_edges[1:] - np.diff(bin_edges) * 0.5\n",
    "    bin_width = np.diff(bin_edges)\n",
    "\n",
    "    ax.errorbar(bin_center,h_on,yerr=np.sqrt(h_on) / 2,xerr=bin_width / 2,linestyle='',label='On',)\n",
    "    ax.errorbar(bin_center,h_off,yerr=alpha * np.sqrt(h_off) / 2,xerr=bin_width / 2,linestyle='',label='Off',)\n",
    "\n",
    "    if not source_dependent:\n",
    "        ax.axvline(theta_cut**2, color='gray', linestyle='--')\n",
    "\n",
    "    n_on = np.sum(theta_on < theta_cut)\n",
    "    n_off = np.sum(theta_off < theta_cut)\n",
    "    significance = li_ma_significance(n_on, n_off, alpha=alpha)\n",
    "\n",
    "\n",
    "    ax.text(0.5, 0.95,stats_box_template.format(source='Crab',t_obs=83.656,n_on=n_on, n_off=n_off, alpha=alpha,n_excess=n_on - alpha * n_off,n_excess_err=np.sqrt(n_on + alpha**2 * n_off),significance=significance,),transform=ax.transAxes,fontsize=12,va='top',ha='center',)\n",
    "\n",
    "    ax.set_xlabel(r'$(\\theta / {}^\\circ )^2$')\n",
    "    ax.legend()#(loc='lower right')\n",
    "    fig.tight_layout()\n",
    "    plt.xlim(0.0, 0.3)\n",
    "\n",
    "    if output:\n",
    "        fig.savefig(output, dpi=300)\n",
    "    else:\n",
    "        plt.show()"
   ]
  },
  {
   "cell_type": "code",
   "execution_count": 50,
   "metadata": {},
   "outputs": [],
   "source": [
    "from fact.analysis import li_ma_significance\n",
    "from fact.io import read_h5py\n",
    "\n",
    "data_path=plotting_path\n",
    "key='events'\n",
    "start=None\n",
    "end=None\n",
    "\n",
    "\n",
    "columns = [\n",
    "        'gamma_prediction',\n",
    "        'theta_deg',\n",
    "        'theta_deg_off_1',\n",
    "        'theta_deg_off_2',\n",
    "        'theta_deg_off_3',\n",
    "        'theta_deg_off_4',\n",
    "        'theta_deg_off_5',\n",
    "        'unix_time_utc',\n",
    "    ]\n",
    "\n",
    "with h5py.File(data_path, 'r') as f:\n",
    "    source_dependent = 'gamma_prediction_off_1' in f[key].keys()\n",
    "\n",
    "if source_dependent:\n",
    "    print('Separation was using source dependent features')\n",
    "    columns.extend('gamma_prediction_off_' + str(i) for i in range(1, 6))\n",
    "    theta_cut = np.inf\n",
    "    theta2_cut = np.inf\n",
    "\n",
    "events = read_h5py(data_path, key='events', columns=columns)\n",
    "events['timestamp'] = pd.to_datetime(events['unix_time_utc_0'] * 1e6 + events['unix_time_utc_1'],unit='us',)\n",
    "runs = read_h5py(data_path, key='runs')\n",
    "runs['run_start'] = pd.to_datetime(runs['run_start'])\n",
    "runs['run_stop'] = pd.to_datetime(runs['run_stop'])\n",
    "\n",
    "if start is not None:\n",
    "    events = events.query('timestamp >= @start')\n",
    "    runs = runs.query('run_start >= @start')\n",
    "if end is not None:\n",
    "    events = events.query('timestamp <= @end')\n",
    "    runs = runs.query('run_stop <= @end')\n",
    "\n",
    "\n",
    "\n",
    "thresholds = []\n",
    "for i in np.arange(0.725, 0.8, 0.001):\n",
    "    for j in np.arange(0.001, 0.04, 0.001):\n",
    "        threshold=i\n",
    "        theta2_cut=j\n",
    "\n",
    "        theta_cut = np.sqrt(theta2_cut)\n",
    "\n",
    "        if source_dependent:\n",
    "            on_data, off_data = split_on_off_source_dependent(events, threshold)\n",
    "            theta_on = on_data.theta_deg\n",
    "            theta_off = off_data.theta_deg\n",
    "        else:\n",
    "            selected = events.query('gamma_prediction >= {}'.format(threshold))\n",
    "            theta_on = selected.theta_deg\n",
    "            theta_off = pd.concat([selected['theta_deg_off_{}'.format(i)]for i in range(1, 6)])\n",
    "\n",
    "        n_on = np.sum(theta_on < theta_cut)\n",
    "        n_off = np.sum(theta_off < theta_cut)\n",
    "\n",
    "        significance = li_ma_significance(n_on, n_off, alpha=0.2)\n",
    "        thresholds.append([i, j, significance])"
   ]
  },
  {
   "cell_type": "code",
   "execution_count": 51,
   "metadata": {},
   "outputs": [
    {
     "data": {
      "image/png": "[encoded data removed]",
      "text/plain": [
       "<matplotlib.figure.Figure at 0x7f03e610b550>"
      ]
     },
     "metadata": {},
     "output_type": "display_data"
    }
   ],
   "source": [
    "i, j, s = zip(*thresholds)\n",
    "\n",
    "plt.scatter(x=i, y=j, c=s, cmap='inferno', marker='s')\n",
    "plt.xlabel('threshold')\n",
    "plt.ylabel('cut')\n",
    "plt.show()"
   ]
  },
  {
   "cell_type": "code",
   "execution_count": 52,
   "metadata": {},
   "outputs": [
    {
     "name": "stdout",
     "output_type": "stream",
     "text": [
      "[0.76600000000000001, 0.026000000000000002, 24.399341390006484]\n",
      "24.39934139\n"
     ]
    }
   ],
   "source": [
    "import matplotlib.pyplot as plt\n",
    "for elem in thresholds:\n",
    "    if elem[2]==max(s):\n",
    "        print(elem)\n",
    "print(max(s))"
   ]
  },
  {
   "cell_type": "code",
   "execution_count": 11,
   "metadata": {
    "scrolled": false
   },
   "outputs": [
    {
     "data": {
      "image/png": "[encoded data removed]",
      "text/plain": [
       "<matplotlib.figure.Figure at 0x7fab5ec27828>"
      ]
     },
     "metadata": {},
     "output_type": "display_data"
    }
   ],
   "source": [
    "theta_square_plot(theta2_cut=0.026, data_path=plotting_path, key='events', start=None, end=None, threshold=0.766, bins=60, alpha=0.2, output=False)"
   ]
  },
  {
   "cell_type": "code",
   "execution_count": null,
   "metadata": {
    "collapsed": true
   },
   "outputs": [],
   "source": []
  },
  {
   "cell_type": "code",
   "execution_count": null,
   "metadata": {
    "collapsed": true
   },
   "outputs": [],
   "source": []
  },
  {
   "cell_type": "code",
   "execution_count": 1,
   "metadata": {
    "collapsed": true
   },
   "outputs": [],
   "source": [
    "import h5py\n",
    "import numpy as np\n",
    "import pandas as pd"
   ]
  },
  {
   "cell_type": "code",
   "execution_count": 2,
   "metadata": {},
   "outputs": [],
   "source": [
    "path = '/fhgfs/users/jbehnken/make_Data/Crab1314_darknight_std_analysis_0.17.2.hdf5'\n",
    "prediction_path = '/fhgfs/users/jbehnken/make_Data/crab1314_prediction.csv'\n",
    "\n",
    "with h5py.File(path, 'r') as f:\n",
    "    night = np.array(f['runs']['night'])\n",
    "    run_id = np.array(f['runs']['run_id'])\n",
    "    ontime = np.array(f['runs']['ontime'])"
   ]
  },
  {
   "cell_type": "code",
   "execution_count": 3,
   "metadata": {},
   "outputs": [
    {
     "data": {
      "text/plain": [
       "83.65641758333334"
      ]
     },
     "execution_count": 3,
     "metadata": {},
     "output_type": "execute_result"
    }
   ],
   "source": [
    "df = pd.read_csv(prediction_path)\n",
    "df = df[['Night', 'Run']]\n",
    "df = df.drop_duplicates()\n",
    "\n",
    "theta_df = pd.DataFrame(list(zip(night, run_id, ontime)), columns=['Night', 'Run', 'Ontime'])\n",
    "\n",
    "merge_df = df.merge(theta_df)\n",
    "merge_df['Ontime'].sum()/3600"
   ]
  },
  {
   "cell_type": "code",
   "execution_count": null,
   "metadata": {
    "collapsed": true
   },
   "outputs": [],
   "source": []
  }
 ],
 "metadata": {
  "kernelspec": {
   "display_name": "Python [conda env:keras]",
   "language": "python",
   "name": "conda-env-keras-py"
  },
  "language_info": {
   "codemirror_mode": {
    "name": "ipython",
    "version": 3
   },
   "file_extension": ".py",
   "mimetype": "text/x-python",
   "name": "python",
   "nbconvert_exporter": "python",
   "pygments_lexer": "ipython3",
   "version": "3.5.3"
  }
 },
 "nbformat": 4,
 "nbformat_minor": 2
}
