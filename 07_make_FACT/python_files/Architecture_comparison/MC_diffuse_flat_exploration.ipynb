{
 "cells": [
  {
   "cell_type": "code",
   "execution_count": 1,
   "metadata": {
    "collapsed": false
   },
   "outputs": [
    {
     "name": "stdout",
     "output_type": "stream",
     "text": [
      "Lines in File 10626\n",
      "Good lines (highest 2 next to each other and in 30-60) 3744\n",
      "# Photon-Count 27312544\n",
      "# Matrizes 10626\n",
      "Min Timeslice 30\n",
      "Max Timeslice 129\n"
     ]
    },
    {
     "data": {
      "image/png": "[encoded data removed]",
      "text/plain": [
       "<matplotlib.figure.Figure at 0x7fbc6c3a86d8>"
      ]
     },
     "metadata": {},
     "output_type": "display_data"
    },
    {
     "data": {
      "image/png": "[encoded data removed]",
      "text/plain": [
       "<matplotlib.figure.Figure at 0x7fbc608bce48>"
      ]
     },
     "metadata": {},
     "output_type": "display_data"
    },
    {
     "name": "stdout",
     "output_type": "stream",
     "text": [
      "# Min Photon-Count 0.0\n",
      "# Max Photon-Count 327.0\n",
      "# Flattened Matrices 2199582000\n"
     ]
    },
    {
     "data": {
      "image/png": "[encoded data removed]",
      "text/plain": [
       "<matplotlib.figure.Figure at 0x7fbc64952c88>"
      ]
     },
     "metadata": {},
     "output_type": "display_data"
    }
   ],
   "source": [
    "from multiprocessing import Pool\n",
    "import numpy as np\n",
    "import operator\n",
    "import random\n",
    "import pickle\n",
    "import gzip\n",
    "import json\n",
    "import os\n",
    "\n",
    "mc_data_path = '/fhgfs/groups/app/fact/simulated/photon_stream/mc/gammas/diffuse/gamma_gustav_12/'\n",
    "id_position_path = '/home/jbehnken/07_make_FACT/hexagonal_to_quadratic_mapping_dict.p'\n",
    "path_build = '/home/jbehnken/07_make_FACT/build/'\n",
    "\n",
    "def getMetadata():\n",
    "    '''\n",
    "    Gathers the file paths of the training data\n",
    "    '''\n",
    "    # Iterate over every file in the subdirs and check if it has the right file extension\n",
    "    file_paths = [os.path.join(dirPath, file) for dirPath, dirName, fileName in os.walk(os.path.expanduser(mc_data_path)) for file in fileName if '.json' in file]\n",
    "    return file_paths\n",
    "\n",
    "file_paths = getMetadata()\n",
    "id_position = pickle.load(open(id_position_path, \"rb\"))\n",
    "\n",
    "data = []\n",
    "num = 0\n",
    "\n",
    "photons = []\n",
    "most = []\n",
    "matricies = []\n",
    "false_image = []\n",
    "for path in file_paths[:1]:\n",
    "    with gzip.open(path) as file:\n",
    "        # Gamma=True, Proton=False\n",
    "        label = True if 'gamma' in path else False\n",
    "        \n",
    "        lines = 0\n",
    "        for line in file:\n",
    "            lines += 1\n",
    "            event_photons = json.loads(line.decode('utf-8'))['PhotonArrivals_500ps']\n",
    "            \n",
    "            event = []\n",
    "            input_matrix = np.zeros([46,45,100])\n",
    "            for i in range(1440):\n",
    "                event.extend(event_photons[i])\n",
    "                \n",
    "                x, y = id_position[i]\n",
    "                for value in event_photons[i]:\n",
    "                    input_matrix[int(x)][int(y)][value-30] += 1\n",
    "            \n",
    "            photons.extend(event)\n",
    "            matricies.append(input_matrix)\n",
    "            \n",
    "            count_dict = {}\n",
    "            for i in event:\n",
    "                if i in count_dict.keys():\n",
    "                    count_dict[i] += 1\n",
    "                else:\n",
    "                    count_dict[i] = 1\n",
    "                    \n",
    "            sorted_dict = sorted(count_dict.items(), key=operator.itemgetter(1), reverse=True)\n",
    "            one = sorted_dict[0][0]\n",
    "            two = sorted_dict[1][0]\n",
    "            most.extend([one])\n",
    "            \n",
    "            if one>70:\n",
    "                false_image.append(event)\n",
    "            \n",
    "            if one==two or one==two+1 or one==two-1 and one>=30 and one<=60:\n",
    "                input_matrix = np.sum(input_matrix[:,:,one-32:one-28], axis=2)\n",
    "                data.append([input_matrix, label])\n",
    "                \n",
    "print('Lines in File', lines)\n",
    "print('Good lines (highest 2 next to each other and in 30-60)', len(data))\n",
    "\n",
    "print('# Photon-Count', len(photons))\n",
    "\n",
    "print('# Matrizes', len(matricies))\n",
    "\n",
    "import matplotlib.pyplot as plt\n",
    "print('Min Timeslice', min(photons))\n",
    "print('Max Timeslice', max(photons))\n",
    "\n",
    "plt.hist(photons, bins=max(photons)-min(photons)+1)\n",
    "plt.title('Verteilung der ankommenden Photonen')\n",
    "plt.xlabel('Ankunftszeit')\n",
    "plt.savefig(path_build+'Arrivaltimes_of_all_photons.pdf')\n",
    "plt.show()\n",
    "\n",
    "    \n",
    "plt.hist(most, bins=max(most)-min(most)+1)\n",
    "plt.title('Verteilung der Ankunftszeit mit den meisten Photonen')\n",
    "plt.xlabel('Ankunftszeit')\n",
    "plt.savefig(path_build+'Arrivaltimes_of_the_highest_photon-rate.pdf')\n",
    "plt.show()\n",
    "\n",
    "matrizen = np.array(matricies).flatten()\n",
    "\n",
    "print('# Min Photon-Count', np.min(matrizen))\n",
    "print('# Max Photon-Count', np.max(matrizen))\n",
    "\n",
    "print('# Flattened Matrices', len(matrizen))\n",
    "\n",
    "plt.hist(matrizen, bins=int(np.max(matrizen))+1)\n",
    "plt.xlabel('Photons per pixel')\n",
    "plt.ylabel('Count')\n",
    "plt.yscale('log')\n",
    "plt.savefig(path_build+'Distribution_of_photon-count_per_pixel.pdf')\n",
    "plt.show()"
   ]
  },
  {
   "cell_type": "code",
   "execution_count": null,
   "metadata": {
    "collapsed": true
   },
   "outputs": [],
   "source": []
  }
 ],
 "metadata": {
  "kernelspec": {
   "display_name": "Python [default]",
   "language": "python",
   "name": "python3"
  },
  "language_info": {
   "codemirror_mode": {
    "name": "ipython",
    "version": 3
   },
   "file_extension": ".py",
   "mimetype": "text/x-python",
   "name": "python",
   "nbconvert_exporter": "python",
   "pygments_lexer": "ipython3",
   "version": "3.5.3"
  }
 },
 "nbformat": 4,
 "nbformat_minor": 2
}
